{
 "cells": [
  {
   "cell_type": "code",
   "execution_count": 1,
   "metadata": {},
   "outputs": [],
   "source": [
    "#import all relevant packages\n",
    "import torch, torchvision\n",
    "import torchvision.transforms as transforms\n",
    "import numpy as np\n",
    "from backpack import backpack, extend\n",
    "from backpack.extensions import DiagHessian\n",
    "import matplotlib.pyplot as plt\n",
    "from torch.distributions.multivariate_normal import MultivariateNormal\n",
    "from torch.distributions.normal import Normal\n",
    "from torch.nn import functional as F\n",
    "\n",
    "s=40\n",
    "np.random.seed(s)\n",
    "torch.manual_seed(s)\n",
    "torch.cuda.manual_seed(s)\n",
    "\n",
    "torch.backends.cudnn.deterministic = True\n",
    "torch.backends.cudnn.benchmark = False"
   ]
  },
  {
   "cell_type": "markdown",
   "metadata": {},
   "source": [
    "# Data wrangling"
   ]
  },
  {
   "cell_type": "code",
   "execution_count": 2,
   "metadata": {},
   "outputs": [],
   "source": [
    "# data wrangling: load MNIST\n",
    "MNIST_transform = transforms.Compose([\n",
    "    transforms.ToTensor(),\n",
    "])\n",
    "\n",
    "\n",
    "MNIST_train = torchvision.datasets.MNIST(\n",
    "        '~/data/mnist',\n",
    "        train=True,\n",
    "        download=True,\n",
    "        transform=MNIST_transform)\n",
    "\n",
    "\n",
    "MNIST_test = torchvision.datasets.MNIST(\n",
    "        '~/data/mnist',\n",
    "        train=False,\n",
    "        download=False,\n",
    "        transform=MNIST_transform)\n"
   ]
  },
  {
   "cell_type": "code",
   "execution_count": 3,
   "metadata": {},
   "outputs": [
    {
     "data": {
      "image/png": "[encoded data removed]",
      "text/plain": [
       "<Figure size 432x288 with 1 Axes>"
      ]
     },
     "metadata": {
      "needs_background": "light"
     },
     "output_type": "display_data"
    }
   ],
   "source": [
    "# have a look at the data to verify\n",
    "def imshow(img):\n",
    "    npimg = img.numpy()\n",
    "    plt.imshow(np.transpose(npimg, (1, 2, 0)))\n",
    "    #plt.imshow(npimg)\n",
    "    plt.show()\n",
    "\n",
    "images = MNIST_train.data[:10].view(10, 1, 28, 28)\n",
    "imshow(torchvision.utils.make_grid(images, nrow=5))\n"
   ]
  },
  {
   "cell_type": "code",
   "execution_count": 4,
   "metadata": {},
   "outputs": [],
   "source": [
    "mnist_train_loader = torch.utils.data.dataloader.DataLoader(\n",
    "    MNIST_train,\n",
    "    batch_size=128,\n",
    "    shuffle=True\n",
    ")\n",
    "\n",
    "mnist_test_loader = torch.utils.data.dataloader.DataLoader(\n",
    "    MNIST_test,\n",
    "    batch_size=128,\n",
    "    shuffle=False,\n",
    ")\n"
   ]
  },
  {
   "cell_type": "markdown",
   "metadata": {},
   "source": [
    "# Training routine"
   ]
  },
  {
   "cell_type": "code",
   "execution_count": 5,
   "metadata": {},
   "outputs": [],
   "source": [
    "#set up the network\n",
    "def NN(num_classes=10):\n",
    "    \n",
    "    features = torch.nn.Sequential(\n",
    "        torch.nn.Conv2d(1, 32, 5),\n",
    "        torch.nn.ReLU(),\n",
    "        torch.nn.MaxPool2d(2,2),\n",
    "        torch.nn.Conv2d(32, 32, 5),\n",
    "        torch.nn.ReLU(),\n",
    "        torch.nn.MaxPool2d(2,2),\n",
    "        torch.nn.Flatten(),\n",
    "        torch.nn.Linear(4 * 4 * 32, num_classes)\n",
    "    )\n",
    "    return(features)\n"
   ]
  },
  {
   "cell_type": "code",
   "execution_count": 6,
   "metadata": {},
   "outputs": [],
   "source": [
    "#set up the training routine\n",
    "mnist_model = NN(num_classes=10)\n",
    "loss_function = torch.nn.CrossEntropyLoss()\n",
    "\n",
    "mnist_train_optimizer = torch.optim.Adam(mnist_model.parameters(), lr=1e-3, weight_decay=5e-4)\n",
    "#dont use SGD, it is way worse than Adam here\n",
    "MNIST_PATH = \"MNIST_weights_seed={}.pth\".format(s)\n",
    "#print(MNIST_PATH)"
   ]
  },
  {
   "cell_type": "code",
   "execution_count": 7,
   "metadata": {},
   "outputs": [],
   "source": [
    "# helper function to get accuracy\n",
    "def get_accuracy(output, targets):\n",
    "    \"\"\"Helper function to print the accuracy\"\"\"\n",
    "    predictions = output.argmax(dim=1, keepdim=True).view_as(targets)\n",
    "    return predictions.eq(targets).float().mean().item()\n"
   ]
  },
  {
   "cell_type": "code",
   "execution_count": 8,
   "metadata": {},
   "outputs": [],
   "source": [
    "# Write the training routine and save the model at FMNIST_PATH\n",
    "\n",
    "def train(verbose=False, num_iter=5):\n",
    "    max_len = len(mnist_train_loader)\n",
    "    for iter in range(num_iter):\n",
    "        for batch_idx, (x, y) in enumerate(mnist_train_loader):\n",
    "            output = mnist_model(x)\n",
    "\n",
    "            accuracy = get_accuracy(output, y)\n",
    "\n",
    "            loss = loss_function(output, y)\n",
    "            loss.backward()\n",
    "            mnist_train_optimizer.step()\n",
    "            mnist_train_optimizer.zero_grad()\n",
    "\n",
    "            if verbose:\n",
    "                if batch_idx % 10 == 0:\n",
    "                    print(\n",
    "                        \"Iteration {}; {}/{} \\t\".format(iter, batch_idx, max_len) +\n",
    "                        \"Minibatch Loss %.3f  \" % (loss) +\n",
    "                        \"Accuracy %.0f\" % (accuracy * 100) + \"%\"\n",
    "                    )\n",
    "\n",
    "    print(\"saving model at: {}\".format(MNIST_PATH))\n",
    "    torch.save(mnist_model.state_dict(), MNIST_PATH)"
   ]
  },
  {
   "cell_type": "code",
   "execution_count": 9,
   "metadata": {
    "scrolled": false
   },
   "outputs": [
    {
     "name": "stdout",
     "output_type": "stream",
     "text": [
      "Iteration 0; 0/469 \tMinibatch Loss 2.286  Accuracy 16%\n",
      "Iteration 0; 10/469 \tMinibatch Loss 1.886  Accuracy 58%\n",
      "Iteration 0; 20/469 \tMinibatch Loss 1.056  Accuracy 79%\n",
      "Iteration 0; 30/469 \tMinibatch Loss 0.684  Accuracy 74%\n",
      "Iteration 0; 40/469 \tMinibatch Loss 0.501  Accuracy 84%\n",
      "Iteration 0; 50/469 \tMinibatch Loss 0.360  Accuracy 88%\n",
      "Iteration 0; 60/469 \tMinibatch Loss 0.301  Accuracy 91%\n",
      "Iteration 0; 70/469 \tMinibatch Loss 0.377  Accuracy 90%\n",
      "Iteration 0; 80/469 \tMinibatch Loss 0.333  Accuracy 91%\n",
      "Iteration 0; 90/469 \tMinibatch Loss 0.399  Accuracy 90%\n",
      "Iteration 0; 100/469 \tMinibatch Loss 0.235  Accuracy 92%\n",
      "Iteration 0; 110/469 \tMinibatch Loss 0.323  Accuracy 93%\n",
      "Iteration 0; 120/469 \tMinibatch Loss 0.195  Accuracy 94%\n",
      "Iteration 0; 130/469 \tMinibatch Loss 0.277  Accuracy 91%\n",
      "Iteration 0; 140/469 \tMinibatch Loss 0.230  Accuracy 90%\n",
      "Iteration 0; 150/469 \tMinibatch Loss 0.210  Accuracy 95%\n",
      "Iteration 0; 160/469 \tMinibatch Loss 0.153  Accuracy 95%\n",
      "Iteration 0; 170/469 \tMinibatch Loss 0.199  Accuracy 93%\n",
      "Iteration 0; 180/469 \tMinibatch Loss 0.138  Accuracy 95%\n",
      "Iteration 0; 190/469 \tMinibatch Loss 0.311  Accuracy 93%\n",
      "Iteration 0; 200/469 \tMinibatch Loss 0.169  Accuracy 97%\n",
      "Iteration 0; 210/469 \tMinibatch Loss 0.134  Accuracy 97%\n",
      "Iteration 0; 220/469 \tMinibatch Loss 0.237  Accuracy 91%\n",
      "Iteration 0; 230/469 \tMinibatch Loss 0.142  Accuracy 96%\n",
      "Iteration 0; 240/469 \tMinibatch Loss 0.199  Accuracy 96%\n",
      "Iteration 0; 250/469 \tMinibatch Loss 0.145  Accuracy 95%\n",
      "Iteration 0; 260/469 \tMinibatch Loss 0.208  Accuracy 95%\n",
      "Iteration 0; 270/469 \tMinibatch Loss 0.048  Accuracy 99%\n",
      "Iteration 0; 280/469 \tMinibatch Loss 0.148  Accuracy 95%\n",
      "Iteration 0; 290/469 \tMinibatch Loss 0.136  Accuracy 97%\n",
      "Iteration 0; 300/469 \tMinibatch Loss 0.180  Accuracy 95%\n",
      "Iteration 0; 310/469 \tMinibatch Loss 0.167  Accuracy 96%\n",
      "Iteration 0; 320/469 \tMinibatch Loss 0.110  Accuracy 96%\n",
      "Iteration 0; 330/469 \tMinibatch Loss 0.083  Accuracy 96%\n",
      "Iteration 0; 340/469 \tMinibatch Loss 0.126  Accuracy 95%\n",
      "Iteration 0; 350/469 \tMinibatch Loss 0.149  Accuracy 95%\n",
      "Iteration 0; 360/469 \tMinibatch Loss 0.055  Accuracy 98%\n",
      "Iteration 0; 370/469 \tMinibatch Loss 0.069  Accuracy 97%\n",
      "Iteration 0; 380/469 \tMinibatch Loss 0.078  Accuracy 98%\n",
      "Iteration 0; 390/469 \tMinibatch Loss 0.055  Accuracy 98%\n",
      "Iteration 0; 400/469 \tMinibatch Loss 0.144  Accuracy 98%\n",
      "Iteration 0; 410/469 \tMinibatch Loss 0.053  Accuracy 99%\n",
      "Iteration 0; 420/469 \tMinibatch Loss 0.079  Accuracy 97%\n",
      "Iteration 0; 430/469 \tMinibatch Loss 0.137  Accuracy 97%\n",
      "Iteration 0; 440/469 \tMinibatch Loss 0.129  Accuracy 95%\n",
      "Iteration 0; 450/469 \tMinibatch Loss 0.196  Accuracy 96%\n",
      "Iteration 0; 460/469 \tMinibatch Loss 0.074  Accuracy 97%\n",
      "Iteration 1; 0/469 \tMinibatch Loss 0.257  Accuracy 95%\n",
      "Iteration 1; 10/469 \tMinibatch Loss 0.077  Accuracy 98%\n",
      "Iteration 1; 20/469 \tMinibatch Loss 0.118  Accuracy 95%\n",
      "Iteration 1; 30/469 \tMinibatch Loss 0.079  Accuracy 98%\n",
      "Iteration 1; 40/469 \tMinibatch Loss 0.059  Accuracy 98%\n",
      "Iteration 1; 50/469 \tMinibatch Loss 0.095  Accuracy 95%\n",
      "Iteration 1; 60/469 \tMinibatch Loss 0.042  Accuracy 98%\n",
      "Iteration 1; 70/469 \tMinibatch Loss 0.056  Accuracy 98%\n",
      "Iteration 1; 80/469 \tMinibatch Loss 0.080  Accuracy 98%\n",
      "Iteration 1; 90/469 \tMinibatch Loss 0.104  Accuracy 97%\n",
      "Iteration 1; 100/469 \tMinibatch Loss 0.129  Accuracy 95%\n",
      "Iteration 1; 110/469 \tMinibatch Loss 0.075  Accuracy 97%\n",
      "Iteration 1; 120/469 \tMinibatch Loss 0.082  Accuracy 97%\n",
      "Iteration 1; 130/469 \tMinibatch Loss 0.035  Accuracy 99%\n",
      "Iteration 1; 140/469 \tMinibatch Loss 0.075  Accuracy 97%\n",
      "Iteration 1; 150/469 \tMinibatch Loss 0.026  Accuracy 100%\n",
      "Iteration 1; 160/469 \tMinibatch Loss 0.109  Accuracy 95%\n",
      "Iteration 1; 170/469 \tMinibatch Loss 0.061  Accuracy 99%\n",
      "Iteration 1; 180/469 \tMinibatch Loss 0.040  Accuracy 99%\n",
      "Iteration 1; 190/469 \tMinibatch Loss 0.058  Accuracy 98%\n",
      "Iteration 1; 200/469 \tMinibatch Loss 0.049  Accuracy 98%\n",
      "Iteration 1; 210/469 \tMinibatch Loss 0.115  Accuracy 95%\n",
      "Iteration 1; 220/469 \tMinibatch Loss 0.078  Accuracy 98%\n",
      "Iteration 1; 230/469 \tMinibatch Loss 0.060  Accuracy 97%\n",
      "Iteration 1; 240/469 \tMinibatch Loss 0.076  Accuracy 98%\n",
      "Iteration 1; 250/469 \tMinibatch Loss 0.128  Accuracy 98%\n",
      "Iteration 1; 260/469 \tMinibatch Loss 0.036  Accuracy 98%\n",
      "Iteration 1; 270/469 \tMinibatch Loss 0.040  Accuracy 99%\n",
      "Iteration 1; 280/469 \tMinibatch Loss 0.032  Accuracy 99%\n",
      "Iteration 1; 290/469 \tMinibatch Loss 0.062  Accuracy 98%\n",
      "Iteration 1; 300/469 \tMinibatch Loss 0.065  Accuracy 98%\n",
      "Iteration 1; 310/469 \tMinibatch Loss 0.074  Accuracy 97%\n",
      "Iteration 1; 320/469 \tMinibatch Loss 0.034  Accuracy 98%\n",
      "Iteration 1; 330/469 \tMinibatch Loss 0.084  Accuracy 97%\n",
      "Iteration 1; 340/469 \tMinibatch Loss 0.024  Accuracy 100%\n",
      "Iteration 1; 350/469 \tMinibatch Loss 0.084  Accuracy 98%\n",
      "Iteration 1; 360/469 \tMinibatch Loss 0.083  Accuracy 96%\n",
      "Iteration 1; 370/469 \tMinibatch Loss 0.069  Accuracy 98%\n",
      "Iteration 1; 380/469 \tMinibatch Loss 0.095  Accuracy 96%\n",
      "Iteration 1; 390/469 \tMinibatch Loss 0.086  Accuracy 96%\n",
      "Iteration 1; 400/469 \tMinibatch Loss 0.051  Accuracy 98%\n",
      "Iteration 1; 410/469 \tMinibatch Loss 0.144  Accuracy 95%\n",
      "Iteration 1; 420/469 \tMinibatch Loss 0.057  Accuracy 98%\n",
      "Iteration 1; 430/469 \tMinibatch Loss 0.100  Accuracy 96%\n",
      "Iteration 1; 440/469 \tMinibatch Loss 0.048  Accuracy 98%\n",
      "Iteration 1; 450/469 \tMinibatch Loss 0.137  Accuracy 95%\n",
      "Iteration 1; 460/469 \tMinibatch Loss 0.141  Accuracy 97%\n",
      "Iteration 2; 0/469 \tMinibatch Loss 0.103  Accuracy 96%\n",
      "Iteration 2; 10/469 \tMinibatch Loss 0.016  Accuracy 100%\n",
      "Iteration 2; 20/469 \tMinibatch Loss 0.060  Accuracy 98%\n",
      "Iteration 2; 30/469 \tMinibatch Loss 0.019  Accuracy 99%\n",
      "Iteration 2; 40/469 \tMinibatch Loss 0.016  Accuracy 100%\n",
      "Iteration 2; 50/469 \tMinibatch Loss 0.023  Accuracy 100%\n",
      "Iteration 2; 60/469 \tMinibatch Loss 0.034  Accuracy 99%\n",
      "Iteration 2; 70/469 \tMinibatch Loss 0.077  Accuracy 97%\n",
      "Iteration 2; 80/469 \tMinibatch Loss 0.078  Accuracy 98%\n",
      "Iteration 2; 90/469 \tMinibatch Loss 0.074  Accuracy 98%\n",
      "Iteration 2; 100/469 \tMinibatch Loss 0.081  Accuracy 98%\n",
      "Iteration 2; 110/469 \tMinibatch Loss 0.040  Accuracy 98%\n",
      "Iteration 2; 120/469 \tMinibatch Loss 0.110  Accuracy 97%\n",
      "Iteration 2; 130/469 \tMinibatch Loss 0.024  Accuracy 100%\n",
      "Iteration 2; 140/469 \tMinibatch Loss 0.047  Accuracy 98%\n",
      "Iteration 2; 150/469 \tMinibatch Loss 0.085  Accuracy 97%\n",
      "Iteration 2; 160/469 \tMinibatch Loss 0.094  Accuracy 97%\n",
      "Iteration 2; 170/469 \tMinibatch Loss 0.054  Accuracy 98%\n",
      "Iteration 2; 180/469 \tMinibatch Loss 0.059  Accuracy 99%\n",
      "Iteration 2; 190/469 \tMinibatch Loss 0.056  Accuracy 98%\n",
      "Iteration 2; 200/469 \tMinibatch Loss 0.107  Accuracy 96%\n",
      "Iteration 2; 210/469 \tMinibatch Loss 0.016  Accuracy 99%\n",
      "Iteration 2; 220/469 \tMinibatch Loss 0.017  Accuracy 99%\n",
      "Iteration 2; 230/469 \tMinibatch Loss 0.030  Accuracy 100%\n",
      "Iteration 2; 240/469 \tMinibatch Loss 0.039  Accuracy 98%\n",
      "Iteration 2; 250/469 \tMinibatch Loss 0.035  Accuracy 99%\n",
      "Iteration 2; 260/469 \tMinibatch Loss 0.044  Accuracy 98%\n",
      "Iteration 2; 270/469 \tMinibatch Loss 0.030  Accuracy 99%\n",
      "Iteration 2; 280/469 \tMinibatch Loss 0.038  Accuracy 98%\n",
      "Iteration 2; 290/469 \tMinibatch Loss 0.028  Accuracy 98%\n",
      "Iteration 2; 300/469 \tMinibatch Loss 0.039  Accuracy 98%\n",
      "Iteration 2; 310/469 \tMinibatch Loss 0.022  Accuracy 100%\n",
      "Iteration 2; 320/469 \tMinibatch Loss 0.015  Accuracy 100%\n",
      "Iteration 2; 330/469 \tMinibatch Loss 0.057  Accuracy 98%\n",
      "Iteration 2; 340/469 \tMinibatch Loss 0.126  Accuracy 96%\n",
      "Iteration 2; 350/469 \tMinibatch Loss 0.101  Accuracy 96%\n",
      "Iteration 2; 360/469 \tMinibatch Loss 0.068  Accuracy 97%\n",
      "Iteration 2; 370/469 \tMinibatch Loss 0.064  Accuracy 98%\n",
      "Iteration 2; 380/469 \tMinibatch Loss 0.044  Accuracy 98%\n",
      "Iteration 2; 390/469 \tMinibatch Loss 0.037  Accuracy 98%\n",
      "Iteration 2; 400/469 \tMinibatch Loss 0.092  Accuracy 98%\n",
      "Iteration 2; 410/469 \tMinibatch Loss 0.057  Accuracy 99%\n",
      "Iteration 2; 420/469 \tMinibatch Loss 0.050  Accuracy 99%\n",
      "Iteration 2; 430/469 \tMinibatch Loss 0.043  Accuracy 98%\n",
      "Iteration 2; 440/469 \tMinibatch Loss 0.051  Accuracy 98%\n",
      "Iteration 2; 450/469 \tMinibatch Loss 0.048  Accuracy 98%\n",
      "Iteration 2; 460/469 \tMinibatch Loss 0.049  Accuracy 99%\n",
      "Iteration 3; 0/469 \tMinibatch Loss 0.027  Accuracy 100%\n",
      "Iteration 3; 10/469 \tMinibatch Loss 0.112  Accuracy 98%\n",
      "Iteration 3; 20/469 \tMinibatch Loss 0.025  Accuracy 100%\n",
      "Iteration 3; 30/469 \tMinibatch Loss 0.028  Accuracy 98%\n"
     ]
    },
    {
     "name": "stdout",
     "output_type": "stream",
     "text": [
      "Iteration 3; 40/469 \tMinibatch Loss 0.052  Accuracy 98%\n",
      "Iteration 3; 50/469 \tMinibatch Loss 0.036  Accuracy 98%\n",
      "Iteration 3; 60/469 \tMinibatch Loss 0.009  Accuracy 100%\n",
      "Iteration 3; 70/469 \tMinibatch Loss 0.056  Accuracy 98%\n",
      "Iteration 3; 80/469 \tMinibatch Loss 0.049  Accuracy 99%\n",
      "Iteration 3; 90/469 \tMinibatch Loss 0.040  Accuracy 98%\n",
      "Iteration 3; 100/469 \tMinibatch Loss 0.050  Accuracy 98%\n",
      "Iteration 3; 110/469 \tMinibatch Loss 0.052  Accuracy 99%\n",
      "Iteration 3; 120/469 \tMinibatch Loss 0.129  Accuracy 97%\n",
      "Iteration 3; 130/469 \tMinibatch Loss 0.057  Accuracy 98%\n",
      "Iteration 3; 140/469 \tMinibatch Loss 0.021  Accuracy 100%\n",
      "Iteration 3; 150/469 \tMinibatch Loss 0.028  Accuracy 99%\n",
      "Iteration 3; 160/469 \tMinibatch Loss 0.011  Accuracy 100%\n",
      "Iteration 3; 170/469 \tMinibatch Loss 0.021  Accuracy 99%\n",
      "Iteration 3; 180/469 \tMinibatch Loss 0.029  Accuracy 100%\n",
      "Iteration 3; 190/469 \tMinibatch Loss 0.040  Accuracy 98%\n",
      "Iteration 3; 200/469 \tMinibatch Loss 0.008  Accuracy 100%\n",
      "Iteration 3; 210/469 \tMinibatch Loss 0.049  Accuracy 99%\n",
      "Iteration 3; 220/469 \tMinibatch Loss 0.046  Accuracy 98%\n",
      "Iteration 3; 230/469 \tMinibatch Loss 0.050  Accuracy 98%\n",
      "Iteration 3; 240/469 \tMinibatch Loss 0.093  Accuracy 98%\n",
      "Iteration 3; 250/469 \tMinibatch Loss 0.046  Accuracy 98%\n",
      "Iteration 3; 260/469 \tMinibatch Loss 0.044  Accuracy 99%\n",
      "Iteration 3; 270/469 \tMinibatch Loss 0.016  Accuracy 100%\n",
      "Iteration 3; 280/469 \tMinibatch Loss 0.023  Accuracy 100%\n",
      "Iteration 3; 290/469 \tMinibatch Loss 0.017  Accuracy 99%\n",
      "Iteration 3; 300/469 \tMinibatch Loss 0.032  Accuracy 98%\n",
      "Iteration 3; 310/469 \tMinibatch Loss 0.020  Accuracy 99%\n",
      "Iteration 3; 320/469 \tMinibatch Loss 0.036  Accuracy 99%\n",
      "Iteration 3; 330/469 \tMinibatch Loss 0.104  Accuracy 96%\n",
      "Iteration 3; 340/469 \tMinibatch Loss 0.011  Accuracy 100%\n",
      "Iteration 3; 350/469 \tMinibatch Loss 0.035  Accuracy 98%\n",
      "Iteration 3; 360/469 \tMinibatch Loss 0.075  Accuracy 98%\n",
      "Iteration 3; 370/469 \tMinibatch Loss 0.035  Accuracy 99%\n",
      "Iteration 3; 380/469 \tMinibatch Loss 0.028  Accuracy 100%\n",
      "Iteration 3; 390/469 \tMinibatch Loss 0.077  Accuracy 98%\n",
      "Iteration 3; 400/469 \tMinibatch Loss 0.040  Accuracy 98%\n",
      "Iteration 3; 410/469 \tMinibatch Loss 0.093  Accuracy 98%\n",
      "Iteration 3; 420/469 \tMinibatch Loss 0.027  Accuracy 99%\n",
      "Iteration 3; 430/469 \tMinibatch Loss 0.052  Accuracy 99%\n",
      "Iteration 3; 440/469 \tMinibatch Loss 0.048  Accuracy 98%\n",
      "Iteration 3; 450/469 \tMinibatch Loss 0.067  Accuracy 98%\n",
      "Iteration 3; 460/469 \tMinibatch Loss 0.050  Accuracy 98%\n",
      "Iteration 4; 0/469 \tMinibatch Loss 0.038  Accuracy 98%\n",
      "Iteration 4; 10/469 \tMinibatch Loss 0.094  Accuracy 96%\n",
      "Iteration 4; 20/469 \tMinibatch Loss 0.046  Accuracy 98%\n",
      "Iteration 4; 30/469 \tMinibatch Loss 0.077  Accuracy 98%\n",
      "Iteration 4; 40/469 \tMinibatch Loss 0.030  Accuracy 99%\n",
      "Iteration 4; 50/469 \tMinibatch Loss 0.041  Accuracy 98%\n",
      "Iteration 4; 60/469 \tMinibatch Loss 0.012  Accuracy 100%\n",
      "Iteration 4; 70/469 \tMinibatch Loss 0.052  Accuracy 97%\n",
      "Iteration 4; 80/469 \tMinibatch Loss 0.021  Accuracy 98%\n",
      "Iteration 4; 90/469 \tMinibatch Loss 0.054  Accuracy 98%\n",
      "Iteration 4; 100/469 \tMinibatch Loss 0.057  Accuracy 98%\n",
      "Iteration 4; 110/469 \tMinibatch Loss 0.012  Accuracy 100%\n",
      "Iteration 4; 120/469 \tMinibatch Loss 0.026  Accuracy 98%\n",
      "Iteration 4; 130/469 \tMinibatch Loss 0.048  Accuracy 99%\n",
      "Iteration 4; 140/469 \tMinibatch Loss 0.080  Accuracy 98%\n",
      "Iteration 4; 150/469 \tMinibatch Loss 0.042  Accuracy 99%\n",
      "Iteration 4; 160/469 \tMinibatch Loss 0.033  Accuracy 98%\n",
      "Iteration 4; 170/469 \tMinibatch Loss 0.028  Accuracy 99%\n",
      "Iteration 4; 180/469 \tMinibatch Loss 0.014  Accuracy 100%\n",
      "Iteration 4; 190/469 \tMinibatch Loss 0.011  Accuracy 99%\n",
      "Iteration 4; 200/469 \tMinibatch Loss 0.039  Accuracy 99%\n",
      "Iteration 4; 210/469 \tMinibatch Loss 0.017  Accuracy 100%\n",
      "Iteration 4; 220/469 \tMinibatch Loss 0.046  Accuracy 98%\n",
      "Iteration 4; 230/469 \tMinibatch Loss 0.015  Accuracy 100%\n",
      "Iteration 4; 240/469 \tMinibatch Loss 0.014  Accuracy 100%\n",
      "Iteration 4; 250/469 \tMinibatch Loss 0.048  Accuracy 99%\n",
      "Iteration 4; 260/469 \tMinibatch Loss 0.013  Accuracy 100%\n",
      "Iteration 4; 270/469 \tMinibatch Loss 0.039  Accuracy 99%\n",
      "Iteration 4; 280/469 \tMinibatch Loss 0.023  Accuracy 100%\n",
      "Iteration 4; 290/469 \tMinibatch Loss 0.033  Accuracy 99%\n",
      "Iteration 4; 300/469 \tMinibatch Loss 0.022  Accuracy 99%\n",
      "Iteration 4; 310/469 \tMinibatch Loss 0.032  Accuracy 99%\n",
      "Iteration 4; 320/469 \tMinibatch Loss 0.009  Accuracy 100%\n",
      "Iteration 4; 330/469 \tMinibatch Loss 0.042  Accuracy 98%\n",
      "Iteration 4; 340/469 \tMinibatch Loss 0.036  Accuracy 98%\n",
      "Iteration 4; 350/469 \tMinibatch Loss 0.028  Accuracy 99%\n",
      "Iteration 4; 360/469 \tMinibatch Loss 0.023  Accuracy 99%\n",
      "Iteration 4; 370/469 \tMinibatch Loss 0.056  Accuracy 98%\n",
      "Iteration 4; 380/469 \tMinibatch Loss 0.026  Accuracy 99%\n",
      "Iteration 4; 390/469 \tMinibatch Loss 0.030  Accuracy 98%\n",
      "Iteration 4; 400/469 \tMinibatch Loss 0.038  Accuracy 99%\n",
      "Iteration 4; 410/469 \tMinibatch Loss 0.044  Accuracy 98%\n",
      "Iteration 4; 420/469 \tMinibatch Loss 0.030  Accuracy 99%\n",
      "Iteration 4; 430/469 \tMinibatch Loss 0.059  Accuracy 99%\n",
      "Iteration 4; 440/469 \tMinibatch Loss 0.024  Accuracy 98%\n",
      "Iteration 4; 450/469 \tMinibatch Loss 0.056  Accuracy 98%\n",
      "Iteration 4; 460/469 \tMinibatch Loss 0.103  Accuracy 97%\n",
      "saving model at: MNIST_weights_seed=40.pth\n"
     ]
    }
   ],
   "source": [
    "#after training it once, comment this out to save time if you rerun the entire script\n",
    "train(verbose=True, num_iter=5)\n"
   ]
  },
  {
   "cell_type": "code",
   "execution_count": 10,
   "metadata": {},
   "outputs": [
    {
     "name": "stdout",
     "output_type": "stream",
     "text": [
      "loading model from: MNIST_weights_seed=40.pth\n",
      "Batch 0/79 \tAccuracy 100%\n",
      "Batch 10/79 \tAccuracy 96%\n",
      "Batch 20/79 \tAccuracy 98%\n",
      "Batch 30/79 \tAccuracy 99%\n",
      "Batch 40/79 \tAccuracy 100%\n",
      "Batch 50/79 \tAccuracy 99%\n",
      "Batch 60/79 \tAccuracy 100%\n",
      "Batch 70/79 \tAccuracy 97%\n",
      "overall test accuracy on MNIST: 98.70 %\n"
     ]
    }
   ],
   "source": [
    "#predict in distribution\n",
    "MNIST_PATH = \"MNIST_weights_seed={}.pth\".format(s)\n",
    "\n",
    "mnist_model = NN(num_classes=10)\n",
    "print(\"loading model from: {}\".format(MNIST_PATH))\n",
    "mnist_model.load_state_dict(torch.load(MNIST_PATH))\n",
    "mnist_model.eval()\n",
    "\n",
    "acc = []\n",
    "\n",
    "max_len = len(mnist_test_loader)\n",
    "for batch_idx, (x, y) in enumerate(mnist_test_loader):\n",
    "        output = mnist_model(x)\n",
    "        accuracy = get_accuracy(output, y)\n",
    "        if batch_idx % 10 == 0:\n",
    "            print(\n",
    "                \"Batch {}/{} \\t\".format(batch_idx, max_len) + \n",
    "                \"Accuracy %.0f\" % (accuracy * 100) + \"%\"\n",
    "            )\n",
    "        acc.append(accuracy)\n",
    "    \n",
    "avg_acc = np.mean(acc)\n",
    "print('overall test accuracy on MNIST: {:.02f} %'.format(avg_acc * 100))"
   ]
  },
  {
   "cell_type": "markdown",
   "metadata": {},
   "source": [
    "# Laplace approximation of the weights\n",
    "* we use the BackPACK package to approximate the Hessian of the parameters. Especially look at the DiagHessian() method.\n",
    "* we do one iteration over the entire training set and use the mean of the Hessian of the mini-batches as the best approximation of the Hessian.\n",
    "* we add a prior variance to our Hessian. The precision is 1 over the variance. we use a prior precision of 10, 20, and 50 (or variance of 1/10, 1/20, 1/50).\n",
    "    * edit: I will use precicisions of 10, 60, 120, 1000 in the following\n"
   ]
  },
  {
   "cell_type": "code",
   "execution_count": 11,
   "metadata": {},
   "outputs": [],
   "source": [
    "def get_Hessian_NN(model, train_loader, prec0, device='cpu', verbose=True):\n",
    "    lossfunc = torch.nn.CrossEntropyLoss()\n",
    "\n",
    "    extend(lossfunc, debug=False)\n",
    "    extend(model, debug=False)\n",
    "\n",
    "    Hessian_diag = []\n",
    "    for name, param in model.named_parameters():\n",
    "        ps = param.size()\n",
    "        print(\"parameter size of \", name , ps)\n",
    "        Hessian_diag.append(torch.zeros(ps, device=device))\n",
    "        #print(param.numel())\n",
    "\n",
    "    var0 = 1/prec0\n",
    "    max_len = len(train_loader)\n",
    "\n",
    "    with backpack(DiagHessian()):\n",
    "\n",
    "        for batch_idx, (x, y) in enumerate(train_loader):\n",
    "\n",
    "            if device == 'cuda':\n",
    "                x, y = x.float().cuda(), y.long().cuda()\n",
    "\n",
    "            model.zero_grad()\n",
    "            lossfunc(model(x), y).backward()\n",
    "\n",
    "            with torch.no_grad():\n",
    "                # Hessian of weight\n",
    "                for idx, param in enumerate(model.parameters()):\n",
    "\n",
    "                    H_ = param.diag_h\n",
    "                    #add prior here\n",
    "                    H_ += var0 * torch.ones(H_.size())\n",
    "\n",
    "                    rho = 1-1/(batch_idx+1)\n",
    "\n",
    "                    Hessian_diag[idx] = rho*Hessian_diag[idx] + (1-rho)* H_\n",
    "            \n",
    "            if verbose:\n",
    "                print(\"Batch: {}/{}\".format(batch_idx, max_len))\n",
    "    \n",
    "    return(Hessian_diag)"
   ]
  },
  {
   "cell_type": "code",
   "execution_count": 12,
   "metadata": {},
   "outputs": [],
   "source": [
    "#MNIST_NN_Hessian_diag_10 = get_Hessian_NN(model=mnist_model, train_loader=mnist_train_loader, prec0=10,verbose=False)"
   ]
  },
  {
   "cell_type": "code",
   "execution_count": 13,
   "metadata": {},
   "outputs": [],
   "source": [
    "#print(MNIST_NN_Hessian_diag_10)"
   ]
  },
  {
   "cell_type": "code",
   "execution_count": 14,
   "metadata": {},
   "outputs": [],
   "source": [
    "#MNIST_NN_Hessian_diag_60 = get_Hessian_NN(model=mnist_model, train_loader=mnist_train_loader, prec0=60,verbose=False)"
   ]
  },
  {
   "cell_type": "code",
   "execution_count": 17,
   "metadata": {},
   "outputs": [],
   "source": [
    "#print(MNIST_NN_Hessian_diag_60)"
   ]
  },
  {
   "cell_type": "code",
   "execution_count": 18,
   "metadata": {},
   "outputs": [
    {
     "name": "stdout",
     "output_type": "stream",
     "text": [
      "parameter size of  0.weight torch.Size([32, 1, 5, 5])\n",
      "parameter size of  0.bias torch.Size([32])\n",
      "parameter size of  3.weight torch.Size([32, 32, 5, 5])\n",
      "parameter size of  3.bias torch.Size([32])\n",
      "parameter size of  7.weight torch.Size([10, 512])\n",
      "parameter size of  7.bias torch.Size([10])\n"
     ]
    }
   ],
   "source": [
    "MNIST_NN_Hessian_diag_120 = get_Hessian_NN(model=mnist_model, train_loader=mnist_train_loader, prec0=120,verbose=False)"
   ]
  },
  {
   "cell_type": "code",
   "execution_count": 19,
   "metadata": {},
   "outputs": [],
   "source": [
    "#print(MNIST_NN_Hessian_diag_120)"
   ]
  },
  {
   "cell_type": "code",
   "execution_count": 20,
   "metadata": {},
   "outputs": [
    {
     "name": "stdout",
     "output_type": "stream",
     "text": [
      "parameter size of  0.weight torch.Size([32, 1, 5, 5])\n",
      "parameter size of  0.bias torch.Size([32])\n",
      "parameter size of  3.weight torch.Size([32, 32, 5, 5])\n",
      "parameter size of  3.bias torch.Size([32])\n",
      "parameter size of  7.weight torch.Size([10, 512])\n",
      "parameter size of  7.bias torch.Size([10])\n"
     ]
    }
   ],
   "source": [
    "MNIST_NN_Hessian_diag_1000 = get_Hessian_NN(model=mnist_model, train_loader=mnist_train_loader, prec0=1000,verbose=False)"
   ]
  },
  {
   "cell_type": "code",
   "execution_count": 21,
   "metadata": {},
   "outputs": [],
   "source": [
    "#print(MNIST_NN_Hessian_diag_1000)"
   ]
  },
  {
   "cell_type": "markdown",
   "metadata": {},
   "source": [
    "## As you can see, the variance gets smaller, the higher the precision gets"
   ]
  },
  {
   "cell_type": "markdown",
   "metadata": {},
   "source": [
    "## Now we want to look at the single layers of our network, and how they behave w.r.t. the variance\n",
    "* every tensor represents one of the six layers of out network\n"
   ]
  },
  {
   "cell_type": "code",
   "execution_count": 22,
   "metadata": {},
   "outputs": [],
   "source": [
    "def meancalc(Hessian_diag_x): \n",
    "    for ith_tensor in range(len(Hessian_diag_x)) :\n",
    "        mean = torch.mean(Hessian_diag_x[ith_tensor])\n",
    "        print(\"mean variance of layer {0:d}: {1:.4f}\".format(ith_tensor+1, mean.item()))"
   ]
  },
  {
   "cell_type": "code",
   "execution_count": 23,
   "metadata": {},
   "outputs": [
    {
     "data": {
      "text/plain": [
       "'\\nprint(\"precision 10:\")\\nmeancalc(MNIST_NN_Hessian_diag_10)\\nprint(\"precision 60:\")\\nmeancalc(MNIST_NN_Hessian_diag_60)\\nprint(\"precision 120:\")\\nmeancalc(MNIST_NN_Hessian_diag_120)\\nprint(\"precision 1000:\")\\nmeancalc(MNIST_NN_Hessian_diag_1000)\\n'"
      ]
     },
     "execution_count": 23,
     "metadata": {},
     "output_type": "execute_result"
    }
   ],
   "source": [
    "\"\"\"\n",
    "print(\"precision 10:\")\n",
    "meancalc(MNIST_NN_Hessian_diag_10)\n",
    "print(\"precision 60:\")\n",
    "meancalc(MNIST_NN_Hessian_diag_60)\n",
    "print(\"precision 120:\")\n",
    "meancalc(MNIST_NN_Hessian_diag_120)\n",
    "print(\"precision 1000:\")\n",
    "meancalc(MNIST_NN_Hessian_diag_1000)\n",
    "\"\"\""
   ]
  },
  {
   "cell_type": "markdown",
   "metadata": {},
   "source": [
    "### it's not save to say, that the variance gets smaller in deeper parts of this network\n",
    "* it's clear, that the flatten-layer has a bigger variance, than the previous layers\n",
    "* after the flatten-layer it drops in all of the observations\n",
    "* also in all cases the variance in the first layer is smaller, than in the fc-layer\n",
    "* the first maxpool layer has the biggest variance in all obsersations - obviously"
   ]
  },
  {
   "cell_type": "code",
   "execution_count": 24,
   "metadata": {
    "scrolled": true
   },
   "outputs": [
    {
     "data": {
      "text/plain": [
       "'\\nfrom PIL import Image\\nyticks = np.arange(10, 0, step=1)\\nxticks = np.arange(0, 512, step=100)\\na = np.array(MNIST_NN_Hessian_diag_10[4])\\nplt.yticks = yticks\\nplt.xticks = xticks\\nplt.plot(a)\\nplt.show()\\n'"
      ]
     },
     "execution_count": 24,
     "metadata": {},
     "output_type": "execute_result"
    }
   ],
   "source": [
    "\"\"\"\n",
    "from PIL import Image\n",
    "yticks = np.arange(10, 0, step=1)\n",
    "xticks = np.arange(0, 512, step=100)\n",
    "a = np.array(MNIST_NN_Hessian_diag_10[4])\n",
    "plt.yticks = yticks\n",
    "plt.xticks = xticks\n",
    "plt.plot(a)\n",
    "plt.show()\n",
    "\"\"\""
   ]
  },
  {
   "cell_type": "code",
   "execution_count": 25,
   "metadata": {},
   "outputs": [
    {
     "data": {
      "text/plain": [
       "'\\nimport seaborn as sns\\ntest = MNIST_NN_Hessian_diag_10[0][0]\\ntest2 = MNIST_NN_Hessian_diag_10[0][1]\\ntestit = np.concatenate((test, test2))\\ntestittp = testit.transpose(2, 0, 1).reshape(5, -1)\\narr = np.array(testittp)\\nprint(testit)\\nprint(\"---\")\\nprint(arr)\\nax = sns.heatmap(arr, linewidth=0.5)\\nplt.show()\\n'"
      ]
     },
     "execution_count": 25,
     "metadata": {},
     "output_type": "execute_result"
    }
   ],
   "source": [
    "\"\"\"\n",
    "import seaborn as sns\n",
    "test = MNIST_NN_Hessian_diag_10[0][0]\n",
    "test2 = MNIST_NN_Hessian_diag_10[0][1]\n",
    "testit = np.concatenate((test, test2))\n",
    "testittp = testit.transpose(2, 0, 1).reshape(5, -1)\n",
    "arr = np.array(testittp)\n",
    "print(testit)\n",
    "print(\"---\")\n",
    "print(arr)\n",
    "ax = sns.heatmap(arr, linewidth=0.5)\n",
    "plt.show()\n",
    "\"\"\""
   ]
  },
  {
   "cell_type": "markdown",
   "metadata": {},
   "source": [
    "## visualize the first layer of our networks in a heatmap\n",
    "* therefore we put the tensor in the right form/dimensions, by concatening all of its included arrays and then reshaping the tensor\n"
   ]
  },
  {
   "cell_type": "code",
   "execution_count": 26,
   "metadata": {},
   "outputs": [],
   "source": [
    "import seaborn as sns\n",
    "def visualize(tensor):\n",
    "    output = tensor[0][0]\n",
    "    for i in range(1, len(tensor[0])):\n",
    "        output = np.concatenate((output, tensor[0][i]))\n",
    "    output = output.transpose(2, 0, 1).reshape(5, -1)\n",
    "    heatmap = sns.heatmap(output)\n",
    "    plt.xticks = (np.arange(0, step=20))\n",
    "    plt.show()\n",
    "   "
   ]
  },
  {
   "cell_type": "code",
   "execution_count": 27,
   "metadata": {},
   "outputs": [],
   "source": [
    "#visualize(MNIST_NN_Hessian_diag_10)"
   ]
  },
  {
   "cell_type": "code",
   "execution_count": 28,
   "metadata": {},
   "outputs": [],
   "source": [
    "def meancalc2(Hessian_diag_x):\n",
    "    i = 0 \n",
    "    for name, parameter in mnist_model.named_parameters():\n",
    "        mean = torch.mean(Hessian_diag_x[i])\n",
    "        print(\"mean variance of layer {0:s}: {1:.4f}\".format(name, mean.item()))\n",
    "        i += 1\n",
    "    \n"
   ]
  },
  {
   "cell_type": "code",
   "execution_count": 33,
   "metadata": {},
   "outputs": [
    {
     "name": "stdout",
     "output_type": "stream",
     "text": [
      "mean variance of layer 0.weight: 0.0030\n",
      "mean variance of layer 0.bias: 0.0108\n",
      "mean variance of layer 3.weight: 0.0013\n",
      "mean variance of layer 3.bias: 0.0019\n",
      "mean variance of layer 7.weight: 0.0117\n",
      "mean variance of layer 7.bias: 0.0035\n"
     ]
    }
   ],
   "source": [
    "meancalc2(Hessian_diag_x=MNIST_NN_Hessian_diag_1000)"
   ]
  },
  {
   "cell_type": "code",
   "execution_count": 34,
   "metadata": {},
   "outputs": [
    {
     "data": {
      "image/png": "[encoded data removed]",
      "text/plain": [
       "<Figure size 432x288 with 2 Axes>"
      ]
     },
     "metadata": {
      "needs_background": "light"
     },
     "output_type": "display_data"
    },
    {
     "data": {
      "text/plain": [
       "<Figure size 432x288 with 0 Axes>"
      ]
     },
     "metadata": {},
     "output_type": "display_data"
    }
   ],
   "source": [
    "plt.imshow(MNIST_NN_Hessian_diag_1000[4], cmap='gist_stern',extent=[0,512,0,1],  aspect='auto')\n",
    "ax = plt.gca()\n",
    "ax.set_xticks(np.arange(1, 512, 32));\n",
    "ax.set_xticklabels(np.arange(1, 32, 2));\n",
    "ax.set_title('seed {}'.format(s))\n",
    "plt.colorbar()\n",
    "plt.tight_layout()\n",
    "plt.show()\n",
    "plt.savefig('linear_seed1000={}'.format(s))"
   ]
  },
  {
   "cell_type": "code",
   "execution_count": null,
   "metadata": {},
   "outputs": [],
   "source": []
  },
  {
   "cell_type": "code",
   "execution_count": null,
   "metadata": {},
   "outputs": [],
   "source": []
  },
  {
   "cell_type": "code",
   "execution_count": null,
   "metadata": {},
   "outputs": [],
   "source": []
  },
  {
   "cell_type": "code",
   "execution_count": null,
   "metadata": {},
   "outputs": [],
   "source": []
  },
  {
   "cell_type": "code",
   "execution_count": null,
   "metadata": {},
   "outputs": [],
   "source": []
  },
  {
   "cell_type": "code",
   "execution_count": null,
   "metadata": {},
   "outputs": [],
   "source": []
  }
 ],
 "metadata": {
  "kernelspec": {
   "display_name": "Python 3",
   "language": "python",
   "name": "python3"
  },
  "language_info": {
   "codemirror_mode": {
    "name": "ipython",
    "version": 3
   },
   "file_extension": ".py",
   "mimetype": "text/x-python",
   "name": "python",
   "nbconvert_exporter": "python",
   "pygments_lexer": "ipython3",
   "version": "3.7.2"
  }
 },
 "nbformat": 4,
 "nbformat_minor": 2
}
