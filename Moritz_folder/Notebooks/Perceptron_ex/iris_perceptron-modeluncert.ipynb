{
 "cells": [
  {
   "cell_type": "code",
   "execution_count": 135,
   "metadata": {},
   "outputs": [],
   "source": [
    "import numpy as np\n",
    "from sklearn.datasets import load_iris\n",
    "from sklearn.model_selection import train_test_split\n",
    "import matplotlib.pyplot as plt\n",
    "from scipy.stats import pearsonr, linregress\n",
    "import pandas as pd\n",
    "import torch\n",
    "import torch.utils.data as data\n",
    "import torch.nn as nn\n",
    "import torch.nn.functional as F\n",
    "import torch.optim as optim\n",
    "\n",
    "from backpack import backpack, extend\n",
    "from backpack.extensions import DiagHessian, KFAC, DiagGGNExact\n",
    "\n",
    "plt.rcParams[\"figure.figsize\"] = (20,10)"
   ]
  },
  {
   "cell_type": "code",
   "execution_count": 136,
   "metadata": {},
   "outputs": [],
   "source": [
    "s= 10\n",
    "np.random.seed(s)\n",
    "torch.manual_seed(s)\n",
    "torch.cuda.manual_seed(s)"
   ]
  },
  {
   "cell_type": "code",
   "execution_count": 185,
   "metadata": {},
   "outputs": [],
   "source": [
    "class IrisDataset(data.Dataset):\n",
    "    def __init__(self, train=True):\n",
    "        super(IrisDataset, self).__init__()\n",
    "\n",
    "        iris = load_iris()\n",
    "\n",
    "        X, y = iris.data, iris.target\n",
    "        X_train, X_test, y_train, y_test = train_test_split(X, y, test_size=0.2,random_state=42)\n",
    "\n",
    "        if train:\n",
    "            self.inputs, self.labels = X_train, y_train\n",
    "\n",
    "        else:\n",
    "            self.inputs, self.labels = X_test, y_test\n",
    "\n",
    "    def __getitem__(self, index):\n",
    "        inp = torch.Tensor(self.inputs[index])\n",
    "        label = torch.LongTensor([self.labels[index]])\n",
    "        return inp, label\n",
    "\n",
    "    def __len__(self):\n",
    "        return len(self.inputs)\n",
    "\n",
    "dataloader = data.DataLoader(IrisDataset(train=True), batch_size=32, shuffle=True, num_workers=0)\n",
    "testloader = data.DataLoader(IrisDataset(train=False), batch_size=32, shuffle=False, num_workers=0)"
   ]
  },
  {
   "cell_type": "code",
   "execution_count": 138,
   "metadata": {},
   "outputs": [],
   "source": [
    "def metric(inferred_tensor: torch.Tensor, ground_truth: torch.Tensor) -> torch.Tensor:\n",
    "        \"\"\"Classification Accuracy\n",
    "        example)\n",
    "        inferred_tensor: [[0,0,1], [0,1,0]]\n",
    "        ground_truth: [2, 0]\n",
    "        return: 0.5\n",
    "        :param inferred_tensor: (torch.Tensor) [batch_size, n_classes(3)], inferred logits\n",
    "        :param ground_truth:  (torch.LongTensor) [batch_size], ground truth labels\n",
    "                                each consisting LongTensor ranging from 0 to 2\n",
    "        :return: (torch.Tensor) metric\n",
    "        \"\"\"\n",
    "\n",
    "        inferred_tensor = torch.argmax(inferred_tensor, dim=-1)\n",
    "        acc = torch.mean((inferred_tensor == ground_truth).to(torch.float), dim=-1)\n",
    "        return acc\n",
    "\n",
    "def flattenlist(lst):\n",
    "    flat_list = []\n",
    "    for sublist in lst:\n",
    "        for item in sublist:\n",
    "            flat_list.append(item)\n",
    "    return flat_list"
   ]
  },
  {
   "cell_type": "code",
   "execution_count": 139,
   "metadata": {},
   "outputs": [],
   "source": [
    "def NN(sz):\n",
    "    \n",
    "    features = torch.nn.Sequential(\n",
    "        torch.nn.Linear(4, sz),\n",
    "        torch.nn.Linear(sz, sz),\n",
    "        torch.nn.Linear(sz, sz),\n",
    "        torch.nn.Linear(sz, sz),\n",
    "        torch.nn.Linear(sz, sz),\n",
    "        #extension starts here\n",
    "        torch.nn.Linear(sz, 3)\n",
    "        \n",
    "    )\n",
    "    return(features)\n",
    "\n",
    "def NN_deep(sz):\n",
    "    \n",
    "    features = torch.nn.Sequential(\n",
    "        torch.nn.Linear(4, sz),\n",
    "        torch.nn.Linear(sz, sz),\n",
    "        torch.nn.Linear(sz, sz),\n",
    "        torch.nn.Linear(sz, sz),\n",
    "        torch.nn.Linear(sz, sz),\n",
    "        #extension starts here\n",
    "        torch.nn.Linear(sz, sz),\n",
    "        torch.nn.Linear(sz, sz),\n",
    "        torch.nn.Linear(sz, sz),\n",
    "        torch.nn.Linear(sz, sz),\n",
    "        torch.nn.Linear(sz, 3)\n",
    "        \n",
    "    )\n",
    "    return(features)\n",
    "\n"
   ]
  },
  {
   "cell_type": "code",
   "execution_count": 140,
   "metadata": {},
   "outputs": [],
   "source": [
    "def train_iris(model, criterion, optim, num_epochs, device = 'cpu'):\n",
    "    for epoch in range(num_epochs):\n",
    "        #계산을 하기 위해서 loss를 저장하는 변수(모니터링 용)\n",
    "        train_loss = torch.Tensor([0]).to(device)\n",
    "        train_acc = torch.Tensor([0]).to(device)\n",
    "\n",
    "        for x, y in dataloader:\n",
    "            x = x.to(device)\n",
    "            y= y.squeeze(-1).to(device)\n",
    "\n",
    "            optimizer.zero_grad()\n",
    "            y_ = model(x)\n",
    "\n",
    "            loss = criterion(y_, y)\n",
    "            train_loss +=loss\n",
    "            loss.backward()\n",
    "            optimizer.step()\n",
    "\n",
    "            acc = metric(y_, y)\n",
    "            train_acc += acc\n",
    "\n",
    "        train_loss /= len(dataloader)\n",
    "        train_acc /= len(dataloader)\n",
    "\n",
    "        print('[{curr}/{tot}] >Loss: {loss:.2f}, Acc: {acc:.2f}%'.format(\n",
    "            curr = epoch+1,\n",
    "            tot = num_epochs,\n",
    "            loss = train_loss.detach().cpu().item(),\n",
    "            acc = float(100*train_acc.detach().cpu().item())\n",
    "        ))\n",
    "\n",
    "\n",
    "\n",
    "\n",
    "        \n"
   ]
  },
  {
   "cell_type": "code",
   "execution_count": 141,
   "metadata": {},
   "outputs": [],
   "source": [
    "def get_accuracy(output, targets):\n",
    "    \"\"\"Helper function to print the accuracy\"\"\"\n",
    "    predictions = output.argmax(dim=1, keepdim=True).view_as(targets)\n",
    "    return predictions.eq(targets).float().mean().item()"
   ]
  },
  {
   "cell_type": "code",
   "execution_count": 142,
   "metadata": {},
   "outputs": [],
   "source": [
    "#train_iris(net, lossfunction, optimizer, 100)"
   ]
  },
  {
   "cell_type": "code",
   "execution_count": 143,
   "metadata": {},
   "outputs": [],
   "source": [
    "def get_Hessian_NN(model, train_loader, prec0, device='cpu', verbose=False):\n",
    "    lossfunc = lossfunction\n",
    "\n",
    "    extend(lossfunc, debug=False)\n",
    "    extend(model, debug=False)\n",
    "\n",
    "    Cov_diag = []\n",
    "    for param in model.parameters():\n",
    "        ps = param.size()\n",
    "        #print(\"parameter size: \", ps)\n",
    "        Cov_diag.append(torch.zeros(ps, device=device))\n",
    "        #print(param.numel())\n",
    "\n",
    "    #var0 = 1/prec0\n",
    "    #max_len = len(train_loader)\n",
    "    #for param in model.parameters():\n",
    "    #    print(torch.mean(param))\n",
    "    \n",
    "    #model.eval()\n",
    "    #acctemp = []\n",
    "    #max_len = len(train_loader)\n",
    "    #for batch_idx, (x, y) in enumerate(train_loader):\n",
    "    #        output = model(x)\n",
    "    #        accuracy = get_accuracy(output, y)\n",
    "            #if batch_idx % 30 == 0:\n",
    "               # print(\n",
    "               #     \"Batch {}/{} \\t\".format(batch_idx, max_len) + \n",
    "               #     \"Accuracy %.0f\" % (accuracy * 100) + \"%\"\n",
    "               # )\n",
    "    #        acctemp.append(accuracy)\n",
    "\n",
    "    #print(np.mean(acctemp))\n",
    "    #model.train()\n",
    "\n",
    "    with backpack(DiagHessian()):\n",
    "\n",
    "        for batch_idx, (x, y) in enumerate(train_loader):\n",
    "            \n",
    "            \n",
    "            #if device == 'cuda':\n",
    "            #    x, y = x.float().cuda(), y.long().cuda()\n",
    "            #else:\n",
    "            #    x, y = torch.tensor(x).float(), torch.tensor(y).float()\n",
    "            #print(x, y)\n",
    "            x = x.to(device)\n",
    "            y= y.squeeze(-1).to(device)\n",
    "\n",
    "            model.zero_grad()\n",
    "            #x, y = x.view(-1, 1), y.view(-1, 1) \n",
    "                        \n",
    "            lossfunc(model(x), y).backward()\n",
    "\n",
    "            with torch.no_grad():\n",
    "                # Hessian of weight\n",
    "                for idx, param in enumerate(model.parameters()):\n",
    "\n",
    "                    H_ = param.diag_h\n",
    "                    #print(H_)\n",
    "                    #add prior here\n",
    "                    H_ += prec0 * torch.ones(H_.size())\n",
    "                    H_inv = torch.sqrt(1/H_) #<-- standard deviation\n",
    "                    #H_inv = 1/H_              #<-- variance \n",
    "\n",
    "                    rho = 1-1/(batch_idx+1)\n",
    "\n",
    "                    Cov_diag[idx] = rho*Cov_diag[idx] + (1-rho)* H_inv\n",
    "            \n",
    "            if verbose:\n",
    "                print(\"Batch: {}/{}\".format(batch_idx, max_len))\n",
    "    print()\n",
    "    #model.eval()\n",
    "    #acctemp = []\n",
    "    #max_len = len(train_loader)\n",
    "    #for batch_idx, (x, y) in enumerate(train_loader):\n",
    "    #        output = model(x)\n",
    "    #        accuracy = get_accuracy(output, y)\n",
    "    #       # if batch_idx % 30 == 0:\n",
    "           #     print(\n",
    "           #         \"Batch {}/{} \\t\".format(batch_idx, max_len) + \n",
    "           #         \"Accuracy %.0f\" % (accuracy * 100) + \"%\"\n",
    "           #     )\n",
    "    #        acctemp.append(accuracy)\n",
    "\n",
    "    #print(np.mean(acctemp))\n",
    "    #model.train()\n",
    "\n",
    "    #model.train()\n",
    "    #for param in model.parameters():\n",
    "    #    print(torch.mean(param))\n",
    "    \n",
    "    return(Cov_diag)"
   ]
  },
  {
   "cell_type": "code",
   "execution_count": 146,
   "metadata": {},
   "outputs": [],
   "source": [
    "#for wd in [1,2, 4, 8, 16, 32, 64, 128, 512]:\n",
    "#    net = NN(sz= wd)#\n",
    "\n",
    "#    lossfunction = torch.nn.CrossEntropyLoss()\n",
    "#    #optimizer = torch.optim.SGD(net.parameters(), lr=0.1, momentum=0.5)\n",
    "#    optimizer = torch.optim.Adam(net.parameters(), lr= 0.001)\n",
    "#    if wd == 1:\n",
    "#        train_iris(net, lossfunction, optimizer, 400)\n",
    "#    else:\n",
    "#        train_iris(net, lossfunction, optimizer, 250)\n",
    "    \n",
    "#    state = net.state_dict()\n",
    "#    torch.save(state, '/Users/moreez/Desktop/BcThesis/VGG/NASex/iris/{}irisnet_seed{}'.format(wd, s))\n",
    "    \n",
    "#    curvature = get_Hessian_NN(net, train_loader=dataloader, prec0 = 0.001, verbose=False)\n",
    "    \n",
    "#    torch.save(curvature, '/Users/moreez/Desktop/BcThesis/VGG/NASex/iris/{}iriscurvature_seed{}'.format(wd, s))"
   ]
  },
  {
   "cell_type": "code",
   "execution_count": 145,
   "metadata": {},
   "outputs": [],
   "source": [
    "#testnet = NN(sz=4)\n",
    "#testHess = get_Hessian_NN(testnet, train_loader=dataloader, prec0 = 0.1, verbose=False)\n",
    "#train_iris(NN(sz=2), lossfunction, torch.optim.Adam(net.parameters(), lr= 0.01), 100)"
   ]
  },
  {
   "cell_type": "code",
   "execution_count": 200,
   "metadata": {},
   "outputs": [],
   "source": [
    "def get_acc(seed, testloader):    \n",
    "    widths = [512, 128, 64, 32, 16, 8, 4, 2, 1]\n",
    "    #widths = [8, 4, 2]\n",
    "    acc = []\n",
    "    for wdd in widths:\n",
    "        model = NN(sz=wdd)\n",
    "        \n",
    "        DATAPATH = '/Users/moreez/Desktop/BcThesis/VGG/NASex/iris/{}irisnet_seed{}'.format(wdd, s)\n",
    "\n",
    "        weights = torch.load(DATAPATH, map_location=torch.device('cpu')) \n",
    "        #print(weights.keys())\n",
    "        keyss = weights.keys()\n",
    "        topop = []\n",
    "        for elem in keyss:\n",
    "            if 'shape' in elem:\n",
    "                topop.append(elem)\n",
    "        for key in topop:\n",
    "            weights.pop(key)\n",
    "        #print(weights.keys())\n",
    "        model.load_state_dict(weights, strict=True)\n",
    "        model.eval()\n",
    "        acctemp = []\n",
    "        max_len = len(testloader)\n",
    "        for batch_idx, (x, y) in enumerate(testloader):\n",
    "                output = model(x)\n",
    "                accuracy = get_accuracy(output, y)\n",
    "                if batch_idx % 30 == 0:\n",
    "                    print(\n",
    "                        \"Batch {}/{} \\t\".format(batch_idx, max_len) + \n",
    "                        \"Accuracy %.0f\" % (accuracy * 100) + \"%\"\n",
    "                    )\n",
    "                acctemp.append(accuracy)\n",
    "\n",
    "        avg_acc = np.mean(acctemp)\n",
    "        acc.append(avg_acc)\n",
    "\n",
    "    #print(acc)\n",
    "    return acc\n",
    "\n",
    "\n",
    "\n"
   ]
  },
  {
   "cell_type": "code",
   "execution_count": 190,
   "metadata": {},
   "outputs": [],
   "source": [
    "def get_uncerts(seed):  \n",
    "    \n",
    "    \n",
    "    widths = ['512', '128','64','32','16', '8', '4', '2', '1']\n",
    "\n",
    "    avg_unc = []\n",
    "    lastlayer_unc = []\n",
    "    \n",
    "    for wdd in widths:\n",
    "        #if width == '16':\n",
    "        #    accur = '80'\n",
    "        #elif width in ['8','4','2']:\n",
    "        #    DATAPATH = '/Users/moreez/Desktop/BcThesis/VGG/exx/Hess/bestHess/{}bes_ckpt_seed11.pth'.format(width)\n",
    "        #else:\n",
    "        #    accur = '90'\n",
    "        #if path.exists('/Users/moreez/Desktop/BcThesis/VGG/exx/Hess/bestHess/{}vggHessian_prec00001_seed11_accur{}.pth'.format(width, accur)):\n",
    "        #        print(width)    \n",
    "        \n",
    "        DATAPATH = '/Users/moreez/Desktop/BcThesis/VGG/NASex/iris/{}iriscurvature_seed{}'.format(wdd, s)\n",
    "        \n",
    "        #print(DATAPATH)\n",
    "        hess = torch.load(DATAPATH, map_location=torch.device('cpu')) \n",
    "        temp = []\n",
    "        for i, tnsr in enumerate(hess):\n",
    "            if i%2 == 0:\n",
    "                temp.append(torch.mean(tnsr).item())\n",
    "\n",
    "        avg_unc.append(np.mean(temp))\n",
    "\n",
    "        lastlayer_unc.append(torch.mean(hess[-2]).item())\n",
    "\n",
    "    #print(avg_unc)\n",
    "    #print(lastlayer_unc)\n",
    "    return avg_unc, lastlayer_unc\n",
    "\n"
   ]
  },
  {
   "cell_type": "code",
   "execution_count": 202,
   "metadata": {},
   "outputs": [
    {
     "name": "stdout",
     "output_type": "stream",
     "text": [
      "Batch 0/1 \tAccuracy 97%\n",
      "Batch 0/1 \tAccuracy 100%\n",
      "Batch 0/1 \tAccuracy 100%\n",
      "Batch 0/1 \tAccuracy 97%\n",
      "Batch 0/1 \tAccuracy 100%\n",
      "Batch 0/1 \tAccuracy 100%\n",
      "Batch 0/1 \tAccuracy 97%\n",
      "Batch 0/1 \tAccuracy 100%\n",
      "Batch 0/1 \tAccuracy 97%\n",
      "Batch 0/1 \tAccuracy 97%\n",
      "Batch 0/1 \tAccuracy 100%\n",
      "Batch 0/1 \tAccuracy 100%\n",
      "Batch 0/1 \tAccuracy 97%\n",
      "Batch 0/1 \tAccuracy 100%\n",
      "Batch 0/1 \tAccuracy 100%\n",
      "Batch 0/1 \tAccuracy 97%\n",
      "Batch 0/1 \tAccuracy 100%\n",
      "Batch 0/1 \tAccuracy 97%\n",
      "Batch 0/1 \tAccuracy 97%\n",
      "Batch 0/1 \tAccuracy 100%\n",
      "Batch 0/1 \tAccuracy 100%\n",
      "Batch 0/1 \tAccuracy 97%\n",
      "Batch 0/1 \tAccuracy 100%\n",
      "Batch 0/1 \tAccuracy 100%\n",
      "Batch 0/1 \tAccuracy 97%\n",
      "Batch 0/1 \tAccuracy 100%\n",
      "Batch 0/1 \tAccuracy 97%\n",
      "Batch 0/1 \tAccuracy 97%\n",
      "Batch 0/1 \tAccuracy 100%\n",
      "Batch 0/1 \tAccuracy 100%\n",
      "Batch 0/1 \tAccuracy 97%\n",
      "Batch 0/1 \tAccuracy 100%\n",
      "Batch 0/1 \tAccuracy 100%\n",
      "Batch 0/1 \tAccuracy 97%\n",
      "Batch 0/1 \tAccuracy 100%\n",
      "Batch 0/1 \tAccuracy 97%\n",
      "Batch 0/1 \tAccuracy 97%\n",
      "Batch 0/1 \tAccuracy 100%\n",
      "Batch 0/1 \tAccuracy 100%\n",
      "Batch 0/1 \tAccuracy 97%\n",
      "Batch 0/1 \tAccuracy 100%\n",
      "Batch 0/1 \tAccuracy 100%\n",
      "Batch 0/1 \tAccuracy 97%\n",
      "Batch 0/1 \tAccuracy 100%\n",
      "Batch 0/1 \tAccuracy 97%\n",
      "Batch 0/1 \tAccuracy 97%\n",
      "Batch 0/1 \tAccuracy 100%\n",
      "Batch 0/1 \tAccuracy 100%\n",
      "Batch 0/1 \tAccuracy 97%\n",
      "Batch 0/1 \tAccuracy 100%\n",
      "Batch 0/1 \tAccuracy 100%\n",
      "Batch 0/1 \tAccuracy 97%\n",
      "Batch 0/1 \tAccuracy 100%\n",
      "Batch 0/1 \tAccuracy 97%\n",
      "Batch 0/1 \tAccuracy 97%\n",
      "Batch 0/1 \tAccuracy 100%\n",
      "Batch 0/1 \tAccuracy 100%\n",
      "Batch 0/1 \tAccuracy 97%\n",
      "Batch 0/1 \tAccuracy 100%\n",
      "Batch 0/1 \tAccuracy 100%\n",
      "Batch 0/1 \tAccuracy 97%\n",
      "Batch 0/1 \tAccuracy 100%\n",
      "Batch 0/1 \tAccuracy 97%\n",
      "Batch 0/1 \tAccuracy 97%\n",
      "Batch 0/1 \tAccuracy 100%\n",
      "Batch 0/1 \tAccuracy 100%\n",
      "Batch 0/1 \tAccuracy 97%\n",
      "Batch 0/1 \tAccuracy 100%\n",
      "Batch 0/1 \tAccuracy 100%\n",
      "Batch 0/1 \tAccuracy 97%\n",
      "Batch 0/1 \tAccuracy 100%\n",
      "Batch 0/1 \tAccuracy 97%\n",
      "Batch 0/1 \tAccuracy 97%\n",
      "Batch 0/1 \tAccuracy 100%\n",
      "Batch 0/1 \tAccuracy 100%\n",
      "Batch 0/1 \tAccuracy 97%\n",
      "Batch 0/1 \tAccuracy 100%\n",
      "Batch 0/1 \tAccuracy 100%\n",
      "Batch 0/1 \tAccuracy 97%\n",
      "Batch 0/1 \tAccuracy 100%\n",
      "Batch 0/1 \tAccuracy 97%\n",
      "Batch 0/1 \tAccuracy 97%\n",
      "Batch 0/1 \tAccuracy 100%\n",
      "Batch 0/1 \tAccuracy 100%\n",
      "Batch 0/1 \tAccuracy 97%\n",
      "Batch 0/1 \tAccuracy 100%\n",
      "Batch 0/1 \tAccuracy 100%\n",
      "Batch 0/1 \tAccuracy 97%\n",
      "Batch 0/1 \tAccuracy 100%\n",
      "Batch 0/1 \tAccuracy 97%\n"
     ]
    }
   ],
   "source": [
    "allaccs= []\n",
    "for i in range(1, 11):\n",
    "    accc = get_acc(i, testloader)\n",
    "    allaccs.append(accc)"
   ]
  },
  {
   "cell_type": "code",
   "execution_count": 206,
   "metadata": {},
   "outputs": [
    {
     "name": "stdout",
     "output_type": "stream",
     "text": [
      "[[0.9666666388511658, 1.0, 1.0, 0.9666666388511658, 1.0, 1.0, 0.9666666388511658, 1.0, 0.9666666388511658], [0.9666666388511658, 1.0, 1.0, 0.9666666388511658, 1.0, 1.0, 0.9666666388511658, 1.0, 0.9666666388511658], [0.9666666388511658, 1.0, 1.0, 0.9666666388511658, 1.0, 1.0, 0.9666666388511658, 1.0, 0.9666666388511658], [0.9666666388511658, 1.0, 1.0, 0.9666666388511658, 1.0, 1.0, 0.9666666388511658, 1.0, 0.9666666388511658], [0.9666666388511658, 1.0, 1.0, 0.9666666388511658, 1.0, 1.0, 0.9666666388511658, 1.0, 0.9666666388511658], [0.9666666388511658, 1.0, 1.0, 0.9666666388511658, 1.0, 1.0, 0.9666666388511658, 1.0, 0.9666666388511658], [0.9666666388511658, 1.0, 1.0, 0.9666666388511658, 1.0, 1.0, 0.9666666388511658, 1.0, 0.9666666388511658], [0.9666666388511658, 1.0, 1.0, 0.9666666388511658, 1.0, 1.0, 0.9666666388511658, 1.0, 0.9666666388511658], [0.9666666388511658, 1.0, 1.0, 0.9666666388511658, 1.0, 1.0, 0.9666666388511658, 1.0, 0.9666666388511658], [0.9666666388511658, 1.0, 1.0, 0.9666666388511658, 1.0, 1.0, 0.9666666388511658, 1.0, 0.9666666388511658]]\n",
      "[0.96666664 1.         1.         0.96666664 1.         1.\n",
      " 0.96666664 1.         0.96666664]\n"
     ]
    }
   ],
   "source": [
    "print(allaccs)\n",
    "meanacc = np.mean(allaccs, axis=0)\n",
    "print(meanacc)"
   ]
  },
  {
   "cell_type": "code",
   "execution_count": 180,
   "metadata": {},
   "outputs": [],
   "source": [
    "aa, ba, ca, da, ea, fa, ga, ha, ia = [], [], [], [], [], [], [], [], []\n",
    "al, bl, cl, dl, el, fl, gl, hl, il = [], [], [], [], [], [], [], [], []\n",
    "#aua, bua, cua, dua, eua, fua, gua, hua = [], [], [], [], [], [], [], []\n",
    "#aul, bul, cul, dul, eul, ful, gul, hul = [], [], [], [], [], [], [], []\n",
    "for s in range(1, 11):\n",
    "    \n",
    "    avg, ll = get_uncerts(s)\n",
    "    \n",
    "    aa.append(avg[0])\n",
    "    ba.append(avg[1])\n",
    "    ca.append(avg[2])\n",
    "    da.append(avg[3])\n",
    "    ea.append(avg[4])\n",
    "    fa.append(avg[5])\n",
    "    ga.append(avg[6])\n",
    "    ha.append(avg[7])\n",
    "    ia.append(avg[8])\n",
    "    \n",
    "    al.append(ll[0])\n",
    "    bl.append(ll[1])\n",
    "    cl.append(ll[2])\n",
    "    dl.append(ll[3])\n",
    "    el.append(ll[4])\n",
    "    fl.append(ll[5])\n",
    "    gl.append(ll[6])\n",
    "    hl.append(ll[7])\n",
    "    il.append(ll[8])"
   ]
  },
  {
   "cell_type": "code",
   "execution_count": 181,
   "metadata": {},
   "outputs": [],
   "source": [
    "llmean = []\n",
    "llmean.append(np.mean(al))\n",
    "llmean.append(np.mean(bl))\n",
    "llmean.append(np.mean(cl))\n",
    "llmean.append(np.mean(dl))\n",
    "llmean.append(np.mean(el))\n",
    "llmean.append(np.mean(fl))\n",
    "llmean.append(np.mean(gl))\n",
    "llmean.append(np.mean(hl))\n",
    "llmean.append(np.mean(il))\n",
    "llstd = []\n",
    "llstd.append(np.std(al))\n",
    "llstd.append(np.std(bl))\n",
    "llstd.append(np.std(cl))\n",
    "llstd.append(np.std(dl))\n",
    "llstd.append(np.std(el))\n",
    "llstd.append(np.std(fl))\n",
    "llstd.append(np.std(gl))\n",
    "llstd.append(np.std(hl))\n",
    "llstd.append(np.std(il))\n",
    "\n",
    "avgmean = []\n",
    "avgmean.append(np.mean(aa))\n",
    "avgmean.append(np.mean(ba))\n",
    "avgmean.append(np.mean(ca))\n",
    "avgmean.append(np.mean(da))\n",
    "avgmean.append(np.mean(ea))\n",
    "avgmean.append(np.mean(fa))\n",
    "avgmean.append(np.mean(ga))\n",
    "avgmean.append(np.mean(ha))\n",
    "avgmean.append(np.mean(ia))\n",
    "avgstd = []\n",
    "avgstd.append(np.std(aa))\n",
    "avgstd.append(np.std(ba))\n",
    "avgstd.append(np.std(ca))\n",
    "avgstd.append(np.std(da))\n",
    "avgstd.append(np.std(ea))\n",
    "avgstd.append(np.std(fa))\n",
    "avgstd.append(np.std(ga))\n",
    "avgstd.append(np.std(ha))\n",
    "avgstd.append(np.std(ia))\n",
    "\n"
   ]
  },
  {
   "cell_type": "code",
   "execution_count": 178,
   "metadata": {},
   "outputs": [
    {
     "name": "stdout",
     "output_type": "stream",
     "text": [
      "[14.476295709609985, 13.673777318000793, 11.577288341522216, 9.996210098266602, 7.846963787078858, 6.339109230041504, 4.207268214225769, 2.882868838310242]\n"
     ]
    }
   ],
   "source": [
    "print(llmean)"
   ]
  },
  {
   "cell_type": "code",
   "execution_count": 215,
   "metadata": {},
   "outputs": [
    {
     "data": {
      "image/png": "[encoded data removed]",
      "text/plain": [
       "<Figure size 1440x720 with 1 Axes>"
      ]
     },
     "metadata": {
      "needs_background": "light"
     },
     "output_type": "display_data"
    }
   ],
   "source": [
    "width = ['1', '2', '4', '8', '16', '32', '64', '128', '512']\n",
    "fig = plt.errorbar(width, llmean[::-1], llstd[::-1], linestyle = 'solid',fmt='o')\n",
    "fig.set_label('avg last layer')\n",
    "fig = plt.errorbar(width, avgmean[::-1], avgstd[::-1], marker='^')\n",
    "fig.set_label('avg all layers')\n",
    "plt.title('iris Network')\n",
    "plt.legend()\n",
    "plt.show()\n"
   ]
  },
  {
   "cell_type": "code",
   "execution_count": 219,
   "metadata": {},
   "outputs": [
    {
     "data": {
      "text/plain": [
       "[<matplotlib.lines.Line2D at 0x7fa8bcaf79e8>]"
      ]
     },
     "execution_count": 219,
     "metadata": {},
     "output_type": "execute_result"
    },
    {
     "data": {
      "image/png": "[encoded data removed]",
      "text/plain": [
       "<Figure size 1440x720 with 1 Axes>"
      ]
     },
     "metadata": {
      "needs_background": "light"
     },
     "output_type": "display_data"
    }
   ],
   "source": [
    "plt.plot(width, llstd[::-1])"
   ]
  },
  {
   "cell_type": "code",
   "execution_count": 220,
   "metadata": {},
   "outputs": [
    {
     "data": {
      "text/plain": [
       "(0.1, 1.1)"
      ]
     },
     "execution_count": 220,
     "metadata": {},
     "output_type": "execute_result"
    },
    {
     "data": {
      "image/png": "[encoded data removed]",
      "text/plain": [
       "<Figure size 1440x720 with 1 Axes>"
      ]
     },
     "metadata": {
      "needs_background": "light"
     },
     "output_type": "display_data"
    }
   ],
   "source": [
    "plt.plot(width, meanacc)\n",
    "plt.ylim(0.1, 1.1)"
   ]
  },
  {
   "cell_type": "code",
   "execution_count": null,
   "metadata": {},
   "outputs": [],
   "source": []
  }
 ],
 "metadata": {
  "kernelspec": {
   "display_name": "Python 3",
   "language": "python",
   "name": "python3"
  },
  "language_info": {
   "codemirror_mode": {
    "name": "ipython",
    "version": 3
   },
   "file_extension": ".py",
   "mimetype": "text/x-python",
   "name": "python",
   "nbconvert_exporter": "python",
   "pygments_lexer": "ipython3",
   "version": "3.7.2"
  }
 },
 "nbformat": 4,
 "nbformat_minor": 2
}
