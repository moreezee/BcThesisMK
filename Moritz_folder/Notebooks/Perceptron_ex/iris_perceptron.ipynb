{
 "cells": [
  {
   "cell_type": "code",
   "execution_count": 13,
   "metadata": {},
   "outputs": [],
   "source": [
    "import numpy as np\n",
    "from sklearn.datasets import load_iris\n",
    "from sklearn.model_selection import train_test_split\n",
    "import matplotlib.pyplot as plt\n",
    "from scipy.stats import pearsonr, linregress\n",
    "import pandas as pd\n",
    "import torch\n",
    "import torch.utils.data as data\n",
    "import torch.nn as nn\n",
    "import torch.nn.functional as F\n",
    "import torch.optim as optim\n",
    "\n",
    "from backpack import backpack, extend\n",
    "from backpack.extensions import DiagHessian, KFAC, DiagGGNExact\n",
    "\n",
    "plt.rcParams[\"figure.figsize\"] = (20,10)"
   ]
  },
  {
   "cell_type": "code",
   "execution_count": null,
   "metadata": {},
   "outputs": [],
   "source": []
  },
  {
   "cell_type": "code",
   "execution_count": 14,
   "metadata": {},
   "outputs": [],
   "source": [
    "class IrisDataset(data.Dataset):\n",
    "    def __init__(self, train=True):\n",
    "        super(IrisDataset, self).__init__()\n",
    "\n",
    "        iris = load_iris()\n",
    "\n",
    "        X, y = iris.data, iris.target\n",
    "        X_train, X_test, y_train, y_test = train_test_split(X, y, test_size=0.2,random_state=42)\n",
    "\n",
    "        if train:\n",
    "            self.inputs, self.labels = X_train, y_train\n",
    "\n",
    "        else:\n",
    "            self.inputs, self.labels = X_test, y_test\n",
    "\n",
    "    def __getitem__(self, index):\n",
    "        inp = torch.Tensor(self.inputs[index])\n",
    "        label = torch.LongTensor([self.labels[index]])\n",
    "        return inp, label\n",
    "\n",
    "    def __len__(self):\n",
    "        return len(self.inputs)\n",
    "\n",
    "dataloader = data.DataLoader(IrisDataset(train=True), batch_size=32, shuffle=True, num_workers=0)"
   ]
  },
  {
   "cell_type": "code",
   "execution_count": 16,
   "metadata": {},
   "outputs": [],
   "source": [
    "def metric(inferred_tensor: torch.Tensor, ground_truth: torch.Tensor) -> torch.Tensor:\n",
    "        \"\"\"Classification Accuracy\n",
    "        example)\n",
    "        inferred_tensor: [[0,0,1], [0,1,0]]\n",
    "        ground_truth: [2, 0]\n",
    "        return: 0.5\n",
    "        :param inferred_tensor: (torch.Tensor) [batch_size, n_classes(3)], inferred logits\n",
    "        :param ground_truth:  (torch.LongTensor) [batch_size], ground truth labels\n",
    "                                each consisting LongTensor ranging from 0 to 2\n",
    "        :return: (torch.Tensor) metric\n",
    "        \"\"\"\n",
    "\n",
    "        inferred_tensor = torch.argmax(inferred_tensor, dim=-1)\n",
    "        acc = torch.mean((inferred_tensor == ground_truth).to(torch.float), dim=-1)\n",
    "        return acc\n",
    "\n",
    "def flattenlist(lst):\n",
    "    flat_list = []\n",
    "    for sublist in lst:\n",
    "        for item in sublist:\n",
    "            flat_list.append(item)\n",
    "    return flat_list"
   ]
  },
  {
   "cell_type": "code",
   "execution_count": 297,
   "metadata": {},
   "outputs": [],
   "source": [
    "def NN(sz):\n",
    "    \n",
    "    features = torch.nn.Sequential(\n",
    "        torch.nn.Linear(4, sz),\n",
    "        torch.nn.Linear(sz, sz),\n",
    "        torch.nn.Linear(sz, sz),\n",
    "        torch.nn.Linear(sz, sz),\n",
    "        torch.nn.Linear(sz, sz),\n",
    "        #extension starts here\n",
    "        torch.nn.Linear(sz, 3)\n",
    "        \n",
    "    )\n",
    "    return(features)\n",
    "\n",
    "def NN_deep(sz):\n",
    "    \n",
    "    features = torch.nn.Sequential(\n",
    "        torch.nn.Linear(4, sz),\n",
    "        torch.nn.Linear(sz, sz),\n",
    "        torch.nn.Linear(sz, sz),\n",
    "        torch.nn.Linear(sz, sz),\n",
    "        torch.nn.Linear(sz, sz),\n",
    "        #extension starts here\n",
    "        torch.nn.Linear(sz, sz),\n",
    "        torch.nn.Linear(sz, sz),\n",
    "        torch.nn.Linear(sz, sz),\n",
    "        torch.nn.Linear(sz, sz),\n",
    "        torch.nn.Linear(sz, 3)\n",
    "        \n",
    "    )\n",
    "    return(features)\n",
    "\n",
    "net = NN(sz= 512)\n",
    "\n",
    "lossfunction = torch.nn.CrossEntropyLoss()\n",
    "#optimizer = torch.optim.SGD(net.parameters(), lr=0.1, momentum=0.5)\n",
    "optimizer = torch.optim.Adam(net.parameters(), lr= 0.001)"
   ]
  },
  {
   "cell_type": "code",
   "execution_count": 303,
   "metadata": {},
   "outputs": [],
   "source": [
    "def train_iris(model, criterion, optim, num_epochs, device = 'cpu'):\n",
    "    for epoch in range(num_epochs):\n",
    "        #계산을 하기 위해서 loss를 저장하는 변수(모니터링 용)\n",
    "        train_loss = torch.Tensor([0]).to(device)\n",
    "        train_acc = torch.Tensor([0]).to(device)\n",
    "\n",
    "        for x, y in dataloader:\n",
    "            x = x.to(device)\n",
    "            y= y.squeeze(-1).to(device)\n",
    "\n",
    "            optimizer.zero_grad()\n",
    "            y_ = model(x)\n",
    "\n",
    "            loss = criterion(y_, y)\n",
    "            train_loss +=loss\n",
    "            loss.backward()\n",
    "            optimizer.step()\n",
    "\n",
    "            acc = metric(y_, y)\n",
    "            train_acc += acc\n",
    "\n",
    "        train_loss /= len(dataloader)\n",
    "        train_acc /= len(dataloader)\n",
    "\n",
    "        print('[{curr}/{tot}] >Loss: {loss:.2f}, Acc: {acc:.2f}%'.format(\n",
    "            curr = epoch+1,\n",
    "            tot = num_epochs,\n",
    "            loss = train_loss.detach().cpu().item(),\n",
    "            acc = float(100*train_acc.detach().cpu().item())\n",
    "        ))\n",
    "\n",
    "\n",
    "\n",
    "\n",
    "        \n"
   ]
  },
  {
   "cell_type": "code",
   "execution_count": 52,
   "metadata": {},
   "outputs": [],
   "source": [
    "def get_accuracy(output, targets):\n",
    "    \"\"\"Helper function to print the accuracy\"\"\"\n",
    "    predictions = output.argmax(dim=1, keepdim=True).view_as(targets)\n",
    "    return predictions.eq(targets).float().mean().item()"
   ]
  },
  {
   "cell_type": "code",
   "execution_count": 304,
   "metadata": {},
   "outputs": [
    {
     "name": "stdout",
     "output_type": "stream",
     "text": [
      "[1/100] >Loss: 0.07, Acc: 96.61%\n",
      "[2/100] >Loss: 0.12, Acc: 95.31%\n",
      "[3/100] >Loss: 0.07, Acc: 96.88%\n",
      "[4/100] >Loss: 0.06, Acc: 96.88%\n",
      "[5/100] >Loss: 0.07, Acc: 97.66%\n",
      "[6/100] >Loss: 0.06, Acc: 97.66%\n",
      "[7/100] >Loss: 0.07, Acc: 98.18%\n",
      "[8/100] >Loss: 0.06, Acc: 97.66%\n",
      "[9/100] >Loss: 0.07, Acc: 96.61%\n",
      "[10/100] >Loss: 0.07, Acc: 97.40%\n",
      "[11/100] >Loss: 0.07, Acc: 97.40%\n",
      "[12/100] >Loss: 0.09, Acc: 95.83%\n",
      "[13/100] >Loss: 0.07, Acc: 97.66%\n",
      "[14/100] >Loss: 0.06, Acc: 97.40%\n",
      "[15/100] >Loss: 0.08, Acc: 97.14%\n",
      "[16/100] >Loss: 0.07, Acc: 96.61%\n",
      "[17/100] >Loss: 0.07, Acc: 96.88%\n",
      "[18/100] >Loss: 0.08, Acc: 96.61%\n",
      "[19/100] >Loss: 0.07, Acc: 97.66%\n",
      "[20/100] >Loss: 0.06, Acc: 97.40%\n",
      "[21/100] >Loss: 0.06, Acc: 97.40%\n",
      "[22/100] >Loss: 0.07, Acc: 96.09%\n",
      "[23/100] >Loss: 0.06, Acc: 96.09%\n",
      "[24/100] >Loss: 0.09, Acc: 97.14%\n",
      "[25/100] >Loss: 0.09, Acc: 96.09%\n",
      "[26/100] >Loss: 0.06, Acc: 97.40%\n",
      "[27/100] >Loss: 0.08, Acc: 97.40%\n",
      "[28/100] >Loss: 0.07, Acc: 95.83%\n",
      "[29/100] >Loss: 0.11, Acc: 96.61%\n",
      "[30/100] >Loss: 0.09, Acc: 95.57%\n",
      "[31/100] >Loss: 0.07, Acc: 96.61%\n",
      "[32/100] >Loss: 0.08, Acc: 97.40%\n",
      "[33/100] >Loss: 0.11, Acc: 95.31%\n",
      "[34/100] >Loss: 0.12, Acc: 96.35%\n",
      "[35/100] >Loss: 0.12, Acc: 94.53%\n",
      "[36/100] >Loss: 0.08, Acc: 97.40%\n",
      "[37/100] >Loss: 0.09, Acc: 98.44%\n",
      "[38/100] >Loss: 0.10, Acc: 95.57%\n",
      "[39/100] >Loss: 0.08, Acc: 98.18%\n",
      "[40/100] >Loss: 0.09, Acc: 96.61%\n",
      "[41/100] >Loss: 0.07, Acc: 96.88%\n",
      "[42/100] >Loss: 0.07, Acc: 97.66%\n",
      "[43/100] >Loss: 0.07, Acc: 97.40%\n",
      "[44/100] >Loss: 0.06, Acc: 96.61%\n",
      "[45/100] >Loss: 0.06, Acc: 97.40%\n",
      "[46/100] >Loss: 0.06, Acc: 96.61%\n",
      "[47/100] >Loss: 0.06, Acc: 97.66%\n",
      "[48/100] >Loss: 0.06, Acc: 97.66%\n",
      "[49/100] >Loss: 0.07, Acc: 96.61%\n",
      "[50/100] >Loss: 0.07, Acc: 97.40%\n",
      "[51/100] >Loss: 0.06, Acc: 98.18%\n",
      "[52/100] >Loss: 0.06, Acc: 96.88%\n",
      "[53/100] >Loss: 0.06, Acc: 97.66%\n",
      "[54/100] >Loss: 0.06, Acc: 98.44%\n",
      "[55/100] >Loss: 0.06, Acc: 97.66%\n",
      "[56/100] >Loss: 0.06, Acc: 96.35%\n",
      "[57/100] >Loss: 0.08, Acc: 96.61%\n",
      "[58/100] >Loss: 0.06, Acc: 96.61%\n",
      "[59/100] >Loss: 0.06, Acc: 97.66%\n",
      "[60/100] >Loss: 0.08, Acc: 97.40%\n",
      "[61/100] >Loss: 0.07, Acc: 98.44%\n",
      "[62/100] >Loss: 0.07, Acc: 97.66%\n",
      "[63/100] >Loss: 0.08, Acc: 97.40%\n",
      "[64/100] >Loss: 0.06, Acc: 97.66%\n",
      "[65/100] >Loss: 0.08, Acc: 97.14%\n",
      "[66/100] >Loss: 0.06, Acc: 97.66%\n",
      "[67/100] >Loss: 0.07, Acc: 96.88%\n",
      "[68/100] >Loss: 0.06, Acc: 97.40%\n",
      "[69/100] >Loss: 0.07, Acc: 97.66%\n",
      "[70/100] >Loss: 0.07, Acc: 96.88%\n",
      "[71/100] >Loss: 0.06, Acc: 98.44%\n",
      "[72/100] >Loss: 0.07, Acc: 97.40%\n",
      "[73/100] >Loss: 0.06, Acc: 97.40%\n",
      "[74/100] >Loss: 0.10, Acc: 95.05%\n",
      "[75/100] >Loss: 0.06, Acc: 98.44%\n",
      "[76/100] >Loss: 0.09, Acc: 96.88%\n",
      "[77/100] >Loss: 0.08, Acc: 97.40%\n",
      "[78/100] >Loss: 0.10, Acc: 97.14%\n",
      "[79/100] >Loss: 0.06, Acc: 97.40%\n",
      "[80/100] >Loss: 0.07, Acc: 97.66%\n",
      "[81/100] >Loss: 0.06, Acc: 97.66%\n",
      "[82/100] >Loss: 0.06, Acc: 96.61%\n",
      "[83/100] >Loss: 0.08, Acc: 96.88%\n",
      "[84/100] >Loss: 0.05, Acc: 97.66%\n",
      "[85/100] >Loss: 0.07, Acc: 96.88%\n",
      "[86/100] >Loss: 0.06, Acc: 98.44%\n",
      "[87/100] >Loss: 0.06, Acc: 97.40%\n",
      "[88/100] >Loss: 0.07, Acc: 96.61%\n",
      "[89/100] >Loss: 0.06, Acc: 97.40%\n",
      "[90/100] >Loss: 0.06, Acc: 97.40%\n",
      "[91/100] >Loss: 0.06, Acc: 97.66%\n",
      "[92/100] >Loss: 0.06, Acc: 97.66%\n",
      "[93/100] >Loss: 0.08, Acc: 97.40%\n",
      "[94/100] >Loss: 0.06, Acc: 97.66%\n",
      "[95/100] >Loss: 0.06, Acc: 96.88%\n",
      "[96/100] >Loss: 0.09, Acc: 96.61%\n",
      "[97/100] >Loss: 0.07, Acc: 98.18%\n",
      "[98/100] >Loss: 0.12, Acc: 95.57%\n",
      "[99/100] >Loss: 0.07, Acc: 97.40%\n",
      "[100/100] >Loss: 0.07, Acc: 96.61%\n"
     ]
    }
   ],
   "source": [
    "train_iris(net, lossfunction, optimizer, 100)"
   ]
  },
  {
   "cell_type": "code",
   "execution_count": 165,
   "metadata": {},
   "outputs": [],
   "source": [
    "def get_Hessian_NN(model, train_loader, prec0, device='cpu', verbose=False):\n",
    "    lossfunc = lossfunction\n",
    "\n",
    "    extend(lossfunc, debug=False)\n",
    "    extend(model, debug=False)\n",
    "\n",
    "    Cov_diag = []\n",
    "    for param in model.parameters():\n",
    "        ps = param.size()\n",
    "        #print(\"parameter size: \", ps)\n",
    "        Cov_diag.append(torch.zeros(ps, device=device))\n",
    "        #print(param.numel())\n",
    "\n",
    "    #var0 = 1/prec0\n",
    "    max_len = len(train_loader)\n",
    "    for param in model.parameters():\n",
    "        print(torch.mean(param))\n",
    "    \n",
    "    model.eval()\n",
    "    acctemp = []\n",
    "    max_len = len(train_loader)\n",
    "    for batch_idx, (x, y) in enumerate(train_loader):\n",
    "            output = model(x)\n",
    "            accuracy = get_accuracy(output, y)\n",
    "            #if batch_idx % 30 == 0:\n",
    "               # print(\n",
    "               #     \"Batch {}/{} \\t\".format(batch_idx, max_len) + \n",
    "               #     \"Accuracy %.0f\" % (accuracy * 100) + \"%\"\n",
    "               # )\n",
    "            acctemp.append(accuracy)\n",
    "\n",
    "    print(np.mean(acctemp))\n",
    "    model.train()\n",
    "\n",
    "    with backpack(DiagHessian()):\n",
    "\n",
    "        for batch_idx, (x, y) in enumerate(train_loader):\n",
    "            \n",
    "            \n",
    "            #if device == 'cuda':\n",
    "            #    x, y = x.float().cuda(), y.long().cuda()\n",
    "            #else:\n",
    "            #    x, y = torch.tensor(x).float(), torch.tensor(y).float()\n",
    "            #print(x, y)\n",
    "            x = x.to(device)\n",
    "            y= y.squeeze(-1).to(device)\n",
    "\n",
    "            model.zero_grad()\n",
    "            #x, y = x.view(-1, 1), y.view(-1, 1) \n",
    "                        \n",
    "            lossfunc(model(x), y).backward()\n",
    "\n",
    "            with torch.no_grad():\n",
    "                # Hessian of weight\n",
    "                for idx, param in enumerate(model.parameters()):\n",
    "\n",
    "                    H_ = param.diag_h\n",
    "                    #print(H_)\n",
    "                    #add prior here\n",
    "                    H_ += prec0 * torch.ones(H_.size())\n",
    "                    H_inv = torch.sqrt(1/H_) #<-- standard deviation\n",
    "                    #H_inv = 1/H_              #<-- variance \n",
    "\n",
    "                    rho = 1-1/(batch_idx+1)\n",
    "\n",
    "                    Cov_diag[idx] = rho*Cov_diag[idx] + (1-rho)* H_inv\n",
    "            \n",
    "            if verbose:\n",
    "                print(\"Batch: {}/{}\".format(batch_idx, max_len))\n",
    "    print()\n",
    "    model.eval()\n",
    "    acctemp = []\n",
    "    max_len = len(train_loader)\n",
    "    for batch_idx, (x, y) in enumerate(train_loader):\n",
    "            output = model(x)\n",
    "            accuracy = get_accuracy(output, y)\n",
    "           # if batch_idx % 30 == 0:\n",
    "           #     print(\n",
    "           #         \"Batch {}/{} \\t\".format(batch_idx, max_len) + \n",
    "           #         \"Accuracy %.0f\" % (accuracy * 100) + \"%\"\n",
    "           #     )\n",
    "            acctemp.append(accuracy)\n",
    "\n",
    "    print(np.mean(acctemp))\n",
    "    model.train()\n",
    "\n",
    "    model.train()\n",
    "    for param in model.parameters():\n",
    "        print(torch.mean(param))\n",
    "    \n",
    "    return(Cov_diag)"
   ]
  },
  {
   "cell_type": "code",
   "execution_count": 186,
   "metadata": {},
   "outputs": [
    {
     "name": "stdout",
     "output_type": "stream",
     "text": [
      "tensor(-0.0814, grad_fn=<MeanBackward0>)\n",
      "tensor(0.2675, grad_fn=<MeanBackward0>)\n",
      "tensor(0.0701, grad_fn=<MeanBackward0>)\n",
      "tensor(0.0580, grad_fn=<MeanBackward0>)\n",
      "tensor(-0.0262, grad_fn=<MeanBackward0>)\n",
      "tensor(0.1605, grad_fn=<MeanBackward0>)\n",
      "tensor(0.0464, grad_fn=<MeanBackward0>)\n",
      "tensor(0.1622, grad_fn=<MeanBackward0>)\n",
      "tensor(0.0811, grad_fn=<MeanBackward0>)\n",
      "tensor(-0.0838, grad_fn=<MeanBackward0>)\n",
      "tensor(-0.1204, grad_fn=<MeanBackward0>)\n",
      "tensor(0.2338, grad_fn=<MeanBackward0>)\n",
      "0.328125\n",
      "\n",
      "0.3515625\n",
      "tensor(-0.0814, grad_fn=<MeanBackward0>)\n",
      "tensor(0.2675, grad_fn=<MeanBackward0>)\n",
      "tensor(0.0701, grad_fn=<MeanBackward0>)\n",
      "tensor(0.0580, grad_fn=<MeanBackward0>)\n",
      "tensor(-0.0262, grad_fn=<MeanBackward0>)\n",
      "tensor(0.1605, grad_fn=<MeanBackward0>)\n",
      "tensor(0.0464, grad_fn=<MeanBackward0>)\n",
      "tensor(0.1622, grad_fn=<MeanBackward0>)\n",
      "tensor(0.0811, grad_fn=<MeanBackward0>)\n",
      "tensor(-0.0838, grad_fn=<MeanBackward0>)\n",
      "tensor(-0.1204, grad_fn=<MeanBackward0>)\n",
      "tensor(0.2338, grad_fn=<MeanBackward0>)\n"
     ]
    }
   ],
   "source": [
    "#testnet = NN(sz=4)\n",
    "testHess = get_Hessian_NN(testnet, train_loader=dataloader, prec0 = 0.1, verbose=False)"
   ]
  },
  {
   "cell_type": "markdown",
   "metadata": {},
   "source": [
    "## Analyze IRIS (depth: 6 hl)"
   ]
  },
  {
   "cell_type": "markdown",
   "metadata": {},
   "source": [
    "### width: 1"
   ]
  },
  {
   "cell_type": "code",
   "execution_count": 24,
   "metadata": {},
   "outputs": [],
   "source": [
    "#iris_state_1 = net.state_dict()"
   ]
  },
  {
   "cell_type": "code",
   "execution_count": 218,
   "metadata": {},
   "outputs": [
    {
     "ename": "NameError",
     "evalue": "name 'iris_state_1' is not defined",
     "output_type": "error",
     "traceback": [
      "\u001b[0;31m---------------------------------------------------------------------------\u001b[0m",
      "\u001b[0;31mNameError\u001b[0m                                 Traceback (most recent call last)",
      "\u001b[0;32m<ipython-input-218-369fe05cbc85>\u001b[0m in \u001b[0;36m<module>\u001b[0;34m()\u001b[0m\n\u001b[1;32m      1\u001b[0m \u001b[0mnet\u001b[0m \u001b[0;34m=\u001b[0m \u001b[0mNN\u001b[0m\u001b[0;34m(\u001b[0m\u001b[0msz\u001b[0m\u001b[0;34m=\u001b[0m\u001b[0;36m1\u001b[0m\u001b[0;34m)\u001b[0m\u001b[0;34m\u001b[0m\u001b[0;34m\u001b[0m\u001b[0m\n\u001b[0;32m----> 2\u001b[0;31m \u001b[0mnet\u001b[0m\u001b[0;34m.\u001b[0m\u001b[0mload_state_dict\u001b[0m\u001b[0;34m(\u001b[0m\u001b[0miris_state_1\u001b[0m\u001b[0;34m)\u001b[0m\u001b[0;34m\u001b[0m\u001b[0;34m\u001b[0m\u001b[0m\n\u001b[0m\u001b[1;32m      3\u001b[0m \u001b[0mperceptronDiagH\u001b[0m \u001b[0;34m=\u001b[0m \u001b[0mget_Hessian_NN\u001b[0m\u001b[0;34m(\u001b[0m\u001b[0mmodel\u001b[0m\u001b[0;34m=\u001b[0m\u001b[0mnet\u001b[0m\u001b[0;34m,\u001b[0m \u001b[0mtrain_loader\u001b[0m\u001b[0;34m=\u001b[0m\u001b[0mdataloader\u001b[0m\u001b[0;34m,\u001b[0m \u001b[0mprec0\u001b[0m\u001b[0;34m=\u001b[0m\u001b[0;36m0.1\u001b[0m\u001b[0;34m,\u001b[0m \u001b[0mverbose\u001b[0m\u001b[0;34m=\u001b[0m\u001b[0;32mFalse\u001b[0m\u001b[0;34m)\u001b[0m\u001b[0;34m\u001b[0m\u001b[0;34m\u001b[0m\u001b[0m\n\u001b[1;32m      4\u001b[0m \u001b[0mwidth1\u001b[0m \u001b[0;34m=\u001b[0m \u001b[0;34m[\u001b[0m\u001b[0;34m]\u001b[0m\u001b[0;34m\u001b[0m\u001b[0;34m\u001b[0m\u001b[0m\n\u001b[1;32m      5\u001b[0m \u001b[0;32mfor\u001b[0m \u001b[0mi\u001b[0m\u001b[0;34m,\u001b[0m \u001b[0mparam\u001b[0m \u001b[0;32min\u001b[0m \u001b[0menumerate\u001b[0m\u001b[0;34m(\u001b[0m\u001b[0mperceptronDiagH\u001b[0m\u001b[0;34m)\u001b[0m\u001b[0;34m:\u001b[0m\u001b[0;34m\u001b[0m\u001b[0;34m\u001b[0m\u001b[0m\n",
      "\u001b[0;31mNameError\u001b[0m: name 'iris_state_1' is not defined"
     ]
    }
   ],
   "source": [
    "net = NN(sz=1)\n",
    "net.load_state_dict(iris_state_1)\n",
    "perceptronDiagH = get_Hessian_NN(model=net, train_loader=dataloader, prec0=0.1, verbose=False)\n",
    "width1 = []\n",
    "for i, param in enumerate(perceptronDiagH):\n",
    "    if i %2 == 0:\n",
    "        print(torch.mean(param))\n",
    "        width1.append(torch.mean(param).item())"
   ]
  },
  {
   "cell_type": "markdown",
   "metadata": {},
   "source": [
    "### width: 5"
   ]
  },
  {
   "cell_type": "code",
   "execution_count": null,
   "metadata": {},
   "outputs": [],
   "source": [
    "#iris_state_5 = net.state_dict()"
   ]
  },
  {
   "cell_type": "code",
   "execution_count": null,
   "metadata": {},
   "outputs": [],
   "source": [
    "net = NN(sz=5)\n",
    "net.load_state_dict(iris_state_5)\n",
    "perceptronDiagH = get_Hessian_NN(model=net, train_loader=dataloader, prec0=0.1, verbose=False)\n",
    "width5 = []\n",
    "for i, param in enumerate(perceptronDiagH):\n",
    "    if i %2 == 0:\n",
    "        print(torch.mean(param))\n",
    "        width5.append(torch.mean(param).item())"
   ]
  },
  {
   "cell_type": "markdown",
   "metadata": {},
   "source": [
    "### width: 20"
   ]
  },
  {
   "cell_type": "code",
   "execution_count": null,
   "metadata": {},
   "outputs": [],
   "source": [
    "#iris_state_20 = net.state_dict()"
   ]
  },
  {
   "cell_type": "code",
   "execution_count": null,
   "metadata": {},
   "outputs": [],
   "source": [
    "net = NN(sz=20)\n",
    "net.load_state_dict(iris_state_20)\n",
    "perceptronDiagH = get_Hessian_NN(model=net, train_loader=dataloader, prec0=0.1, verbose=False)\n",
    "width20 = []\n",
    "for i, param in enumerate(perceptronDiagH):\n",
    "    if i %2 == 0:\n",
    "        print(torch.mean(param))\n",
    "        width20.append(torch.mean(param).item())"
   ]
  },
  {
   "cell_type": "markdown",
   "metadata": {},
   "source": [
    "### width: 100"
   ]
  },
  {
   "cell_type": "code",
   "execution_count": null,
   "metadata": {},
   "outputs": [],
   "source": [
    "#iris_state_100 = net.state_dict()"
   ]
  },
  {
   "cell_type": "code",
   "execution_count": null,
   "metadata": {},
   "outputs": [],
   "source": [
    "net = NN(sz=100)\n",
    "net.load_state_dict(iris_state_100)\n",
    "perceptronDiagH = get_Hessian_NN(model=net, train_loader=dataloader, prec0=0.1, verbose=False)\n",
    "width100 = []\n",
    "for i, param in enumerate(perceptronDiagH):\n",
    "    if i %2 == 0:\n",
    "        print(torch.mean(param))\n",
    "        width100.append(torch.mean(param).item())"
   ]
  },
  {
   "cell_type": "code",
   "execution_count": null,
   "metadata": {},
   "outputs": [],
   "source": [
    "line, = plt.plot(layrnames, width100)\n",
    "line.set_label('100')\n",
    "line, = plt.plot(layrnames, width20)\n",
    "line.set_label('20')\n",
    "line, = plt.plot(layrnames, width5)\n",
    "line.set_label('50')\n",
    "line, = plt.plot(layrnames, width1)\n",
    "line.set_label('1')\n",
    "plt.legend()"
   ]
  },
  {
   "cell_type": "markdown",
   "metadata": {},
   "source": [
    "## depth: 10 hl"
   ]
  },
  {
   "cell_type": "markdown",
   "metadata": {},
   "source": [
    "### width: 1"
   ]
  },
  {
   "cell_type": "code",
   "execution_count": null,
   "metadata": {},
   "outputs": [],
   "source": [
    "#iris_state_1_deep = net.state_dict()"
   ]
  },
  {
   "cell_type": "code",
   "execution_count": null,
   "metadata": {},
   "outputs": [],
   "source": [
    "net = NN_deep(sz=1)\n",
    "net.load_state_dict(iris_state_1_deep)\n",
    "perceptronDiagH = get_Hessian_NN(model=net, train_loader=dataloader, prec0=0.1, verbose=False)\n",
    "width1deep = []\n",
    "for i, param in enumerate(perceptronDiagH):\n",
    "    if i %2 == 0:\n",
    "        print(torch.mean(param))\n",
    "        width1deep.append(torch.mean(param).item())"
   ]
  },
  {
   "cell_type": "markdown",
   "metadata": {},
   "source": [
    "### width: 5"
   ]
  },
  {
   "cell_type": "code",
   "execution_count": null,
   "metadata": {},
   "outputs": [],
   "source": [
    "#iris_state_5_deep = net.state_dict()"
   ]
  },
  {
   "cell_type": "code",
   "execution_count": null,
   "metadata": {},
   "outputs": [],
   "source": [
    "net = NN_deep(sz=5)\n",
    "net.load_state_dict(iris_state_5_deep)\n",
    "perceptronDiagH = get_Hessian_NN(model=net, train_loader=dataloader, prec0=0.1, verbose=False)\n",
    "width5deep = []\n",
    "for i, param in enumerate(perceptronDiagH):\n",
    "    if i %2 == 0:\n",
    "        print(torch.mean(param))\n",
    "        width5deep.append(torch.mean(param).item())"
   ]
  },
  {
   "cell_type": "markdown",
   "metadata": {},
   "source": [
    "### width: 20"
   ]
  },
  {
   "cell_type": "code",
   "execution_count": null,
   "metadata": {},
   "outputs": [],
   "source": [
    "#iris_state_20_deep = net.state_dict()"
   ]
  },
  {
   "cell_type": "code",
   "execution_count": null,
   "metadata": {},
   "outputs": [],
   "source": [
    "net = NN_deep(sz=20)\n",
    "net.load_state_dict(iris_state_20_deep)\n",
    "perceptronDiagH = get_Hessian_NN(model=net, train_loader=dataloader, prec0=0.1, verbose=False)\n",
    "width20deep = []\n",
    "for i, param in enumerate(perceptronDiagH):\n",
    "    if i %2 == 0:\n",
    "        print(torch.mean(param))\n",
    "        width20deep.append(torch.mean(param).item())"
   ]
  },
  {
   "cell_type": "markdown",
   "metadata": {},
   "source": [
    "### width: 100"
   ]
  },
  {
   "cell_type": "code",
   "execution_count": null,
   "metadata": {},
   "outputs": [],
   "source": [
    "#iris_state_100_deep = net.state_dict()"
   ]
  },
  {
   "cell_type": "code",
   "execution_count": null,
   "metadata": {},
   "outputs": [],
   "source": [
    "net = NN_deep(sz=100)\n",
    "net.load_state_dict(iris_state_100_deep)\n",
    "perceptronDiagH = get_Hessian_NN(model=net, train_loader=dataloader, prec0=0.1, verbose=False)\n",
    "width100deep = []\n",
    "for i, param in enumerate(perceptronDiagH):\n",
    "    if i %2 == 0:\n",
    "        print(torch.mean(param))\n",
    "        width100deep.append(torch.mean(param).item())"
   ]
  },
  {
   "cell_type": "code",
   "execution_count": null,
   "metadata": {},
   "outputs": [],
   "source": [
    "line, = plt.plot(deepnames, width100deep)\n",
    "line.set_label('100')\n",
    "line, = plt.plot(deepnames, width20deep)\n",
    "line.set_label('20')\n",
    "line, = plt.plot(deepnames, width5deep)\n",
    "line.set_label('5')\n",
    "line, = plt.plot(deepnames, width1deep)\n",
    "line.set_label('1')\n",
    "plt.legend()"
   ]
  },
  {
   "cell_type": "code",
   "execution_count": null,
   "metadata": {},
   "outputs": [],
   "source": []
  },
  {
   "cell_type": "code",
   "execution_count": null,
   "metadata": {},
   "outputs": [],
   "source": [
    "deepnames = []\n",
    "for key in iris_state_100_deep.keys():\n",
    "    if 'weight' in key:\n",
    "        deepnames.append(key)\n",
    "layrnames = []\n",
    "for key in iris_state_100.keys():\n",
    "    if 'weight' in key:\n",
    "        layrnames.append(key)"
   ]
  },
  {
   "cell_type": "code",
   "execution_count": 273,
   "metadata": {},
   "outputs": [],
   "source": [
    "net1 = NN(sz=1)\n",
    "net2 = NN(sz=2)\n",
    "net4 = NN(sz=4)\n",
    "net8 = NN(sz=8)\n",
    "net16 = NN(sz=16)\n",
    "net32 = NN(sz=32)\n",
    "net128 = NN(sz=128)"
   ]
  },
  {
   "cell_type": "code",
   "execution_count": 274,
   "metadata": {},
   "outputs": [
    {
     "name": "stdout",
     "output_type": "stream",
     "text": [
      "tensor(-0.2481, grad_fn=<MeanBackward0>)\n",
      "tensor(0.1636, grad_fn=<MeanBackward0>)\n",
      "tensor(-0.5829, grad_fn=<MeanBackward0>)\n",
      "tensor(-0.9234, grad_fn=<MeanBackward0>)\n",
      "tensor(0.8947, grad_fn=<MeanBackward0>)\n",
      "tensor(-0.0469, grad_fn=<MeanBackward0>)\n",
      "tensor(-0.3093, grad_fn=<MeanBackward0>)\n",
      "tensor(0.1873, grad_fn=<MeanBackward0>)\n",
      "tensor(-0.9994, grad_fn=<MeanBackward0>)\n",
      "tensor(0.2947, grad_fn=<MeanBackward0>)\n",
      "tensor(0.1594, grad_fn=<MeanBackward0>)\n",
      "tensor(0.1737, grad_fn=<MeanBackward0>)\n",
      "0.3255208358168602\n",
      "\n",
      "0.328125\n",
      "tensor(-0.2481, grad_fn=<MeanBackward0>)\n",
      "tensor(0.1636, grad_fn=<MeanBackward0>)\n",
      "tensor(-0.5829, grad_fn=<MeanBackward0>)\n",
      "tensor(-0.9234, grad_fn=<MeanBackward0>)\n",
      "tensor(0.8947, grad_fn=<MeanBackward0>)\n",
      "tensor(-0.0469, grad_fn=<MeanBackward0>)\n",
      "tensor(-0.3093, grad_fn=<MeanBackward0>)\n",
      "tensor(0.1873, grad_fn=<MeanBackward0>)\n",
      "tensor(-0.9994, grad_fn=<MeanBackward0>)\n",
      "tensor(0.2947, grad_fn=<MeanBackward0>)\n",
      "tensor(0.1594, grad_fn=<MeanBackward0>)\n",
      "tensor(0.1737, grad_fn=<MeanBackward0>)\n",
      "tensor(0.0540, grad_fn=<MeanBackward0>)\n",
      "tensor(-0.1081, grad_fn=<MeanBackward0>)\n",
      "tensor(-0.0672, grad_fn=<MeanBackward0>)\n",
      "tensor(0.0705, grad_fn=<MeanBackward0>)\n",
      "tensor(-0.2169, grad_fn=<MeanBackward0>)\n",
      "tensor(0.2571, grad_fn=<MeanBackward0>)\n",
      "tensor(0.0041, grad_fn=<MeanBackward0>)\n",
      "tensor(0.3967, grad_fn=<MeanBackward0>)\n",
      "tensor(-0.0842, grad_fn=<MeanBackward0>)\n",
      "tensor(-0.3988, grad_fn=<MeanBackward0>)\n",
      "tensor(0.0152, grad_fn=<MeanBackward0>)\n",
      "tensor(-0.0736, grad_fn=<MeanBackward0>)\n",
      "0.3307291679084301\n",
      "\n",
      "0.34375\n",
      "tensor(0.0540, grad_fn=<MeanBackward0>)\n",
      "tensor(-0.1081, grad_fn=<MeanBackward0>)\n",
      "tensor(-0.0672, grad_fn=<MeanBackward0>)\n",
      "tensor(0.0705, grad_fn=<MeanBackward0>)\n",
      "tensor(-0.2169, grad_fn=<MeanBackward0>)\n",
      "tensor(0.2571, grad_fn=<MeanBackward0>)\n",
      "tensor(0.0041, grad_fn=<MeanBackward0>)\n",
      "tensor(0.3967, grad_fn=<MeanBackward0>)\n",
      "tensor(-0.0842, grad_fn=<MeanBackward0>)\n",
      "tensor(-0.3988, grad_fn=<MeanBackward0>)\n",
      "tensor(0.0152, grad_fn=<MeanBackward0>)\n",
      "tensor(-0.0736, grad_fn=<MeanBackward0>)\n",
      "tensor(-0.0769, grad_fn=<MeanBackward0>)\n",
      "tensor(-0.0312, grad_fn=<MeanBackward0>)\n",
      "tensor(0.1473, grad_fn=<MeanBackward0>)\n",
      "tensor(0.0425, grad_fn=<MeanBackward0>)\n",
      "tensor(0.0828, grad_fn=<MeanBackward0>)\n",
      "tensor(0.1182, grad_fn=<MeanBackward0>)\n",
      "tensor(0.0391, grad_fn=<MeanBackward0>)\n",
      "tensor(-0.2072, grad_fn=<MeanBackward0>)\n",
      "tensor(-0.0882, grad_fn=<MeanBackward0>)\n",
      "tensor(0.1359, grad_fn=<MeanBackward0>)\n",
      "tensor(-0.0228, grad_fn=<MeanBackward0>)\n",
      "tensor(0.0062, grad_fn=<MeanBackward0>)\n",
      "0.34375\n",
      "\n",
      "0.3385416641831398\n",
      "tensor(-0.0769, grad_fn=<MeanBackward0>)\n",
      "tensor(-0.0312, grad_fn=<MeanBackward0>)\n",
      "tensor(0.1473, grad_fn=<MeanBackward0>)\n",
      "tensor(0.0425, grad_fn=<MeanBackward0>)\n",
      "tensor(0.0828, grad_fn=<MeanBackward0>)\n",
      "tensor(0.1182, grad_fn=<MeanBackward0>)\n",
      "tensor(0.0391, grad_fn=<MeanBackward0>)\n",
      "tensor(-0.2072, grad_fn=<MeanBackward0>)\n",
      "tensor(-0.0882, grad_fn=<MeanBackward0>)\n",
      "tensor(0.1359, grad_fn=<MeanBackward0>)\n",
      "tensor(-0.0228, grad_fn=<MeanBackward0>)\n",
      "tensor(0.0062, grad_fn=<MeanBackward0>)\n",
      "tensor(-0.0306, grad_fn=<MeanBackward0>)\n",
      "tensor(0.0792, grad_fn=<MeanBackward0>)\n",
      "tensor(-0.0393, grad_fn=<MeanBackward0>)\n",
      "tensor(0.1682, grad_fn=<MeanBackward0>)\n",
      "tensor(0.0060, grad_fn=<MeanBackward0>)\n",
      "tensor(-0.1383, grad_fn=<MeanBackward0>)\n",
      "tensor(0.0101, grad_fn=<MeanBackward0>)\n",
      "tensor(0.0131, grad_fn=<MeanBackward0>)\n",
      "tensor(-0.0259, grad_fn=<MeanBackward0>)\n",
      "tensor(-0.0221, grad_fn=<MeanBackward0>)\n",
      "tensor(-0.0115, grad_fn=<MeanBackward0>)\n",
      "tensor(0.1057, grad_fn=<MeanBackward0>)\n",
      "0.3307291641831398\n",
      "\n",
      "0.3229166641831398\n",
      "tensor(-0.0306, grad_fn=<MeanBackward0>)\n",
      "tensor(0.0792, grad_fn=<MeanBackward0>)\n",
      "tensor(-0.0393, grad_fn=<MeanBackward0>)\n",
      "tensor(0.1682, grad_fn=<MeanBackward0>)\n",
      "tensor(0.0060, grad_fn=<MeanBackward0>)\n",
      "tensor(-0.1383, grad_fn=<MeanBackward0>)\n",
      "tensor(0.0101, grad_fn=<MeanBackward0>)\n",
      "tensor(0.0131, grad_fn=<MeanBackward0>)\n",
      "tensor(-0.0259, grad_fn=<MeanBackward0>)\n",
      "tensor(-0.0221, grad_fn=<MeanBackward0>)\n",
      "tensor(-0.0115, grad_fn=<MeanBackward0>)\n",
      "tensor(0.1057, grad_fn=<MeanBackward0>)\n",
      "tensor(-0.0657, grad_fn=<MeanBackward0>)\n",
      "tensor(0.0475, grad_fn=<MeanBackward0>)\n",
      "tensor(0.0077, grad_fn=<MeanBackward0>)\n",
      "tensor(0.0477, grad_fn=<MeanBackward0>)\n",
      "tensor(0.0014, grad_fn=<MeanBackward0>)\n",
      "tensor(-0.0368, grad_fn=<MeanBackward0>)\n",
      "tensor(0.0117, grad_fn=<MeanBackward0>)\n",
      "tensor(0.0301, grad_fn=<MeanBackward0>)\n",
      "tensor(0.0052, grad_fn=<MeanBackward0>)\n",
      "tensor(-0.0482, grad_fn=<MeanBackward0>)\n",
      "tensor(-0.0070, grad_fn=<MeanBackward0>)\n",
      "tensor(0.0508, grad_fn=<MeanBackward0>)\n",
      "0.3229166641831398\n",
      "\n",
      "0.3229166641831398\n",
      "tensor(-0.0657, grad_fn=<MeanBackward0>)\n",
      "tensor(0.0475, grad_fn=<MeanBackward0>)\n",
      "tensor(0.0077, grad_fn=<MeanBackward0>)\n",
      "tensor(0.0477, grad_fn=<MeanBackward0>)\n",
      "tensor(0.0014, grad_fn=<MeanBackward0>)\n",
      "tensor(-0.0368, grad_fn=<MeanBackward0>)\n",
      "tensor(0.0117, grad_fn=<MeanBackward0>)\n",
      "tensor(0.0301, grad_fn=<MeanBackward0>)\n",
      "tensor(0.0052, grad_fn=<MeanBackward0>)\n",
      "tensor(-0.0482, grad_fn=<MeanBackward0>)\n",
      "tensor(-0.0070, grad_fn=<MeanBackward0>)\n",
      "tensor(0.0508, grad_fn=<MeanBackward0>)\n",
      "tensor(-0.0058, grad_fn=<MeanBackward0>)\n",
      "tensor(0.0102, grad_fn=<MeanBackward0>)\n",
      "tensor(0.0015, grad_fn=<MeanBackward0>)\n",
      "tensor(-0.0112, grad_fn=<MeanBackward0>)\n",
      "tensor(0.0023, grad_fn=<MeanBackward0>)\n",
      "tensor(0.0256, grad_fn=<MeanBackward0>)\n",
      "tensor(-0.0013, grad_fn=<MeanBackward0>)\n",
      "tensor(0.0077, grad_fn=<MeanBackward0>)\n",
      "tensor(0.0059, grad_fn=<MeanBackward0>)\n",
      "tensor(0.0078, grad_fn=<MeanBackward0>)\n",
      "tensor(-0.0032, grad_fn=<MeanBackward0>)\n",
      "tensor(-0.0308, grad_fn=<MeanBackward0>)\n",
      "0.328125\n",
      "\n",
      "0.3333333358168602\n",
      "tensor(-0.0058, grad_fn=<MeanBackward0>)\n",
      "tensor(0.0102, grad_fn=<MeanBackward0>)\n",
      "tensor(0.0015, grad_fn=<MeanBackward0>)\n",
      "tensor(-0.0112, grad_fn=<MeanBackward0>)\n",
      "tensor(0.0023, grad_fn=<MeanBackward0>)\n",
      "tensor(0.0256, grad_fn=<MeanBackward0>)\n",
      "tensor(-0.0013, grad_fn=<MeanBackward0>)\n",
      "tensor(0.0077, grad_fn=<MeanBackward0>)\n",
      "tensor(0.0059, grad_fn=<MeanBackward0>)\n",
      "tensor(0.0078, grad_fn=<MeanBackward0>)\n",
      "tensor(-0.0032, grad_fn=<MeanBackward0>)\n",
      "tensor(-0.0308, grad_fn=<MeanBackward0>)\n",
      "tensor(0.0071, grad_fn=<MeanBackward0>)\n",
      "tensor(0.0025, grad_fn=<MeanBackward0>)\n",
      "tensor(0.0003, grad_fn=<MeanBackward0>)\n",
      "tensor(0.0007, grad_fn=<MeanBackward0>)\n",
      "tensor(-0.0001, grad_fn=<MeanBackward0>)\n",
      "tensor(-0.0014, grad_fn=<MeanBackward0>)\n",
      "tensor(0.0001, grad_fn=<MeanBackward0>)\n",
      "tensor(-0.0015, grad_fn=<MeanBackward0>)\n",
      "tensor(-0.0003, grad_fn=<MeanBackward0>)\n",
      "tensor(0.0071, grad_fn=<MeanBackward0>)\n",
      "tensor(0.0009, grad_fn=<MeanBackward0>)\n",
      "tensor(0.0130, grad_fn=<MeanBackward0>)\n",
      "0.5286458358168602\n",
      "\n",
      "0.5390625\n",
      "tensor(0.0071, grad_fn=<MeanBackward0>)\n",
      "tensor(0.0025, grad_fn=<MeanBackward0>)\n",
      "tensor(0.0003, grad_fn=<MeanBackward0>)\n",
      "tensor(0.0007, grad_fn=<MeanBackward0>)\n",
      "tensor(-0.0001, grad_fn=<MeanBackward0>)\n",
      "tensor(-0.0014, grad_fn=<MeanBackward0>)\n",
      "tensor(0.0001, grad_fn=<MeanBackward0>)\n",
      "tensor(-0.0015, grad_fn=<MeanBackward0>)\n",
      "tensor(-0.0003, grad_fn=<MeanBackward0>)\n",
      "tensor(0.0071, grad_fn=<MeanBackward0>)\n",
      "tensor(0.0009, grad_fn=<MeanBackward0>)\n",
      "tensor(0.0130, grad_fn=<MeanBackward0>)\n"
     ]
    }
   ],
   "source": [
    "state1 = get_Hessian_NN(net1, train_loader = dataloader, prec0 = 0.1, verbose= False)\n",
    "state2 = get_Hessian_NN(net2, train_loader = dataloader, prec0 = 0.1, verbose= False)\n",
    "state4 = get_Hessian_NN(net4, train_loader = dataloader, prec0 = 0.1, verbose= False)\n",
    "state8 = get_Hessian_NN(net8, train_loader = dataloader, prec0 = 0.1, verbose= False)\n",
    "state16 = get_Hessian_NN(net16, train_loader = dataloader, prec0 = 0.1, verbose= False)\n",
    "state32 = get_Hessian_NN(net32, train_loader = dataloader, prec0 = 0.1, verbose= False)\n",
    "state128= get_Hessian_NN(net128, train_loader = dataloader, prec0 = 0.1, verbose= False)"
   ]
  },
  {
   "cell_type": "code",
   "execution_count": 275,
   "metadata": {},
   "outputs": [
    {
     "name": "stdout",
     "output_type": "stream",
     "text": [
      "[2.7847073078155518, 2.71585750579834, 2.2160041332244873, 3.035062074661255, 2.936755895614624, 3.062570571899414, 2.923353910446167]\n"
     ]
    }
   ],
   "source": [
    "lastlayer = []\n",
    "for state in [state1, state2, state4, state8, state16, state32, state128]:\n",
    "    lastl = state[-2]\n",
    "    lastlayer.append(torch.mean(state[-2]).item())\n",
    "print(lastlayer)\n",
    "#print(lastl)"
   ]
  },
  {
   "cell_type": "code",
   "execution_count": 276,
   "metadata": {},
   "outputs": [
    {
     "data": {
      "text/plain": [
       "[<matplotlib.lines.Line2D at 0x7fd5e5298160>]"
      ]
     },
     "execution_count": 276,
     "metadata": {},
     "output_type": "execute_result"
    },
    {
     "data": {
      "image/png": "[encoded data removed]",
      "text/plain": [
       "<Figure size 1440x720 with 1 Axes>"
      ]
     },
     "metadata": {
      "needs_background": "light"
     },
     "output_type": "display_data"
    }
   ],
   "source": [
    "plt.plot(['1', '2', '4', '8', '16', '32', '128'], lastlayer)"
   ]
  },
  {
   "cell_type": "code",
   "execution_count": 219,
   "metadata": {},
   "outputs": [
    {
     "name": "stdout",
     "output_type": "stream",
     "text": [
      "tensor(0.0839, grad_fn=<MeanBackward0>)\n",
      "tensor(-0.0616, grad_fn=<MeanBackward0>)\n",
      "tensor(-0.0010, grad_fn=<MeanBackward0>)\n",
      "tensor(-0.2196, grad_fn=<MeanBackward0>)\n",
      "tensor(0.0331, grad_fn=<MeanBackward0>)\n",
      "tensor(-0.0530, grad_fn=<MeanBackward0>)\n",
      "tensor(-0.0031, grad_fn=<MeanBackward0>)\n",
      "tensor(-0.2425, grad_fn=<MeanBackward0>)\n",
      "tensor(0.0655, grad_fn=<MeanBackward0>)\n",
      "tensor(-0.1911, grad_fn=<MeanBackward0>)\n",
      "tensor(-0.0009, grad_fn=<MeanBackward0>)\n",
      "tensor(0.0570, grad_fn=<MeanBackward0>)\n"
     ]
    }
   ],
   "source": [
    "dummynet = NN(sz=4)\n",
    "for param in dummynet.parameters():\n",
    "    print(torch.mean(param))"
   ]
  },
  {
   "cell_type": "code",
   "execution_count": 249,
   "metadata": {},
   "outputs": [
    {
     "name": "stdout",
     "output_type": "stream",
     "text": [
      "tensor(0.0222, grad_fn=<MeanBackward0>)\n",
      "tensor(0.2148, grad_fn=<MeanBackward0>)\n",
      "tensor(-0.0283, grad_fn=<MeanBackward0>)\n",
      "tensor(0.1204, grad_fn=<MeanBackward0>)\n",
      "tensor(-0.0268, grad_fn=<MeanBackward0>)\n",
      "tensor(-0.1881, grad_fn=<MeanBackward0>)\n",
      "tensor(0.0167, grad_fn=<MeanBackward0>)\n",
      "tensor(0.0875, grad_fn=<MeanBackward0>)\n",
      "tensor(0.0241, grad_fn=<MeanBackward0>)\n",
      "tensor(-0.1148, grad_fn=<MeanBackward0>)\n",
      "tensor(-0.0949, grad_fn=<MeanBackward0>)\n",
      "tensor(-0.1370, grad_fn=<MeanBackward0>)\n"
     ]
    }
   ],
   "source": [
    "dummynet = NN(sz=4)\n",
    "for param in dummynet.parameters():\n",
    "    print(torch.mean(param))"
   ]
  }
 ],
 "metadata": {
  "kernelspec": {
   "display_name": "Python 3",
   "language": "python",
   "name": "python3"
  },
  "language_info": {
   "codemirror_mode": {
    "name": "ipython",
    "version": 3
   },
   "file_extension": ".py",
   "mimetype": "text/x-python",
   "name": "python",
   "nbconvert_exporter": "python",
   "pygments_lexer": "ipython3",
   "version": "3.7.2"
  }
 },
 "nbformat": 4,
 "nbformat_minor": 2
}
