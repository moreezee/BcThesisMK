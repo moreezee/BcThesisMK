{
 "cells": [
  {
   "cell_type": "code",
   "execution_count": 231,
   "metadata": {},
   "outputs": [],
   "source": [
    "import numpy as np\n",
    "from sklearn.datasets import load_iris\n",
    "from sklearn.model_selection import train_test_split\n",
    "import matplotlib.pyplot as plt\n",
    "from scipy.stats import pearsonr, linregress\n",
    "\n",
    "import torch\n",
    "import torch.utils.data as data\n",
    "import torch.nn as nn\n",
    "import torch.nn.functional as F\n",
    "import torch.optim as optim\n",
    "\n",
    "from backpack import backpack, extend\n",
    "from backpack.extensions import DiagHessian, KFAC, DiagGGNExact\n",
    "\n",
    "plt.rcParams[\"figure.figsize\"] = (20,10)"
   ]
  },
  {
   "cell_type": "code",
   "execution_count": 140,
   "metadata": {},
   "outputs": [],
   "source": [
    "class IrisDataset(data.Dataset):\n",
    "    def __init__(self, train=True):\n",
    "        super(IrisDataset, self).__init__()\n",
    "\n",
    "        iris = load_iris()\n",
    "\n",
    "        X, y = iris.data, iris.target\n",
    "        X_train, X_test, y_train, y_test = train_test_split(X, y, test_size=0.2,random_state=42)\n",
    "\n",
    "        if train:\n",
    "            self.inputs, self.labels = X_train, y_train\n",
    "\n",
    "        else:\n",
    "            self.inputs, self.labels = X_test, y_test\n",
    "\n",
    "    def __getitem__(self, index):\n",
    "        inp = torch.Tensor(self.inputs[index])\n",
    "        label = torch.LongTensor([self.labels[index]])\n",
    "        return inp, label\n",
    "\n",
    "    def __len__(self):\n",
    "        return len(self.inputs)\n",
    "\n",
    "dataloader = data.DataLoader(IrisDataset(train=True), batch_size=32, shuffle=True, num_workers=0)"
   ]
  },
  {
   "cell_type": "code",
   "execution_count": 222,
   "metadata": {},
   "outputs": [],
   "source": [
    "def metric(inferred_tensor: torch.Tensor, ground_truth: torch.Tensor) -> torch.Tensor:\n",
    "        \"\"\"Classification Accuracy\n",
    "        example)\n",
    "        inferred_tensor: [[0,0,1], [0,1,0]]\n",
    "        ground_truth: [2, 0]\n",
    "        return: 0.5\n",
    "        :param inferred_tensor: (torch.Tensor) [batch_size, n_classes(3)], inferred logits\n",
    "        :param ground_truth:  (torch.LongTensor) [batch_size], ground truth labels\n",
    "                                each consisting LongTensor ranging from 0 to 2\n",
    "        :return: (torch.Tensor) metric\n",
    "        \"\"\"\n",
    "\n",
    "        inferred_tensor = torch.argmax(inferred_tensor, dim=-1)\n",
    "        acc = torch.mean((inferred_tensor == ground_truth).to(torch.float), dim=-1)\n",
    "        return acc\n",
    "\n",
    "def flattenlist(lst):\n",
    "    flat_list = []\n",
    "    for sublist in lst:\n",
    "        for item in sublist:\n",
    "            flat_list.append(item)\n",
    "    return flat_list"
   ]
  },
  {
   "cell_type": "code",
   "execution_count": 295,
   "metadata": {},
   "outputs": [],
   "source": [
    "def NN(sz):\n",
    "    \n",
    "    features = torch.nn.Sequential(\n",
    "        torch.nn.Linear(4, sz),\n",
    "        torch.nn.Linear(sz, sz),\n",
    "        torch.nn.Linear(sz, sz),\n",
    "        torch.nn.Linear(sz, sz),\n",
    "        torch.nn.Linear(sz, sz),\n",
    "        #extension starts here\n",
    "        torch.nn.Linear(sz, 3)\n",
    "        \n",
    "    )\n",
    "    return(features)\n",
    "\n",
    "def NN_deep(sz):\n",
    "    \n",
    "    features = torch.nn.Sequential(\n",
    "        torch.nn.Linear(4, sz),\n",
    "        torch.nn.Linear(sz, sz),\n",
    "        torch.nn.Linear(sz, sz),\n",
    "        torch.nn.Linear(sz, sz),\n",
    "        torch.nn.Linear(sz, sz),\n",
    "        #extension starts here\n",
    "        torch.nn.Linear(sz, sz),\n",
    "        torch.nn.Linear(sz, sz),\n",
    "        torch.nn.Linear(sz, sz),\n",
    "        torch.nn.Linear(sz, sz),\n",
    "        torch.nn.Linear(sz, 3)\n",
    "        \n",
    "    )\n",
    "    return(features)\n",
    "\n",
    "net = NN(sz= 100)\n",
    "\n",
    "lossfunction = torch.nn.CrossEntropyLoss()\n",
    "optimizer = torch.optim.SGD(net.parameters(), lr=0.01, momentum=0.5)"
   ]
  },
  {
   "cell_type": "code",
   "execution_count": 291,
   "metadata": {},
   "outputs": [],
   "source": [
    "def train_iris(model, criterion, optim, num_epochs, device = 'cpu'):\n",
    "    for epoch in range(num_epochs):\n",
    "        train_loss = torch.Tensor([0]).to(device)\n",
    "        train_acc = torch.Tensor([0]).to(device)\n",
    "\n",
    "        for x, y in dataloader:\n",
    "            x = x.to(device)\n",
    "            y= y.squeeze(-1).to(device)\n",
    "\n",
    "            optimizer.zero_grad()\n",
    "            y_ = model(x)\n",
    "\n",
    "            loss = criterion(y_, y)\n",
    "            train_loss +=loss\n",
    "            loss.backward()\n",
    "            optimizer.step()\n",
    "\n",
    "            acc = metric(y_, y)\n",
    "            train_acc += acc\n",
    "\n",
    "        train_loss /= len(dataloader)\n",
    "        train_acc /= len(dataloader)\n",
    "\n",
    "        print('[{curr}/{tot}] >Loss: {loss:.2f}, Acc: {acc:.2f}%'.format(\n",
    "            curr = epoch+1,\n",
    "            tot = num_epochs,\n",
    "            loss = train_loss.detach().cpu().item(),\n",
    "            acc = float(100*train_acc.detach().cpu().item())\n",
    "        ))"
   ]
  },
  {
   "cell_type": "code",
   "execution_count": 292,
   "metadata": {},
   "outputs": [
    {
     "name": "stdout",
     "output_type": "stream",
     "text": [
      "[1/200] >Loss: 1.10, Acc: 32.55%\n",
      "[2/200] >Loss: 1.10, Acc: 33.07%\n",
      "[3/200] >Loss: 1.10, Acc: 33.33%\n",
      "[4/200] >Loss: 1.09, Acc: 33.85%\n",
      "[5/200] >Loss: 1.09, Acc: 32.81%\n",
      "[6/200] >Loss: 1.09, Acc: 32.81%\n",
      "[7/200] >Loss: 1.09, Acc: 33.07%\n",
      "[8/200] >Loss: 1.09, Acc: 35.68%\n",
      "[9/200] >Loss: 1.08, Acc: 55.99%\n",
      "[10/200] >Loss: 1.08, Acc: 76.82%\n",
      "[11/200] >Loss: 1.08, Acc: 88.80%\n",
      "[12/200] >Loss: 1.08, Acc: 70.31%\n",
      "[13/200] >Loss: 1.07, Acc: 44.01%\n",
      "[14/200] >Loss: 1.07, Acc: 34.90%\n",
      "[15/200] >Loss: 1.07, Acc: 40.10%\n",
      "[16/200] >Loss: 1.06, Acc: 35.94%\n",
      "[17/200] >Loss: 1.06, Acc: 40.62%\n",
      "[18/200] >Loss: 1.05, Acc: 33.07%\n",
      "[19/200] >Loss: 1.05, Acc: 33.07%\n",
      "[20/200] >Loss: 1.04, Acc: 32.29%\n",
      "[21/200] >Loss: 1.03, Acc: 32.55%\n",
      "[22/200] >Loss: 1.03, Acc: 31.51%\n",
      "[23/200] >Loss: 1.02, Acc: 32.03%\n",
      "[24/200] >Loss: 1.01, Acc: 46.61%\n",
      "[25/200] >Loss: 0.99, Acc: 49.48%\n",
      "[26/200] >Loss: 0.97, Acc: 54.69%\n",
      "[27/200] >Loss: 0.95, Acc: 65.89%\n",
      "[28/200] >Loss: 0.93, Acc: 65.89%\n",
      "[29/200] >Loss: 0.89, Acc: 65.89%\n",
      "[30/200] >Loss: 0.85, Acc: 66.15%\n",
      "[31/200] >Loss: 0.79, Acc: 65.62%\n",
      "[32/200] >Loss: 0.73, Acc: 67.19%\n",
      "[33/200] >Loss: 0.65, Acc: 68.49%\n",
      "[34/200] >Loss: 0.57, Acc: 67.71%\n",
      "[35/200] >Loss: 0.52, Acc: 68.23%\n",
      "[36/200] >Loss: 0.48, Acc: 68.23%\n",
      "[37/200] >Loss: 0.46, Acc: 68.75%\n",
      "[38/200] >Loss: 0.43, Acc: 69.79%\n",
      "[39/200] >Loss: 0.43, Acc: 70.05%\n",
      "[40/200] >Loss: 0.42, Acc: 69.53%\n",
      "[41/200] >Loss: 0.41, Acc: 77.60%\n",
      "[42/200] >Loss: 0.39, Acc: 77.86%\n",
      "[43/200] >Loss: 0.39, Acc: 77.08%\n",
      "[44/200] >Loss: 0.38, Acc: 84.38%\n",
      "[45/200] >Loss: 0.37, Acc: 84.90%\n",
      "[46/200] >Loss: 0.36, Acc: 86.72%\n",
      "[47/200] >Loss: 0.36, Acc: 85.42%\n",
      "[48/200] >Loss: 0.35, Acc: 86.98%\n",
      "[49/200] >Loss: 0.35, Acc: 88.28%\n",
      "[50/200] >Loss: 0.34, Acc: 88.02%\n",
      "[51/200] >Loss: 0.32, Acc: 90.36%\n",
      "[52/200] >Loss: 0.31, Acc: 91.15%\n",
      "[53/200] >Loss: 0.31, Acc: 89.32%\n",
      "[54/200] >Loss: 0.29, Acc: 91.41%\n",
      "[55/200] >Loss: 0.30, Acc: 91.41%\n",
      "[56/200] >Loss: 0.28, Acc: 92.71%\n",
      "[57/200] >Loss: 0.27, Acc: 93.49%\n",
      "[58/200] >Loss: 0.25, Acc: 93.49%\n",
      "[59/200] >Loss: 0.24, Acc: 95.05%\n",
      "[60/200] >Loss: 0.23, Acc: 95.05%\n",
      "[61/200] >Loss: 0.26, Acc: 89.06%\n",
      "[62/200] >Loss: 0.22, Acc: 95.31%\n",
      "[63/200] >Loss: 0.21, Acc: 95.83%\n",
      "[64/200] >Loss: 0.22, Acc: 91.15%\n",
      "[65/200] >Loss: 0.21, Acc: 92.19%\n",
      "[66/200] >Loss: 0.26, Acc: 90.36%\n",
      "[67/200] >Loss: 0.32, Acc: 81.25%\n",
      "[68/200] >Loss: 0.34, Acc: 83.33%\n",
      "[69/200] >Loss: 0.22, Acc: 92.45%\n",
      "[70/200] >Loss: 0.25, Acc: 89.32%\n",
      "[71/200] >Loss: 0.38, Acc: 76.56%\n",
      "[72/200] >Loss: 0.18, Acc: 95.05%\n",
      "[73/200] >Loss: 0.24, Acc: 87.50%\n",
      "[74/200] >Loss: 0.37, Acc: 84.38%\n",
      "[75/200] >Loss: 0.26, Acc: 87.50%\n",
      "[76/200] >Loss: 0.22, Acc: 90.62%\n",
      "[77/200] >Loss: 0.15, Acc: 95.05%\n",
      "[78/200] >Loss: 0.13, Acc: 97.40%\n",
      "[79/200] >Loss: 0.16, Acc: 95.57%\n",
      "[80/200] >Loss: 0.30, Acc: 85.42%\n",
      "[81/200] >Loss: 0.12, Acc: 96.88%\n",
      "[82/200] >Loss: 0.14, Acc: 94.27%\n",
      "[83/200] >Loss: 0.13, Acc: 94.27%\n",
      "[84/200] >Loss: 0.13, Acc: 96.61%\n",
      "[85/200] >Loss: 0.11, Acc: 96.09%\n",
      "[86/200] >Loss: 0.15, Acc: 92.19%\n",
      "[87/200] >Loss: 0.13, Acc: 96.09%\n",
      "[88/200] >Loss: 0.29, Acc: 89.84%\n",
      "[89/200] >Loss: 0.15, Acc: 93.49%\n",
      "[90/200] >Loss: 0.11, Acc: 95.83%\n",
      "[91/200] >Loss: 0.10, Acc: 98.44%\n",
      "[92/200] >Loss: 0.18, Acc: 94.53%\n",
      "[93/200] >Loss: 0.12, Acc: 97.14%\n",
      "[94/200] >Loss: 0.21, Acc: 89.32%\n",
      "[95/200] >Loss: 0.08, Acc: 96.09%\n",
      "[96/200] >Loss: 0.09, Acc: 97.40%\n",
      "[97/200] >Loss: 0.22, Acc: 89.58%\n",
      "[98/200] >Loss: 0.14, Acc: 96.88%\n",
      "[99/200] >Loss: 0.12, Acc: 94.79%\n",
      "[100/200] >Loss: 0.38, Acc: 82.55%\n",
      "[101/200] >Loss: 0.14, Acc: 92.97%\n",
      "[102/200] >Loss: 0.13, Acc: 95.83%\n",
      "[103/200] >Loss: 0.12, Acc: 95.05%\n",
      "[104/200] >Loss: 0.10, Acc: 96.35%\n",
      "[105/200] >Loss: 0.11, Acc: 96.88%\n",
      "[106/200] >Loss: 0.15, Acc: 95.05%\n",
      "[107/200] >Loss: 0.11, Acc: 95.57%\n",
      "[108/200] >Loss: 0.09, Acc: 96.09%\n",
      "[109/200] >Loss: 0.12, Acc: 95.83%\n",
      "[110/200] >Loss: 0.10, Acc: 96.88%\n",
      "[111/200] >Loss: 0.09, Acc: 95.83%\n",
      "[112/200] >Loss: 0.09, Acc: 97.66%\n",
      "[113/200] >Loss: 0.11, Acc: 95.83%\n",
      "[114/200] >Loss: 0.11, Acc: 95.05%\n",
      "[115/200] >Loss: 0.15, Acc: 94.79%\n",
      "[116/200] >Loss: 0.15, Acc: 93.49%\n",
      "[117/200] >Loss: 0.09, Acc: 96.09%\n",
      "[118/200] >Loss: 0.09, Acc: 97.66%\n",
      "[119/200] >Loss: 0.10, Acc: 97.40%\n",
      "[120/200] >Loss: 0.15, Acc: 94.01%\n",
      "[121/200] >Loss: 0.12, Acc: 95.31%\n",
      "[122/200] >Loss: 0.11, Acc: 97.66%\n",
      "[123/200] >Loss: 0.16, Acc: 94.27%\n",
      "[124/200] >Loss: 0.23, Acc: 88.80%\n",
      "[125/200] >Loss: 0.17, Acc: 92.71%\n",
      "[126/200] >Loss: 0.13, Acc: 97.40%\n",
      "[127/200] >Loss: 0.15, Acc: 92.19%\n",
      "[128/200] >Loss: 0.15, Acc: 92.97%\n",
      "[129/200] >Loss: 0.11, Acc: 95.83%\n",
      "[130/200] >Loss: 0.08, Acc: 97.66%\n",
      "[131/200] >Loss: 0.10, Acc: 96.61%\n",
      "[132/200] >Loss: 0.09, Acc: 97.14%\n",
      "[133/200] >Loss: 0.15, Acc: 93.49%\n",
      "[134/200] >Loss: 0.19, Acc: 93.23%\n",
      "[135/200] >Loss: 0.11, Acc: 96.88%\n",
      "[136/200] >Loss: 0.09, Acc: 95.83%\n",
      "[137/200] >Loss: 0.10, Acc: 97.92%\n",
      "[138/200] >Loss: 0.09, Acc: 95.57%\n",
      "[139/200] >Loss: 0.11, Acc: 97.66%\n",
      "[140/200] >Loss: 0.14, Acc: 94.27%\n",
      "[141/200] >Loss: 0.20, Acc: 92.71%\n",
      "[142/200] >Loss: 0.12, Acc: 94.53%\n",
      "[143/200] >Loss: 0.12, Acc: 94.53%\n",
      "[144/200] >Loss: 0.11, Acc: 96.88%\n",
      "[145/200] >Loss: 0.08, Acc: 96.61%\n",
      "[146/200] >Loss: 0.14, Acc: 94.27%\n",
      "[147/200] >Loss: 0.18, Acc: 92.97%\n",
      "[148/200] >Loss: 0.18, Acc: 92.19%\n",
      "[149/200] >Loss: 0.07, Acc: 98.44%\n",
      "[150/200] >Loss: 0.09, Acc: 96.61%\n",
      "[151/200] >Loss: 0.09, Acc: 95.57%\n",
      "[152/200] >Loss: 0.12, Acc: 95.31%\n",
      "[153/200] >Loss: 0.25, Acc: 90.10%\n",
      "[154/200] >Loss: 0.09, Acc: 97.40%\n",
      "[155/200] >Loss: 0.09, Acc: 97.40%\n",
      "[156/200] >Loss: 0.07, Acc: 96.88%\n",
      "[157/200] >Loss: 0.08, Acc: 96.88%\n",
      "[158/200] >Loss: 0.08, Acc: 97.66%\n",
      "[159/200] >Loss: 0.21, Acc: 92.71%\n",
      "[160/200] >Loss: 0.43, Acc: 79.95%\n",
      "[161/200] >Loss: 0.22, Acc: 90.62%\n",
      "[162/200] >Loss: 0.10, Acc: 97.14%\n",
      "[163/200] >Loss: 0.11, Acc: 94.27%\n",
      "[164/200] >Loss: 0.10, Acc: 95.57%\n",
      "[165/200] >Loss: 0.09, Acc: 97.92%\n",
      "[166/200] >Loss: 0.08, Acc: 96.09%\n",
      "[167/200] >Loss: 0.12, Acc: 95.05%\n",
      "[168/200] >Loss: 0.10, Acc: 96.88%\n",
      "[169/200] >Loss: 0.09, Acc: 97.40%\n",
      "[170/200] >Loss: 0.07, Acc: 97.66%\n",
      "[171/200] >Loss: 0.09, Acc: 97.66%\n",
      "[172/200] >Loss: 0.09, Acc: 97.14%\n",
      "[173/200] >Loss: 0.10, Acc: 95.05%\n",
      "[174/200] >Loss: 0.07, Acc: 96.88%\n",
      "[175/200] >Loss: 0.11, Acc: 95.57%\n",
      "[176/200] >Loss: 0.08, Acc: 96.88%\n",
      "[177/200] >Loss: 0.07, Acc: 98.44%\n",
      "[178/200] >Loss: 0.11, Acc: 95.05%\n",
      "[179/200] >Loss: 0.11, Acc: 96.88%\n",
      "[180/200] >Loss: 0.08, Acc: 96.88%\n",
      "[181/200] >Loss: 0.10, Acc: 96.61%\n",
      "[182/200] >Loss: 0.07, Acc: 97.66%\n",
      "[183/200] >Loss: 0.07, Acc: 97.14%\n",
      "[184/200] >Loss: 0.10, Acc: 96.09%\n",
      "[185/200] >Loss: 0.11, Acc: 95.05%\n",
      "[186/200] >Loss: 0.07, Acc: 96.35%\n",
      "[187/200] >Loss: 0.07, Acc: 96.88%\n",
      "[188/200] >Loss: 0.15, Acc: 94.27%\n",
      "[189/200] >Loss: 0.07, Acc: 98.18%\n",
      "[190/200] >Loss: 0.10, Acc: 95.57%\n",
      "[191/200] >Loss: 0.08, Acc: 96.88%\n",
      "[192/200] >Loss: 0.08, Acc: 97.66%\n",
      "[193/200] >Loss: 0.08, Acc: 97.66%\n",
      "[194/200] >Loss: 0.08, Acc: 97.66%\n",
      "[195/200] >Loss: 0.14, Acc: 93.49%\n",
      "[196/200] >Loss: 0.12, Acc: 95.05%\n",
      "[197/200] >Loss: 0.07, Acc: 98.44%\n",
      "[198/200] >Loss: 0.11, Acc: 96.88%\n",
      "[199/200] >Loss: 0.09, Acc: 95.83%\n",
      "[200/200] >Loss: 0.08, Acc: 97.40%\n"
     ]
    }
   ],
   "source": [
    "train_iris(net, lossfunction, optimizer, 200)"
   ]
  },
  {
   "cell_type": "code",
   "execution_count": 241,
   "metadata": {},
   "outputs": [],
   "source": [
    "def get_Hessian_NN(model, train_loader, prec0, device='cpu', verbose=True):\n",
    "    lossfunc = lossfunction\n",
    "\n",
    "    extend(lossfunc, debug=False)\n",
    "    extend(model, debug=False)\n",
    "\n",
    "    Cov_diag = []\n",
    "    for param in model.parameters():\n",
    "        ps = param.size()\n",
    "        print(\"parameter size: \", ps)\n",
    "        Cov_diag.append(torch.zeros(ps, device=device))\n",
    "        #print(param.numel())\n",
    "\n",
    "    #var0 = 1/prec0\n",
    "    max_len = len(train_loader)\n",
    "\n",
    "    with backpack(DiagHessian()):\n",
    "\n",
    "        for batch_idx, (x, y) in enumerate(train_loader):\n",
    "            \n",
    "            \n",
    "            #if device == 'cuda':\n",
    "            #    x, y = x.float().cuda(), y.long().cuda()\n",
    "            #else:\n",
    "            #    x, y = torch.tensor(x).float(), torch.tensor(y).float()\n",
    "            #print(x, y)\n",
    "            x = x.to(device)\n",
    "            y= y.squeeze(-1).to(device)\n",
    "\n",
    "            model.zero_grad()\n",
    "            #x, y = x.view(-1, 1), y.view(-1, 1) \n",
    "                        \n",
    "            lossfunc(model(x), y).backward()\n",
    "\n",
    "            with torch.no_grad():\n",
    "                # Hessian of weight\n",
    "                for idx, param in enumerate(model.parameters()):\n",
    "\n",
    "                    H_ = param.diag_h\n",
    "                    #print(H_)\n",
    "                    #add prior here\n",
    "                    H_ += prec0 * torch.ones(H_.size())\n",
    "                    H_inv = torch.sqrt(1/H_) #<-- standard deviation\n",
    "                    #H_inv = 1/H_              #<-- variance \n",
    "\n",
    "                    rho = 1-1/(batch_idx+1)\n",
    "\n",
    "                    Cov_diag[idx] = rho*Cov_diag[idx] + (1-rho)* H_inv\n",
    "            \n",
    "            if verbose:\n",
    "                print(\"Batch: {}/{}\".format(batch_idx, max_len))\n",
    "    \n",
    "    return(Cov_diag)"
   ]
  },
  {
   "cell_type": "markdown",
   "metadata": {},
   "source": [
    "## Analyze IRIS (depth: 6 hl)"
   ]
  },
  {
   "cell_type": "markdown",
   "metadata": {},
   "source": [
    "### width: 1"
   ]
  },
  {
   "cell_type": "code",
   "execution_count": 246,
   "metadata": {},
   "outputs": [],
   "source": [
    "#iris_state_1 = net.state_dict()"
   ]
  },
  {
   "cell_type": "code",
   "execution_count": 312,
   "metadata": {},
   "outputs": [
    {
     "name": "stdout",
     "output_type": "stream",
     "text": [
      "parameter size:  torch.Size([1, 4])\n",
      "parameter size:  torch.Size([1])\n",
      "parameter size:  torch.Size([1, 1])\n",
      "parameter size:  torch.Size([1])\n",
      "parameter size:  torch.Size([1, 1])\n",
      "parameter size:  torch.Size([1])\n",
      "parameter size:  torch.Size([1, 1])\n",
      "parameter size:  torch.Size([1])\n",
      "parameter size:  torch.Size([1, 1])\n",
      "parameter size:  torch.Size([1])\n",
      "parameter size:  torch.Size([3, 1])\n",
      "parameter size:  torch.Size([3])\n",
      "tensor(0.9079)\n",
      "tensor(1.1527)\n",
      "tensor(1.0444)\n",
      "tensor(1.0858)\n",
      "tensor(1.0019)\n",
      "tensor(1.4574)\n"
     ]
    }
   ],
   "source": [
    "net = NN(sz=1)\n",
    "net.load_state_dict(iris_state_1)\n",
    "perceptronDiagH = get_Hessian_NN(model=net, train_loader=dataloader, prec0=0.1, verbose=False)\n",
    "width1 = []\n",
    "for i, param in enumerate(perceptronDiagH):\n",
    "    if i %2 == 0:\n",
    "        print(torch.mean(param))\n",
    "        width1.append(torch.mean(param).item())"
   ]
  },
  {
   "cell_type": "markdown",
   "metadata": {},
   "source": [
    "### width: 5"
   ]
  },
  {
   "cell_type": "code",
   "execution_count": 252,
   "metadata": {},
   "outputs": [],
   "source": [
    "#iris_state_5 = net.state_dict()"
   ]
  },
  {
   "cell_type": "code",
   "execution_count": 310,
   "metadata": {},
   "outputs": [
    {
     "name": "stdout",
     "output_type": "stream",
     "text": [
      "parameter size:  torch.Size([5, 4])\n",
      "parameter size:  torch.Size([5])\n",
      "parameter size:  torch.Size([5, 5])\n",
      "parameter size:  torch.Size([5])\n",
      "parameter size:  torch.Size([5, 5])\n",
      "parameter size:  torch.Size([5])\n",
      "parameter size:  torch.Size([5, 5])\n",
      "parameter size:  torch.Size([5])\n",
      "parameter size:  torch.Size([5, 5])\n",
      "parameter size:  torch.Size([5])\n",
      "parameter size:  torch.Size([3, 5])\n",
      "parameter size:  torch.Size([3])\n",
      "tensor(2.1194)\n",
      "tensor(2.9759)\n",
      "tensor(2.9510)\n",
      "tensor(2.6608)\n",
      "tensor(2.6108)\n",
      "tensor(2.5472)\n"
     ]
    }
   ],
   "source": [
    "net = NN(sz=5)\n",
    "net.load_state_dict(iris_state_5)\n",
    "perceptronDiagH = get_Hessian_NN(model=net, train_loader=dataloader, prec0=0.1, verbose=False)\n",
    "width5 = []\n",
    "for i, param in enumerate(perceptronDiagH):\n",
    "    if i %2 == 0:\n",
    "        print(torch.mean(param))\n",
    "        width5.append(torch.mean(param).item())"
   ]
  },
  {
   "cell_type": "markdown",
   "metadata": {},
   "source": [
    "### width: 20"
   ]
  },
  {
   "cell_type": "code",
   "execution_count": 262,
   "metadata": {},
   "outputs": [],
   "source": [
    "#iris_state_20 = net.state_dict()"
   ]
  },
  {
   "cell_type": "code",
   "execution_count": 308,
   "metadata": {},
   "outputs": [
    {
     "name": "stdout",
     "output_type": "stream",
     "text": [
      "parameter size:  torch.Size([20, 4])\n",
      "parameter size:  torch.Size([20])\n",
      "parameter size:  torch.Size([20, 20])\n",
      "parameter size:  torch.Size([20])\n",
      "parameter size:  torch.Size([20, 20])\n",
      "parameter size:  torch.Size([20])\n",
      "parameter size:  torch.Size([20, 20])\n",
      "parameter size:  torch.Size([20])\n",
      "parameter size:  torch.Size([20, 20])\n",
      "parameter size:  torch.Size([20])\n",
      "parameter size:  torch.Size([3, 20])\n",
      "parameter size:  torch.Size([3])\n",
      "tensor(1.9645)\n",
      "tensor(2.7689)\n",
      "tensor(2.9961)\n",
      "tensor(3.0473)\n",
      "tensor(3.0544)\n",
      "tensor(2.6483)\n"
     ]
    }
   ],
   "source": [
    "net = NN(sz=20)\n",
    "net.load_state_dict(iris_state_20)\n",
    "perceptronDiagH = get_Hessian_NN(model=net, train_loader=dataloader, prec0=0.1, verbose=False)\n",
    "width20 = []\n",
    "for i, param in enumerate(perceptronDiagH):\n",
    "    if i %2 == 0:\n",
    "        print(torch.mean(param))\n",
    "        width20.append(torch.mean(param).item())"
   ]
  },
  {
   "cell_type": "markdown",
   "metadata": {},
   "source": [
    "### width: 100"
   ]
  },
  {
   "cell_type": "code",
   "execution_count": 267,
   "metadata": {},
   "outputs": [],
   "source": [
    "#iris_state_100 = net.state_dict()"
   ]
  },
  {
   "cell_type": "code",
   "execution_count": 306,
   "metadata": {},
   "outputs": [
    {
     "name": "stdout",
     "output_type": "stream",
     "text": [
      "parameter size:  torch.Size([100, 4])\n",
      "parameter size:  torch.Size([100])\n",
      "parameter size:  torch.Size([100, 100])\n",
      "parameter size:  torch.Size([100])\n",
      "parameter size:  torch.Size([100, 100])\n",
      "parameter size:  torch.Size([100])\n",
      "parameter size:  torch.Size([100, 100])\n",
      "parameter size:  torch.Size([100])\n",
      "parameter size:  torch.Size([100, 100])\n",
      "parameter size:  torch.Size([100])\n",
      "parameter size:  torch.Size([3, 100])\n",
      "parameter size:  torch.Size([3])\n",
      "tensor(2.6006)\n",
      "tensor(3.0685)\n",
      "tensor(3.1432)\n",
      "tensor(3.1534)\n",
      "tensor(3.1543)\n",
      "tensor(2.9372)\n"
     ]
    }
   ],
   "source": [
    "net = NN(sz=100)\n",
    "net.load_state_dict(iris_state_100)\n",
    "perceptronDiagH = get_Hessian_NN(model=net, train_loader=dataloader, prec0=0.1, verbose=False)\n",
    "width100 = []\n",
    "for i, param in enumerate(perceptronDiagH):\n",
    "    if i %2 == 0:\n",
    "        print(torch.mean(param))\n",
    "        width100.append(torch.mean(param).item())"
   ]
  },
  {
   "cell_type": "code",
   "execution_count": 314,
   "metadata": {},
   "outputs": [
    {
     "data": {
      "text/plain": [
       "<matplotlib.legend.Legend at 0x7fa5b8828e10>"
      ]
     },
     "execution_count": 314,
     "metadata": {},
     "output_type": "execute_result"
    },
    {
     "data": {
      "image/png": "[encoded data removed]",
      "text/plain": [
       "<Figure size 1440x720 with 1 Axes>"
      ]
     },
     "metadata": {
      "needs_background": "light"
     },
     "output_type": "display_data"
    }
   ],
   "source": [
    "line, = plt.plot(layrnames, width100)\n",
    "line.set_label('100')\n",
    "line, = plt.plot(layrnames, width20)\n",
    "line.set_label('20')\n",
    "line, = plt.plot(layrnames, width5)\n",
    "line.set_label('50')\n",
    "line, = plt.plot(layrnames, width1)\n",
    "line.set_label('1')\n",
    "plt.legend()"
   ]
  },
  {
   "cell_type": "markdown",
   "metadata": {},
   "source": [
    "## depth: 10 hl"
   ]
  },
  {
   "cell_type": "markdown",
   "metadata": {},
   "source": [
    "### width: 1"
   ]
  },
  {
   "cell_type": "code",
   "execution_count": 274,
   "metadata": {},
   "outputs": [],
   "source": [
    "#iris_state_1_deep = net.state_dict()"
   ]
  },
  {
   "cell_type": "code",
   "execution_count": 304,
   "metadata": {},
   "outputs": [
    {
     "name": "stdout",
     "output_type": "stream",
     "text": [
      "parameter size:  torch.Size([1, 4])\n",
      "parameter size:  torch.Size([1])\n",
      "parameter size:  torch.Size([1, 1])\n",
      "parameter size:  torch.Size([1])\n",
      "parameter size:  torch.Size([1, 1])\n",
      "parameter size:  torch.Size([1])\n",
      "parameter size:  torch.Size([1, 1])\n",
      "parameter size:  torch.Size([1])\n",
      "parameter size:  torch.Size([1, 1])\n",
      "parameter size:  torch.Size([1])\n",
      "parameter size:  torch.Size([1, 1])\n",
      "parameter size:  torch.Size([1])\n",
      "parameter size:  torch.Size([1, 1])\n",
      "parameter size:  torch.Size([1])\n",
      "parameter size:  torch.Size([1, 1])\n",
      "parameter size:  torch.Size([1])\n",
      "parameter size:  torch.Size([1, 1])\n",
      "parameter size:  torch.Size([1])\n",
      "parameter size:  torch.Size([3, 1])\n",
      "parameter size:  torch.Size([3])\n",
      "tensor(0.9076)\n",
      "tensor(1.5106)\n",
      "tensor(1.7793)\n",
      "tensor(1.7184)\n",
      "tensor(1.7457)\n",
      "tensor(1.7103)\n",
      "tensor(1.5623)\n",
      "tensor(1.4274)\n",
      "tensor(1.4514)\n",
      "tensor(2.1918)\n"
     ]
    }
   ],
   "source": [
    "net = NN_deep(sz=1)\n",
    "net.load_state_dict(iris_state_1_deep)\n",
    "perceptronDiagH = get_Hessian_NN(model=net, train_loader=dataloader, prec0=0.1, verbose=False)\n",
    "width1deep = []\n",
    "for i, param in enumerate(perceptronDiagH):\n",
    "    if i %2 == 0:\n",
    "        print(torch.mean(param))\n",
    "        width1deep.append(torch.mean(param).item())"
   ]
  },
  {
   "cell_type": "markdown",
   "metadata": {},
   "source": [
    "### width: 5"
   ]
  },
  {
   "cell_type": "code",
   "execution_count": 280,
   "metadata": {},
   "outputs": [],
   "source": [
    "#iris_state_5_deep = net.state_dict()"
   ]
  },
  {
   "cell_type": "code",
   "execution_count": 302,
   "metadata": {},
   "outputs": [
    {
     "name": "stdout",
     "output_type": "stream",
     "text": [
      "parameter size:  torch.Size([5, 4])\n",
      "parameter size:  torch.Size([5])\n",
      "parameter size:  torch.Size([5, 5])\n",
      "parameter size:  torch.Size([5])\n",
      "parameter size:  torch.Size([5, 5])\n",
      "parameter size:  torch.Size([5])\n",
      "parameter size:  torch.Size([5, 5])\n",
      "parameter size:  torch.Size([5])\n",
      "parameter size:  torch.Size([5, 5])\n",
      "parameter size:  torch.Size([5])\n",
      "parameter size:  torch.Size([5, 5])\n",
      "parameter size:  torch.Size([5])\n",
      "parameter size:  torch.Size([5, 5])\n",
      "parameter size:  torch.Size([5])\n",
      "parameter size:  torch.Size([5, 5])\n",
      "parameter size:  torch.Size([5])\n",
      "parameter size:  torch.Size([5, 5])\n",
      "parameter size:  torch.Size([5])\n",
      "parameter size:  torch.Size([3, 5])\n",
      "parameter size:  torch.Size([3])\n",
      "tensor(1.5332)\n",
      "tensor(2.9175)\n",
      "tensor(2.9609)\n",
      "tensor(2.9698)\n",
      "tensor(2.9768)\n",
      "tensor(2.9628)\n",
      "tensor(2.9678)\n",
      "tensor(2.9120)\n",
      "tensor(2.7839)\n",
      "tensor(2.6071)\n"
     ]
    }
   ],
   "source": [
    "net = NN_deep(sz=5)\n",
    "net.load_state_dict(iris_state_5_deep)\n",
    "perceptronDiagH = get_Hessian_NN(model=net, train_loader=dataloader, prec0=0.1, verbose=False)\n",
    "width5deep = []\n",
    "for i, param in enumerate(perceptronDiagH):\n",
    "    if i %2 == 0:\n",
    "        print(torch.mean(param))\n",
    "        width5deep.append(torch.mean(param).item())"
   ]
  },
  {
   "cell_type": "markdown",
   "metadata": {},
   "source": [
    "### width: 20"
   ]
  },
  {
   "cell_type": "code",
   "execution_count": 285,
   "metadata": {},
   "outputs": [],
   "source": [
    "#iris_state_20_deep = net.state_dict()"
   ]
  },
  {
   "cell_type": "code",
   "execution_count": 301,
   "metadata": {},
   "outputs": [
    {
     "name": "stdout",
     "output_type": "stream",
     "text": [
      "parameter size:  torch.Size([20, 4])\n",
      "parameter size:  torch.Size([20])\n",
      "parameter size:  torch.Size([20, 20])\n",
      "parameter size:  torch.Size([20])\n",
      "parameter size:  torch.Size([20, 20])\n",
      "parameter size:  torch.Size([20])\n",
      "parameter size:  torch.Size([20, 20])\n",
      "parameter size:  torch.Size([20])\n",
      "parameter size:  torch.Size([20, 20])\n",
      "parameter size:  torch.Size([20])\n",
      "parameter size:  torch.Size([20, 20])\n",
      "parameter size:  torch.Size([20])\n",
      "parameter size:  torch.Size([20, 20])\n",
      "parameter size:  torch.Size([20])\n",
      "parameter size:  torch.Size([20, 20])\n",
      "parameter size:  torch.Size([20])\n",
      "parameter size:  torch.Size([20, 20])\n",
      "parameter size:  torch.Size([20])\n",
      "parameter size:  torch.Size([3, 20])\n",
      "parameter size:  torch.Size([3])\n",
      "tensor(2.5927)\n",
      "tensor(3.1553)\n",
      "tensor(3.1542)\n",
      "tensor(3.1531)\n",
      "tensor(3.1524)\n",
      "tensor(3.1506)\n",
      "tensor(3.1479)\n",
      "tensor(3.1457)\n",
      "tensor(3.1442)\n",
      "tensor(2.9942)\n"
     ]
    }
   ],
   "source": [
    "net = NN_deep(sz=20)\n",
    "net.load_state_dict(iris_state_20_deep)\n",
    "perceptronDiagH = get_Hessian_NN(model=net, train_loader=dataloader, prec0=0.1, verbose=False)\n",
    "width20deep = []\n",
    "for i, param in enumerate(perceptronDiagH):\n",
    "    if i %2 == 0:\n",
    "        print(torch.mean(param))\n",
    "        width20deep.append(torch.mean(param).item())"
   ]
  },
  {
   "cell_type": "markdown",
   "metadata": {},
   "source": [
    "### width: 100"
   ]
  },
  {
   "cell_type": "code",
   "execution_count": 293,
   "metadata": {},
   "outputs": [],
   "source": [
    "#iris_state_100_deep = net.state_dict()"
   ]
  },
  {
   "cell_type": "code",
   "execution_count": 300,
   "metadata": {},
   "outputs": [
    {
     "name": "stdout",
     "output_type": "stream",
     "text": [
      "parameter size:  torch.Size([100, 4])\n",
      "parameter size:  torch.Size([100])\n",
      "parameter size:  torch.Size([100, 100])\n",
      "parameter size:  torch.Size([100])\n",
      "parameter size:  torch.Size([100, 100])\n",
      "parameter size:  torch.Size([100])\n",
      "parameter size:  torch.Size([100, 100])\n",
      "parameter size:  torch.Size([100])\n",
      "parameter size:  torch.Size([100, 100])\n",
      "parameter size:  torch.Size([100])\n",
      "parameter size:  torch.Size([100, 100])\n",
      "parameter size:  torch.Size([100])\n",
      "parameter size:  torch.Size([100, 100])\n",
      "parameter size:  torch.Size([100])\n",
      "parameter size:  torch.Size([100, 100])\n",
      "parameter size:  torch.Size([100])\n",
      "parameter size:  torch.Size([100, 100])\n",
      "parameter size:  torch.Size([100])\n",
      "parameter size:  torch.Size([3, 100])\n",
      "parameter size:  torch.Size([3])\n",
      "tensor(2.7640)\n",
      "tensor(3.0975)\n",
      "tensor(3.1536)\n",
      "tensor(3.1581)\n",
      "tensor(3.1590)\n",
      "tensor(3.1591)\n",
      "tensor(3.1587)\n",
      "tensor(3.1583)\n",
      "tensor(3.1581)\n",
      "tensor(3.0054)\n"
     ]
    }
   ],
   "source": [
    "net = NN_deep(sz=100)\n",
    "net.load_state_dict(iris_state_100_deep)\n",
    "perceptronDiagH = get_Hessian_NN(model=net, train_loader=dataloader, prec0=0.1, verbose=False)\n",
    "width100deep = []\n",
    "for i, param in enumerate(perceptronDiagH):\n",
    "    if i %2 == 0:\n",
    "        print(torch.mean(param))\n",
    "        width100deep.append(torch.mean(param).item())"
   ]
  },
  {
   "cell_type": "code",
   "execution_count": 315,
   "metadata": {},
   "outputs": [
    {
     "data": {
      "text/plain": [
       "<matplotlib.legend.Legend at 0x7fa5b8b334a8>"
      ]
     },
     "execution_count": 315,
     "metadata": {},
     "output_type": "execute_result"
    },
    {
     "data": {
      "image/png": "[encoded data removed]",
      "text/plain": [
       "<Figure size 1440x720 with 1 Axes>"
      ]
     },
     "metadata": {
      "needs_background": "light"
     },
     "output_type": "display_data"
    }
   ],
   "source": [
    "line, = plt.plot(deepnames, width100deep)\n",
    "line.set_label('100')\n",
    "line, = plt.plot(deepnames, width20deep)\n",
    "line.set_label('20')\n",
    "line, = plt.plot(deepnames, width5deep)\n",
    "line.set_label('5')\n",
    "line, = plt.plot(deepnames, width1deep)\n",
    "line.set_label('1')\n",
    "plt.legend()"
   ]
  },
  {
   "cell_type": "code",
   "execution_count": null,
   "metadata": {},
   "outputs": [],
   "source": []
  },
  {
   "cell_type": "code",
   "execution_count": 296,
   "metadata": {},
   "outputs": [],
   "source": [
    "deepnames = []\n",
    "for key in iris_state_100_deep.keys():\n",
    "    if 'weight' in key:\n",
    "        deepnames.append(key)\n",
    "layrnames = []\n",
    "for key in iris_state_100.keys():\n",
    "    if 'weight' in key:\n",
    "        layrnames.append(key)"
   ]
  },
  {
   "cell_type": "code",
   "execution_count": null,
   "metadata": {},
   "outputs": [],
   "source": []
  }
 ],
 "metadata": {
  "kernelspec": {
   "display_name": "Python 3",
   "language": "python",
   "name": "python3"
  },
  "language_info": {
   "codemirror_mode": {
    "name": "ipython",
    "version": 3
   },
   "file_extension": ".py",
   "mimetype": "text/x-python",
   "name": "python",
   "nbconvert_exporter": "python",
   "pygments_lexer": "ipython3",
   "version": "3.7.2"
  }
 },
 "nbformat": 4,
 "nbformat_minor": 2
}
