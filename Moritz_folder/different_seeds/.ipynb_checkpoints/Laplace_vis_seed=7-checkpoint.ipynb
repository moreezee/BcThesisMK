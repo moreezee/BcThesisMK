{
 "cells": [
  {
   "cell_type": "code",
   "execution_count": 1,
   "metadata": {},
   "outputs": [],
   "source": [
    "#import all relevant packages\n",
    "import torch, torchvision\n",
    "import torchvision.transforms as transforms\n",
    "import numpy as np\n",
    "from backpack import backpack, extend\n",
    "from backpack.extensions import DiagHessian\n",
    "import matplotlib.pyplot as plt\n",
    "from torch.distributions.multivariate_normal import MultivariateNormal\n",
    "from torch.distributions.normal import Normal\n",
    "from torch.nn import functional as F\n",
    "\n",
    "s=7\n",
    "np.random.seed(s)\n",
    "torch.manual_seed(s)\n",
    "torch.cuda.manual_seed(s)\n",
    "\n",
    "torch.backends.cudnn.deterministic = True\n",
    "torch.backends.cudnn.benchmark = False"
   ]
  },
  {
   "cell_type": "markdown",
   "metadata": {},
   "source": [
    "# Data wrangling"
   ]
  },
  {
   "cell_type": "code",
   "execution_count": 2,
   "metadata": {},
   "outputs": [],
   "source": [
    "# data wrangling: load MNIST\n",
    "MNIST_transform = transforms.Compose([\n",
    "    transforms.ToTensor(),\n",
    "])\n",
    "\n",
    "\n",
    "MNIST_train = torchvision.datasets.MNIST(\n",
    "        '~/data/mnist',\n",
    "        train=True,\n",
    "        download=True,\n",
    "        transform=MNIST_transform)\n",
    "\n",
    "\n",
    "MNIST_test = torchvision.datasets.MNIST(\n",
    "        '~/data/mnist',\n",
    "        train=False,\n",
    "        download=False,\n",
    "        transform=MNIST_transform)\n"
   ]
  },
  {
   "cell_type": "code",
   "execution_count": 3,
   "metadata": {},
   "outputs": [
    {
     "data": {
      "image/png": "[encoded data removed]",
      "text/plain": [
       "<Figure size 432x288 with 1 Axes>"
      ]
     },
     "metadata": {
      "needs_background": "light"
     },
     "output_type": "display_data"
    }
   ],
   "source": [
    "# have a look at the data to verify\n",
    "def imshow(img):\n",
    "    npimg = img.numpy()\n",
    "    plt.imshow(np.transpose(npimg, (1, 2, 0)))\n",
    "    #plt.imshow(npimg)\n",
    "    plt.show()\n",
    "\n",
    "images = MNIST_train.data[:10].view(10, 1, 28, 28)\n",
    "imshow(torchvision.utils.make_grid(images, nrow=5))\n"
   ]
  },
  {
   "cell_type": "code",
   "execution_count": 4,
   "metadata": {},
   "outputs": [],
   "source": [
    "mnist_train_loader = torch.utils.data.dataloader.DataLoader(\n",
    "    MNIST_train,\n",
    "    batch_size=128,\n",
    "    shuffle=True\n",
    ")\n",
    "\n",
    "mnist_test_loader = torch.utils.data.dataloader.DataLoader(\n",
    "    MNIST_test,\n",
    "    batch_size=128,\n",
    "    shuffle=False,\n",
    ")\n"
   ]
  },
  {
   "cell_type": "markdown",
   "metadata": {},
   "source": [
    "# Training routine"
   ]
  },
  {
   "cell_type": "code",
   "execution_count": 5,
   "metadata": {},
   "outputs": [],
   "source": [
    "#set up the network\n",
    "def NN(num_classes=10):\n",
    "    \n",
    "    features = torch.nn.Sequential(\n",
    "        torch.nn.Conv2d(1, 32, 5),\n",
    "        torch.nn.ReLU(),\n",
    "        torch.nn.MaxPool2d(2,2),\n",
    "        torch.nn.Conv2d(32, 32, 5),\n",
    "        torch.nn.ReLU(),\n",
    "        torch.nn.MaxPool2d(2,2),\n",
    "        torch.nn.Flatten(),\n",
    "        torch.nn.Linear(4 * 4 * 32, num_classes)\n",
    "    )\n",
    "    return(features)\n"
   ]
  },
  {
   "cell_type": "code",
   "execution_count": 6,
   "metadata": {},
   "outputs": [],
   "source": [
    "#set up the training routine\n",
    "mnist_model = NN(num_classes=10)\n",
    "loss_function = torch.nn.CrossEntropyLoss()\n",
    "\n",
    "mnist_train_optimizer = torch.optim.Adam(mnist_model.parameters(), lr=1e-3, weight_decay=5e-4)\n",
    "#dont use SGD, it is way worse than Adam here\n",
    "MNIST_PATH = \"MNIST_weights_seed={}.pth\".format(s)\n",
    "#print(MNIST_PATH)"
   ]
  },
  {
   "cell_type": "code",
   "execution_count": 7,
   "metadata": {},
   "outputs": [],
   "source": [
    "# helper function to get accuracy\n",
    "def get_accuracy(output, targets):\n",
    "    \"\"\"Helper function to print the accuracy\"\"\"\n",
    "    predictions = output.argmax(dim=1, keepdim=True).view_as(targets)\n",
    "    return predictions.eq(targets).float().mean().item()\n"
   ]
  },
  {
   "cell_type": "code",
   "execution_count": 8,
   "metadata": {},
   "outputs": [],
   "source": [
    "# Write the training routine and save the model at FMNIST_PATH\n",
    "\n",
    "def train(verbose=False, num_iter=5):\n",
    "    max_len = len(mnist_train_loader)\n",
    "    for iter in range(num_iter):\n",
    "        for batch_idx, (x, y) in enumerate(mnist_train_loader):\n",
    "            output = mnist_model(x)\n",
    "\n",
    "            accuracy = get_accuracy(output, y)\n",
    "\n",
    "            loss = loss_function(output, y)\n",
    "            loss.backward()\n",
    "            mnist_train_optimizer.step()\n",
    "            mnist_train_optimizer.zero_grad()\n",
    "\n",
    "            if verbose:\n",
    "                if batch_idx % 10 == 0:\n",
    "                    print(\n",
    "                        \"Iteration {}; {}/{} \\t\".format(iter, batch_idx, max_len) +\n",
    "                        \"Minibatch Loss %.3f  \" % (loss) +\n",
    "                        \"Accuracy %.0f\" % (accuracy * 100) + \"%\"\n",
    "                    )\n",
    "\n",
    "    print(\"saving model at: {}\".format(MNIST_PATH))\n",
    "    torch.save(mnist_model.state_dict(), MNIST_PATH)"
   ]
  },
  {
   "cell_type": "code",
   "execution_count": null,
   "metadata": {
    "scrolled": false
   },
   "outputs": [
    {
     "name": "stdout",
     "output_type": "stream",
     "text": [
      "Iteration 0; 0/469 \tMinibatch Loss 2.298  Accuracy 15%\n",
      "Iteration 0; 10/469 \tMinibatch Loss 1.993  Accuracy 55%\n",
      "Iteration 0; 20/469 \tMinibatch Loss 1.184  Accuracy 77%\n",
      "Iteration 0; 30/469 \tMinibatch Loss 0.829  Accuracy 77%\n",
      "Iteration 0; 40/469 \tMinibatch Loss 0.471  Accuracy 84%\n",
      "Iteration 0; 50/469 \tMinibatch Loss 0.411  Accuracy 88%\n",
      "Iteration 0; 60/469 \tMinibatch Loss 0.340  Accuracy 89%\n",
      "Iteration 0; 70/469 \tMinibatch Loss 0.413  Accuracy 90%\n",
      "Iteration 0; 80/469 \tMinibatch Loss 0.317  Accuracy 91%\n",
      "Iteration 0; 90/469 \tMinibatch Loss 0.188  Accuracy 95%\n",
      "Iteration 0; 100/469 \tMinibatch Loss 0.238  Accuracy 95%\n",
      "Iteration 0; 110/469 \tMinibatch Loss 0.197  Accuracy 95%\n",
      "Iteration 0; 120/469 \tMinibatch Loss 0.172  Accuracy 95%\n",
      "Iteration 0; 130/469 \tMinibatch Loss 0.185  Accuracy 95%\n",
      "Iteration 0; 140/469 \tMinibatch Loss 0.161  Accuracy 97%\n",
      "Iteration 0; 150/469 \tMinibatch Loss 0.135  Accuracy 96%\n",
      "Iteration 0; 160/469 \tMinibatch Loss 0.259  Accuracy 91%\n",
      "Iteration 0; 170/469 \tMinibatch Loss 0.131  Accuracy 96%\n",
      "Iteration 0; 180/469 \tMinibatch Loss 0.165  Accuracy 95%\n",
      "Iteration 0; 190/469 \tMinibatch Loss 0.186  Accuracy 95%\n",
      "Iteration 0; 200/469 \tMinibatch Loss 0.276  Accuracy 92%\n",
      "Iteration 0; 210/469 \tMinibatch Loss 0.193  Accuracy 94%\n",
      "Iteration 0; 220/469 \tMinibatch Loss 0.154  Accuracy 95%\n",
      "Iteration 0; 230/469 \tMinibatch Loss 0.069  Accuracy 98%\n",
      "Iteration 0; 240/469 \tMinibatch Loss 0.151  Accuracy 96%\n",
      "Iteration 0; 250/469 \tMinibatch Loss 0.072  Accuracy 99%\n",
      "Iteration 0; 260/469 \tMinibatch Loss 0.092  Accuracy 98%\n",
      "Iteration 0; 270/469 \tMinibatch Loss 0.128  Accuracy 95%\n",
      "Iteration 0; 280/469 \tMinibatch Loss 0.070  Accuracy 98%\n",
      "Iteration 0; 290/469 \tMinibatch Loss 0.082  Accuracy 98%\n",
      "Iteration 0; 300/469 \tMinibatch Loss 0.070  Accuracy 98%\n",
      "Iteration 0; 310/469 \tMinibatch Loss 0.113  Accuracy 97%\n",
      "Iteration 0; 320/469 \tMinibatch Loss 0.184  Accuracy 95%\n",
      "Iteration 0; 330/469 \tMinibatch Loss 0.053  Accuracy 98%\n",
      "Iteration 0; 340/469 \tMinibatch Loss 0.207  Accuracy 95%\n",
      "Iteration 0; 350/469 \tMinibatch Loss 0.073  Accuracy 98%\n",
      "Iteration 0; 360/469 \tMinibatch Loss 0.074  Accuracy 98%\n",
      "Iteration 0; 370/469 \tMinibatch Loss 0.126  Accuracy 97%\n",
      "Iteration 0; 380/469 \tMinibatch Loss 0.195  Accuracy 94%\n",
      "Iteration 0; 390/469 \tMinibatch Loss 0.074  Accuracy 98%\n",
      "Iteration 0; 400/469 \tMinibatch Loss 0.039  Accuracy 99%\n",
      "Iteration 0; 410/469 \tMinibatch Loss 0.056  Accuracy 99%\n",
      "Iteration 0; 420/469 \tMinibatch Loss 0.110  Accuracy 95%\n",
      "Iteration 0; 430/469 \tMinibatch Loss 0.115  Accuracy 97%\n",
      "Iteration 0; 440/469 \tMinibatch Loss 0.069  Accuracy 98%\n",
      "Iteration 0; 450/469 \tMinibatch Loss 0.028  Accuracy 100%\n",
      "Iteration 0; 460/469 \tMinibatch Loss 0.085  Accuracy 96%\n",
      "Iteration 1; 0/469 \tMinibatch Loss 0.078  Accuracy 97%\n",
      "Iteration 1; 10/469 \tMinibatch Loss 0.040  Accuracy 99%\n",
      "Iteration 1; 20/469 \tMinibatch Loss 0.119  Accuracy 98%\n",
      "Iteration 1; 30/469 \tMinibatch Loss 0.071  Accuracy 99%\n",
      "Iteration 1; 40/469 \tMinibatch Loss 0.147  Accuracy 95%\n",
      "Iteration 1; 50/469 \tMinibatch Loss 0.056  Accuracy 98%\n",
      "Iteration 1; 60/469 \tMinibatch Loss 0.129  Accuracy 97%\n",
      "Iteration 1; 70/469 \tMinibatch Loss 0.058  Accuracy 98%\n",
      "Iteration 1; 80/469 \tMinibatch Loss 0.066  Accuracy 97%\n",
      "Iteration 1; 90/469 \tMinibatch Loss 0.114  Accuracy 95%\n",
      "Iteration 1; 100/469 \tMinibatch Loss 0.057  Accuracy 98%\n",
      "Iteration 1; 110/469 \tMinibatch Loss 0.075  Accuracy 98%\n",
      "Iteration 1; 120/469 \tMinibatch Loss 0.089  Accuracy 97%\n",
      "Iteration 1; 130/469 \tMinibatch Loss 0.058  Accuracy 98%\n",
      "Iteration 1; 140/469 \tMinibatch Loss 0.051  Accuracy 98%\n",
      "Iteration 1; 150/469 \tMinibatch Loss 0.127  Accuracy 95%\n",
      "Iteration 1; 160/469 \tMinibatch Loss 0.093  Accuracy 97%\n",
      "Iteration 1; 170/469 \tMinibatch Loss 0.061  Accuracy 98%\n",
      "Iteration 1; 180/469 \tMinibatch Loss 0.098  Accuracy 95%\n",
      "Iteration 1; 190/469 \tMinibatch Loss 0.086  Accuracy 98%\n",
      "Iteration 1; 200/469 \tMinibatch Loss 0.079  Accuracy 96%\n",
      "Iteration 1; 210/469 \tMinibatch Loss 0.073  Accuracy 98%\n",
      "Iteration 1; 220/469 \tMinibatch Loss 0.169  Accuracy 95%\n",
      "Iteration 1; 230/469 \tMinibatch Loss 0.122  Accuracy 95%\n",
      "Iteration 1; 240/469 \tMinibatch Loss 0.062  Accuracy 98%\n",
      "Iteration 1; 250/469 \tMinibatch Loss 0.033  Accuracy 99%\n",
      "Iteration 1; 260/469 \tMinibatch Loss 0.036  Accuracy 98%\n",
      "Iteration 1; 270/469 \tMinibatch Loss 0.053  Accuracy 98%\n",
      "Iteration 1; 280/469 \tMinibatch Loss 0.078  Accuracy 98%\n",
      "Iteration 1; 290/469 \tMinibatch Loss 0.043  Accuracy 99%\n",
      "Iteration 1; 300/469 \tMinibatch Loss 0.077  Accuracy 98%\n",
      "Iteration 1; 310/469 \tMinibatch Loss 0.079  Accuracy 97%\n",
      "Iteration 1; 320/469 \tMinibatch Loss 0.038  Accuracy 99%\n",
      "Iteration 1; 330/469 \tMinibatch Loss 0.071  Accuracy 98%\n",
      "Iteration 1; 340/469 \tMinibatch Loss 0.072  Accuracy 98%\n",
      "Iteration 1; 350/469 \tMinibatch Loss 0.024  Accuracy 99%\n",
      "Iteration 1; 360/469 \tMinibatch Loss 0.023  Accuracy 99%\n",
      "Iteration 1; 370/469 \tMinibatch Loss 0.045  Accuracy 98%\n",
      "Iteration 1; 380/469 \tMinibatch Loss 0.029  Accuracy 100%\n",
      "Iteration 1; 390/469 \tMinibatch Loss 0.044  Accuracy 99%\n",
      "Iteration 1; 400/469 \tMinibatch Loss 0.108  Accuracy 98%\n",
      "Iteration 1; 410/469 \tMinibatch Loss 0.136  Accuracy 97%\n",
      "Iteration 1; 420/469 \tMinibatch Loss 0.053  Accuracy 99%\n",
      "Iteration 1; 430/469 \tMinibatch Loss 0.045  Accuracy 98%\n",
      "Iteration 1; 440/469 \tMinibatch Loss 0.034  Accuracy 99%\n",
      "Iteration 1; 450/469 \tMinibatch Loss 0.047  Accuracy 98%\n",
      "Iteration 1; 460/469 \tMinibatch Loss 0.059  Accuracy 98%\n",
      "Iteration 2; 0/469 \tMinibatch Loss 0.083  Accuracy 97%\n",
      "Iteration 2; 10/469 \tMinibatch Loss 0.135  Accuracy 96%\n",
      "Iteration 2; 20/469 \tMinibatch Loss 0.084  Accuracy 97%\n",
      "Iteration 2; 30/469 \tMinibatch Loss 0.041  Accuracy 98%\n",
      "Iteration 2; 40/469 \tMinibatch Loss 0.051  Accuracy 99%\n",
      "Iteration 2; 50/469 \tMinibatch Loss 0.079  Accuracy 97%\n",
      "Iteration 2; 60/469 \tMinibatch Loss 0.077  Accuracy 97%\n",
      "Iteration 2; 70/469 \tMinibatch Loss 0.066  Accuracy 97%\n",
      "Iteration 2; 80/469 \tMinibatch Loss 0.035  Accuracy 98%\n",
      "Iteration 2; 90/469 \tMinibatch Loss 0.057  Accuracy 97%\n",
      "Iteration 2; 100/469 \tMinibatch Loss 0.085  Accuracy 98%\n",
      "Iteration 2; 110/469 \tMinibatch Loss 0.094  Accuracy 98%\n",
      "Iteration 2; 120/469 \tMinibatch Loss 0.078  Accuracy 98%\n",
      "Iteration 2; 130/469 \tMinibatch Loss 0.037  Accuracy 99%\n",
      "Iteration 2; 140/469 \tMinibatch Loss 0.046  Accuracy 98%\n",
      "Iteration 2; 150/469 \tMinibatch Loss 0.028  Accuracy 99%\n",
      "Iteration 2; 160/469 \tMinibatch Loss 0.115  Accuracy 98%\n",
      "Iteration 2; 170/469 \tMinibatch Loss 0.029  Accuracy 98%\n",
      "Iteration 2; 180/469 \tMinibatch Loss 0.087  Accuracy 97%\n",
      "Iteration 2; 190/469 \tMinibatch Loss 0.081  Accuracy 98%\n",
      "Iteration 2; 200/469 \tMinibatch Loss 0.019  Accuracy 99%\n",
      "Iteration 2; 210/469 \tMinibatch Loss 0.023  Accuracy 99%\n",
      "Iteration 2; 220/469 \tMinibatch Loss 0.033  Accuracy 99%\n"
     ]
    }
   ],
   "source": [
    "#after training it once, comment this out to save time if you rerun the entire script\n",
    "train(verbose=True, num_iter=5)\n"
   ]
  },
  {
   "cell_type": "code",
   "execution_count": null,
   "metadata": {},
   "outputs": [],
   "source": [
    "#predict in distribution\n",
    "MNIST_PATH = \"MNIST_weights_seed={}.pth\".format(s)\n",
    "\n",
    "mnist_model = NN(num_classes=10)\n",
    "print(\"loading model from: {}\".format(MNIST_PATH))\n",
    "mnist_model.load_state_dict(torch.load(MNIST_PATH))\n",
    "mnist_model.eval()\n",
    "\n",
    "acc = []\n",
    "\n",
    "max_len = len(mnist_test_loader)\n",
    "for batch_idx, (x, y) in enumerate(mnist_test_loader):\n",
    "        output = mnist_model(x)\n",
    "        accuracy = get_accuracy(output, y)\n",
    "        if batch_idx % 10 == 0:\n",
    "            print(\n",
    "                \"Batch {}/{} \\t\".format(batch_idx, max_len) + \n",
    "                \"Accuracy %.0f\" % (accuracy * 100) + \"%\"\n",
    "            )\n",
    "        acc.append(accuracy)\n",
    "    \n",
    "avg_acc = np.mean(acc)\n",
    "print('overall test accuracy on MNIST: {:.02f} %'.format(avg_acc * 100))"
   ]
  },
  {
   "cell_type": "markdown",
   "metadata": {},
   "source": [
    "# Laplace approximation of the weights\n",
    "* we use the BackPACK package to approximate the Hessian of the parameters. Especially look at the DiagHessian() method.\n",
    "* we do one iteration over the entire training set and use the mean of the Hessian of the mini-batches as the best approximation of the Hessian.\n",
    "* we add a prior variance to our Hessian. The precision is 1 over the variance. we use a prior precision of 10, 20, and 50 (or variance of 1/10, 1/20, 1/50).\n",
    "    * edit: I will use precicisions of 10, 60, 120, 1000 in the following\n"
   ]
  },
  {
   "cell_type": "code",
   "execution_count": null,
   "metadata": {},
   "outputs": [],
   "source": [
    "def get_Hessian_NN(model, train_loader, prec0, device='cpu', verbose=True):\n",
    "    lossfunc = torch.nn.CrossEntropyLoss()\n",
    "\n",
    "    extend(lossfunc, debug=False)\n",
    "    extend(model, debug=False)\n",
    "\n",
    "    Cov_diag = []\n",
    "    for param in model.parameters():\n",
    "        ps = param.size()\n",
    "        print(\"parameter size: \", ps)\n",
    "        Cov_diag.append(torch.zeros(ps, device=device))\n",
    "        #print(param.numel())\n",
    "\n",
    "    #var0 = 1/prec0\n",
    "    max_len = len(train_loader)\n",
    "\n",
    "    with backpack(DiagHessian()):\n",
    "\n",
    "        for batch_idx, (x, y) in enumerate(train_loader):\n",
    "\n",
    "            if device == 'cuda':\n",
    "                x, y = x.float().cuda(), y.long().cuda()\n",
    "\n",
    "            model.zero_grad()\n",
    "            lossfunc(model(x), y).backward()\n",
    "\n",
    "            with torch.no_grad():\n",
    "                # Hessian of weight\n",
    "                for idx, param in enumerate(model.parameters()):\n",
    "\n",
    "                    H_ = param.diag_h\n",
    "                    #add prior here\n",
    "                    H_ += prec0 * torch.ones(H_.size())\n",
    "                    H_inv = torch.sqrt(1/H_) #<-- standard deviation\n",
    "                    #H_inv = 1/H_              #<-- variance \n",
    "\n",
    "                    rho = 1-1/(batch_idx+1)\n",
    "\n",
    "                    Cov_diag[idx] = rho*Cov_diag[idx] + (1-rho)* H_inv\n",
    "            \n",
    "            if verbose:\n",
    "                print(\"Batch: {}/{}\".format(batch_idx, max_len))\n",
    "    \n",
    "    return(Cov_diag)"
   ]
  },
  {
   "cell_type": "code",
   "execution_count": null,
   "metadata": {},
   "outputs": [],
   "source": [
    "MNIST_NN_Std_prec_1 = get_Hessian_NN(model=mnist_model, train_loader=mnist_train_loader, prec0=1,verbose=False)\n",
    "MNIST_NN_Std_prec_01 = get_Hessian_NN(model=mnist_model, train_loader=mnist_train_loader, prec0=0.1,verbose=False)\n",
    "MNIST_NN_Std_prec_001 = get_Hessian_NN(model=mnist_model, train_loader=mnist_train_loader, prec0=0.01,verbose=False)\n",
    "MNIST_NN_Std_prec_0001 = get_Hessian_NN(model=mnist_model, train_loader=mnist_train_loader, prec0=0.001,verbose=False)\n",
    "MNIST_NN_Std_prec_00001 = get_Hessian_NN(model=mnist_model, train_loader=mnist_train_loader, prec0=0.0001,verbose=False)\n",
    "MNIST_NN_Std_prec_000001 = get_Hessian_NN(model=mnist_model, train_loader=mnist_train_loader, prec0=0.00001,verbose=False)"
   ]
  },
  {
   "cell_type": "markdown",
   "metadata": {},
   "source": [
    "## As you can see, the variance gets smaller, the higher the precision gets"
   ]
  },
  {
   "cell_type": "markdown",
   "metadata": {},
   "source": [
    "## Now we want to look at the single layers of our network, and how they behave w.r.t. the variance\n",
    "* every tensor represents one of the six layers of out network\n"
   ]
  },
  {
   "cell_type": "code",
   "execution_count": null,
   "metadata": {},
   "outputs": [],
   "source": [
    "\"\"\"\n",
    "print(\"precision 10:\")\n",
    "meancalc(MNIST_NN_Hessian_diag_10)\n",
    "print(\"precision 60:\")\n",
    "meancalc(MNIST_NN_Hessian_diag_60)\n",
    "print(\"precision 120:\")\n",
    "meancalc(MNIST_NN_Hessian_diag_120)\n",
    "print(\"precision 1000:\")\n",
    "meancalc(MNIST_NN_Hessian_diag_1000)\n",
    "\"\"\""
   ]
  },
  {
   "cell_type": "code",
   "execution_count": null,
   "metadata": {
    "scrolled": true
   },
   "outputs": [],
   "source": [
    "\"\"\"\n",
    "from PIL import Image\n",
    "yticks = np.arange(10, 0, step=1)\n",
    "xticks = np.arange(0, 512, step=100)\n",
    "a = np.array(MNIST_NN_Hessian_diag_10[4])\n",
    "plt.yticks = yticks\n",
    "plt.xticks = xticks\n",
    "plt.plot(a)\n",
    "plt.show()\n",
    "\"\"\""
   ]
  },
  {
   "cell_type": "code",
   "execution_count": null,
   "metadata": {},
   "outputs": [],
   "source": [
    "\"\"\"\n",
    "import seaborn as sns\n",
    "test = MNIST_NN_Hessian_diag_10[0][0]\n",
    "test2 = MNIST_NN_Hessian_diag_10[0][1]\n",
    "testit = np.concatenate((test, test2))\n",
    "testittp = testit.transpose(2, 0, 1).reshape(5, -1)\n",
    "arr = np.array(testittp)\n",
    "print(testit)\n",
    "print(\"---\")\n",
    "print(arr)\n",
    "ax = sns.heatmap(arr, linewidth=0.5)\n",
    "plt.show()\n",
    "\"\"\""
   ]
  },
  {
   "cell_type": "markdown",
   "metadata": {},
   "source": [
    "## visualize the first layer of our networks in a heatmap\n",
    "* therefore we put the tensor in the right form/dimensions, by concatening all of its included arrays and then reshaping the tensor\n"
   ]
  },
  {
   "cell_type": "code",
   "execution_count": null,
   "metadata": {},
   "outputs": [],
   "source": [
    "\"\"\"\n",
    "import seaborn as sns\n",
    "def visualize(tensor):\n",
    "    output = tensor[0][0]\n",
    "    for i in range(1, len(tensor[0])):\n",
    "        output = np.concatenate((output, tensor[0][i]))\n",
    "    output = output.transpose(2, 0, 1).reshape(5, -1)\n",
    "    heatmap = sns.heatmap(output)\n",
    "    plt.xticks = (np.arange(0, step=20))\n",
    "    plt.show()\n",
    "\"\"\"   "
   ]
  },
  {
   "cell_type": "code",
   "execution_count": null,
   "metadata": {},
   "outputs": [],
   "source": [
    "#visualize(MNIST_NN_Hessian_diag_10)"
   ]
  },
  {
   "cell_type": "code",
   "execution_count": null,
   "metadata": {},
   "outputs": [],
   "source": [
    "def meancalc2(Hessian_diag_x):\n",
    "    i = 0 \n",
    "    for name, parameter in mnist_model.named_parameters():\n",
    "        mean = torch.mean(Hessian_diag_x[i])\n",
    "        print(\"mean standard deviation of layer {0:s}: {1:.4f}\".format(name, mean.item()))\n",
    "        i += 1\n",
    "    \n"
   ]
  },
  {
   "cell_type": "code",
   "execution_count": null,
   "metadata": {},
   "outputs": [],
   "source": [
    "meancalc2(Hessian_diag_x=MNIST_NN_Std_prec_00001)"
   ]
  },
  {
   "cell_type": "code",
   "execution_count": null,
   "metadata": {},
   "outputs": [],
   "source": [
    "plt.imshow(MNIST_NN_Std_prec_00001[4], cmap='gist_stern',extent=[0,512,0,1],  aspect='auto')\n",
    "ax = plt.gca()\n",
    "ax.set_xticks(np.arange(1, 512, 32));\n",
    "ax.set_xticklabels(np.arange(1, 32, 2));\n",
    "ax.set_title('seed {}'.format(s))\n",
    "plt.colorbar()\n",
    "plt.tight_layout()\n",
    "plt.show()\n",
    "plt.savefig('linear_seed1000={}'.format(s))"
   ]
  },
  {
   "cell_type": "code",
   "execution_count": null,
   "metadata": {},
   "outputs": [],
   "source": [
    "for name, parameters in mnist_model.named_parameters():\n",
    "    if name == '7.weight':\n",
    "        params = parameters\n",
    "\n",
    "params_arr = params.detach().numpy()\n",
    "\n",
    "plt.imshow(params_arr, cmap='prism',extent=[0,512,0,1],  aspect='auto')\n",
    "ax = plt.gca()\n",
    "ax.set_xticks(np.arange(1, 512, 32));\n",
    "ax.set_xticklabels(np.arange(1, 32, 2));\n",
    "ax.set_title('weight {}'.format(s))\n",
    "plt.colorbar()\n",
    "plt.tight_layout()\n",
    "im = plt.show()\n",
    "plt.hist(params_arr)"
   ]
  },
  {
   "cell_type": "code",
   "execution_count": null,
   "metadata": {},
   "outputs": [],
   "source": []
  },
  {
   "cell_type": "code",
   "execution_count": null,
   "metadata": {},
   "outputs": [],
   "source": []
  },
  {
   "cell_type": "code",
   "execution_count": null,
   "metadata": {},
   "outputs": [],
   "source": []
  },
  {
   "cell_type": "code",
   "execution_count": null,
   "metadata": {},
   "outputs": [],
   "source": []
  },
  {
   "cell_type": "code",
   "execution_count": null,
   "metadata": {},
   "outputs": [],
   "source": []
  }
 ],
 "metadata": {
  "kernelspec": {
   "display_name": "Python 3",
   "language": "python",
   "name": "python3"
  },
  "language_info": {
   "codemirror_mode": {
    "name": "ipython",
    "version": 3
   },
   "file_extension": ".py",
   "mimetype": "text/x-python",
   "name": "python",
   "nbconvert_exporter": "python",
   "pygments_lexer": "ipython3",
   "version": "3.7.2"
  }
 },
 "nbformat": 4,
 "nbformat_minor": 2
}
